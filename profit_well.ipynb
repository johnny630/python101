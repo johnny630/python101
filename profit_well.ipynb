{
 "metadata": {
  "language_info": {
   "codemirror_mode": {
    "name": "ipython",
    "version": 3
   },
   "file_extension": ".py",
   "mimetype": "text/x-python",
   "name": "python",
   "nbconvert_exporter": "python",
   "pygments_lexer": "ipython3",
   "version": "3.9.1-final"
  },
  "orig_nbformat": 2,
  "kernelspec": {
   "name": "python3",
   "display_name": "Python 3.9.1 64-bit ('jupyter')",
   "metadata": {
    "interpreter": {
     "hash": "8de192e7759cbbf981d4d38b2a0f48e56a85185a8abc1a1b03fdc13a049871e2"
    }
   }
  }
 },
 "nbformat": 4,
 "nbformat_minor": 2,
 "cells": [
  {
   "source": [
    "# ProfitWell testing"
   ],
   "cell_type": "markdown",
   "metadata": {}
  },
  {
   "cell_type": "code",
   "execution_count": 121,
   "metadata": {},
   "outputs": [],
   "source": [
    "import urllib\n",
    "import requests # pip install requests \n",
    "import calendar;\n",
    "import time;\n",
    "import json\n",
    "\n",
    "headers = {\n",
    "  'Content-Type': 'application/json',\n",
    "  'Authorization': '7f68c9b3acf02c17ab97e6681f51f071'\n",
    "}"
   ]
  },
  {
   "source": [
    "## new purchase testing"
   ],
   "cell_type": "markdown",
   "metadata": {}
  },
  {
   "cell_type": "code",
   "execution_count": 65,
   "metadata": {},
   "outputs": [],
   "source": []
  },
  {
   "cell_type": "code",
   "execution_count": 187,
   "metadata": {},
   "outputs": [],
   "source": [
    "def create_sub_payload(user, plan, status='active'):\n",
    "    payload = {\n",
    "        \"user_alias\": user['id'],\n",
    "        \"email\": user['email'],\n",
    "        \"plan_id\": plan['id'],\n",
    "        \"plan_interval\": plan['interval'],\n",
    "        \"plan_currency\": plan['currency'],\n",
    "        \"status\": status,\n",
    "        \"value\": plan['price'],\n",
    "        \"effective_date\": calendar.timegm(time.gmtime())\n",
    "    }\n",
    "    return payload\n",
    "\n",
    "def update_sub_payload(plan, status='active'):\n",
    "    payload = {\n",
    "        'plan_id': plan['id'],\n",
    "        'plan_interval': plan['interval'],\n",
    "        'value': plan['price'],\n",
    "        'status': status,\n",
    "        \"effective_date\": calendar.timegm(time.gmtime())\n",
    "    }\n",
    "    return payload\n",
    "\n",
    "\n",
    "# def make_single_payload(user, plan, status='active'):\n",
    "#     payload = {\n",
    "#         \"user_alias\": user['id'],\n",
    "#         \"subscription_alias\": user['gateway_subscription_id'],\n",
    "#         \"email\": user['email'],\n",
    "#         \"plan_id\": plan['id'],\n",
    "#         \"plan_currency\": plan['currency'],\n",
    "#         \"status\": status,\n",
    "#         \"value\": plan['price'],\n",
    "#         \"effective_date\": calendar.timegm(time.gmtime()),\n",
    "#         \"plan_interval\": 'n/a'\n",
    "#     }\n",
    "#     return payload"
   ]
  },
  {
   "cell_type": "code",
   "execution_count": 94,
   "metadata": {},
   "outputs": [
    {
     "output_type": "execute_result",
     "data": {
      "text/plain": [
       "{'user_alias': '2',\n",
       " 'subscription_alias': '000003',\n",
       " 'email': 'johnny2_first_buy@test.com',\n",
       " 'plan_id': '1',\n",
       " 'plan_interval': 'month',\n",
       " 'plan_currency': 'usd',\n",
       " 'status': 'trialing',\n",
       " 'value': 5000,\n",
       " 'effective_date': 1617704463}"
      ]
     },
     "metadata": {},
     "execution_count": 94
    }
   ],
   "source": [
    "make_payload(user, plan, 'trialing')"
   ]
  },
  {
   "source": [
    "### Test api status"
   ],
   "cell_type": "markdown",
   "metadata": {}
  },
  {
   "cell_type": "code",
   "execution_count": 195,
   "metadata": {},
   "outputs": [
    {
     "output_type": "stream",
     "name": "stdout",
     "text": [
      "200 \n"
     ]
    }
   ],
   "source": [
    "r = requests.get('https://api.profitwell.com/v2/api-status/', headers=headers)\n",
    "print(r.status_code, r.text)"
   ]
  },
  {
   "source": [
    "### Create subscription"
   ],
   "cell_type": "markdown",
   "metadata": {}
  },
  {
   "cell_type": "code",
   "execution_count": 89,
   "metadata": {},
   "outputs": [
    {
     "output_type": "stream",
     "name": "stdout",
     "text": [
      "201 {\"user_id\":\"pwu_GRBMXQZOL4ZP\",\"subscription_id\":\"pws_UCLaWCrBgblB\",\"user_alias\":\"2\",\"subscription_alias\":\"000003\",\"email\":\"johnny2_first_buy@test.com\",\"plan_id\":\"1\",\"plan_interval\":\"month\",\"plan_currency\":\"usd\",\"status\":\"active\",\"value\":5000,\"effective_date\":1617677697,\"meta\":{}}\n"
     ]
    }
   ],
   "source": [
    "user = {\n",
    "    \"id\": \"2\",\n",
    "    \"email\": \"johnny2_first_buy@test.com\",\n",
    "    \"gateway_subscription_id\": '000003'\n",
    "}\n",
    "\n",
    "plan = {\n",
    "    'id': \"1\",\n",
    "    'interval': 'month',\n",
    "    'currency': 'usd',\n",
    "    'price': 5000\n",
    "}\n",
    "\n",
    "r = requests.post('https://api.profitwell.com/v2/subscriptions/', data = json.dumps(make_payload(user, plan)), headers=headers)\n",
    "print(r.status_code, r.text)"
   ]
  },
  {
   "source": [
    "### churning subscription"
   ],
   "cell_type": "markdown",
   "metadata": {}
  },
  {
   "cell_type": "code",
   "execution_count": 92,
   "metadata": {},
   "outputs": [
    {
     "output_type": "stream",
     "name": "stdout",
     "text": [
      "400 {\"non_field_errors\":[\"This subscription is already scheduled to churn. To move the churn date, you must un-churn this subscription first\"]}\n"
     ]
    }
   ],
   "source": [
    "gateway_subscription_id = '000003'\n",
    "subscription_alians = gateway_subscription_id\n",
    "\n",
    "r = requests.delete(f'https://api.profitwell.com/v2/subscriptions/{subscription_alians}/?effective_date={calendar.timegm(time.gmtime())}&churn_type=voluntary', headers=headers)\n",
    "print(r.status_code, r.text)"
   ]
  },
  {
   "cell_type": "code",
   "execution_count": 194,
   "metadata": {},
   "outputs": [
    {
     "output_type": "stream",
     "name": "stdout",
     "text": [
      "200 [{\"user_id\":\"pwu_tswTJCFkat4A\",\"subscription_id\":\"pws_hxoWpOSy0YFs\",\"user_alias\":\"21\",\"subscription_alias\":null,\"email\":\"year_cancel_user_21@test.com\",\"plan_id\":\"12\",\"plan_interval\":\"year\",\"plan_currency\":\"usd\",\"status\":\"active\",\"value\":9588,\"effective_date\":1618383645,\"meta\":{}},{\"user_id\":\"pwu_tswTJCFkat4A\",\"subscription_id\":\"pws_hxoWpOSy0YFs\",\"user_alias\":\"21\",\"subscription_alias\":null,\"email\":\"year_cancel_user_21@test.com\",\"plan_id\":\"12\",\"plan_interval\":\"year\",\"plan_currency\":\"usd\",\"status\":\"churned_voluntary\",\"value\":0,\"effective_date\":1620975683,\"meta\":{\"churn_type\":\"voluntary\"}}]\n"
     ]
    }
   ],
   "source": [
    "## Get profitwell user info\n",
    "user_alias = '21'\n",
    "\n",
    "r = requests.get(f'https://api.profitwell.com/v2/users/{user_alias}', headers=headers)\n",
    "print(r.status_code, r.text)"
   ]
  },
  {
   "source": [
    "## testing scenario\n",
    "1. trail -> month\n",
    "1. trail -> month -> cancel\n",
    "1. trail -> month -> discount\n",
    "1. trail -> month -> discount -> cancel\n",
    "1. trail -> cancel\n",
    "1. year\n",
    "1. year -> cancel\n",
    "1. year -> discount\n",
    "1. year -> discount -> cancel\n"
   ],
   "cell_type": "markdown",
   "metadata": {}
  },
  {
   "source": [
    "### 1. trail -> month"
   ],
   "cell_type": "markdown",
   "metadata": {}
  },
  {
   "cell_type": "code",
   "execution_count": 148,
   "metadata": {},
   "outputs": [
    {
     "output_type": "stream",
     "name": "stdout",
     "text": [
      "201 {\"user_id\":\"pwu_RetIOpd9GjRX\",\"subscription_id\":\"pws_Ob6rvrlAwH7Q\",\"user_alias\":\"11\",\"subscription_alias\":null,\"email\":\"trail_to_month_user_11@test.com\",\"plan_id\":\"13\",\"plan_interval\":\"month\",\"plan_currency\":\"usd\",\"status\":\"trialing\",\"value\":0,\"effective_date\":1618212257,\"meta\":{}}\n"
     ]
    }
   ],
   "source": [
    "# buy trail   [v]\n",
    "user = {\n",
    "    \"id\": \"11\",\n",
    "    \"email\": \"trail_to_month_user_11@test.com\"\n",
    "}\n",
    "\n",
    "plan = {\n",
    "    'id': \"13\",\n",
    "    'interval': 'month',\n",
    "    'currency': 'usd',\n",
    "    'price': 0\n",
    "}\n",
    "\n",
    "r = requests.post('https://api.profitwell.com/v2/subscriptions/', data = json.dumps(create_sub_payload(user, plan, 'trialing')), headers=headers)\n",
    "print(r.status_code, r.text)"
   ]
  },
  {
   "cell_type": "code",
   "execution_count": 186,
   "metadata": {},
   "outputs": [
    {
     "output_type": "stream",
     "name": "stdout",
     "text": [
      "200 {\"user_id\":\"pwu_RetIOpd9GjRX\",\"subscription_id\":\"pws_Ob6rvrlAwH7Q\",\"user_alias\":\"11\",\"subscription_alias\":null,\"email\":\"trail_to_month_user_11@test.com\",\"plan_id\":\"3\",\"plan_interval\":\"month\",\"plan_currency\":\"usd\",\"status\":\"active\",\"value\":3995,\"effective_date\":1618368944,\"meta\":{}}\n"
     ]
    }
   ],
   "source": [
    "# trail renew to month  [v]\n",
    "profitwell_sub_id = 'pws_Ob6rvrlAwH7Q'\n",
    "\n",
    "switch_plan = {\n",
    "    'id': \"3\",\n",
    "    'interval': 'month',\n",
    "    'price': 3995\n",
    "}\n",
    "\n",
    "r = requests.put(f'https://api.profitwell.com/v2/subscriptions/{profitwell_sub_id}/', data=json.dumps(update_sub_payload(switch_plan)), headers=headers)\n",
    "print(r.status_code, r.text)"
   ]
  },
  {
   "source": [
    "### 2. trail -> month -> cancel"
   ],
   "cell_type": "markdown",
   "metadata": {}
  },
  {
   "cell_type": "code",
   "execution_count": 149,
   "metadata": {},
   "outputs": [
    {
     "output_type": "stream",
     "name": "stdout",
     "text": [
      "201 {\"user_id\":\"pwu_mv7Uq9IuGIaB\",\"subscription_id\":\"pws_mwcKQN15h9PR\",\"user_alias\":\"12\",\"subscription_alias\":null,\"email\":\"trail_month_cancel_user_12@test.com\",\"plan_id\":\"13\",\"plan_interval\":\"month\",\"plan_currency\":\"usd\",\"status\":\"trialing\",\"value\":0,\"effective_date\":1618212823,\"meta\":{}}\n"
     ]
    }
   ],
   "source": [
    "# create trail  [v]\n",
    "user = {\n",
    "    \"id\": \"12\",\n",
    "    \"email\": \"trail_month_cancel_user_12@test.com\"\n",
    "}\n",
    "\n",
    "plan = {\n",
    "    'id': \"13\",\n",
    "    'interval': 'month',\n",
    "    'currency': 'usd',\n",
    "    'price': 0\n",
    "}\n",
    "\n",
    "r = requests.post('https://api.profitwell.com/v2/subscriptions/', data = json.dumps(create_sub_payload(user, plan, 'trialing')), headers=headers)\n",
    "print(r.status_code, r.text)"
   ]
  },
  {
   "cell_type": "code",
   "execution_count": 190,
   "metadata": {},
   "outputs": [
    {
     "output_type": "stream",
     "name": "stdout",
     "text": [
      "200 {\"user_id\":\"pwu_mv7Uq9IuGIaB\",\"subscription_id\":\"pws_mwcKQN15h9PR\",\"user_alias\":\"12\",\"subscription_alias\":null,\"email\":\"trail_month_cancel_user_12@test.com\",\"plan_id\":\"3\",\"plan_interval\":\"month\",\"plan_currency\":\"usd\",\"status\":\"active\",\"value\":3995,\"effective_date\":1618383056,\"meta\":{}}\n"
     ]
    }
   ],
   "source": [
    "# trail renew to month  [v]\n",
    "profitwell_sub_id = 'pws_mwcKQN15h9PR'\n",
    "\n",
    "switch_plan = {\n",
    "    'id': \"3\",\n",
    "    'interval': 'month',\n",
    "    'price': 3995\n",
    "}\n",
    "\n",
    "r = requests.put(f'https://api.profitwell.com/v2/subscriptions/{profitwell_sub_id}/', data=json.dumps(update_sub_payload(switch_plan)), headers=headers)\n",
    "print(r.status_code, r.text)"
   ]
  },
  {
   "cell_type": "code",
   "execution_count": 116,
   "metadata": {},
   "outputs": [
    {
     "output_type": "stream",
     "name": "stdout",
     "text": [
      "200 {\"user_id\":\"pwu_3ndAMCl2gpr8\",\"subscription_id\":\"pws_KljZdhe1NV6V\",\"user_alias\":\"4\",\"subscription_alias\":\"trail_to_month_id_4_plan_3\",\"email\":\"trail_to_month_4@test.com\",\"plan_id\":\"15\",\"plan_interval\":\"month\",\"plan_currency\":\"usd\",\"status\":\"active\",\"value\":995,\"effective_date\":1617770348,\"meta\":{}}\n"
     ]
    }
   ],
   "source": [
    "# month to cancel\n",
    "profitwell_sub_id = 'pws_mwcKQN15h9PR'\n",
    "\n",
    "r = requests.delete(f'https://api.profitwell.com/v2/subscriptions/{profitwell_sub_id}/?effective_date={calendar.timegm(time.gmtime())}&churn_type=voluntary', headers=headers)\n",
    "print(r.status_code, r.text)"
   ]
  },
  {
   "source": [
    "### 3. trail -> month -> discount"
   ],
   "cell_type": "markdown",
   "metadata": {}
  },
  {
   "cell_type": "code",
   "execution_count": 152,
   "metadata": {},
   "outputs": [
    {
     "output_type": "stream",
     "name": "stdout",
     "text": [
      "201 {\"user_id\":\"pwu_EGSlu9AkfB34\",\"subscription_id\":\"pws_88TvsMtiTCzc\",\"user_alias\":\"14\",\"subscription_alias\":null,\"email\":\"trail_month_discount_user_14@test.com\",\"plan_id\":\"13\",\"plan_interval\":\"month\",\"plan_currency\":\"usd\",\"status\":\"trialing\",\"value\":0,\"effective_date\":1618213354,\"meta\":{}}\n"
     ]
    }
   ],
   "source": [
    "# create trail  [v]\n",
    "user = {\n",
    "    \"id\": \"14\",\n",
    "    \"email\": \"trail_month_discount_user_14@test.com\"\n",
    "}\n",
    "\n",
    "plan = {\n",
    "    'id': \"13\",\n",
    "    'interval': 'month',\n",
    "    'currency': 'usd',\n",
    "    'price': 0\n",
    "}\n",
    "\n",
    "r = requests.post('https://api.profitwell.com/v2/subscriptions/', data = json.dumps(create_sub_payload(user, plan, 'trialing')), headers=headers)\n",
    "print(r.status_code, r.text)"
   ]
  },
  {
   "cell_type": "code",
   "execution_count": 184,
   "metadata": {},
   "outputs": [
    {
     "output_type": "stream",
     "name": "stdout",
     "text": [
      "200 {\"user_id\":\"pwu_EGSlu9AkfB34\",\"subscription_id\":\"pws_88TvsMtiTCzc\",\"user_alias\":\"14\",\"subscription_alias\":null,\"email\":\"trail_month_discount_user_14@test.com\",\"plan_id\":\"3\",\"plan_interval\":\"month\",\"plan_currency\":\"usd\",\"status\":\"active\",\"value\":3995,\"effective_date\":1618368927,\"meta\":{}}\n"
     ]
    }
   ],
   "source": [
    "# trail renew to month  [v]\n",
    "profitwell_sub_id = 'pws_88TvsMtiTCzc'\n",
    "\n",
    "switch_plan = {\n",
    "    'id': \"3\",\n",
    "    'interval': 'month',\n",
    "    'price': 3995\n",
    "}\n",
    "\n",
    "r = requests.put(f'https://api.profitwell.com/v2/subscriptions/{profitwell_sub_id}/', data=json.dumps(update_sub_payload(switch_plan)), headers=headers)\n",
    "print(r.status_code, r.text)"
   ]
  },
  {
   "cell_type": "code",
   "execution_count": 191,
   "metadata": {},
   "outputs": [
    {
     "output_type": "stream",
     "name": "stdout",
     "text": [
      "200 {\"user_id\":\"pwu_EGSlu9AkfB34\",\"subscription_id\":\"pws_88TvsMtiTCzc\",\"user_alias\":\"14\",\"subscription_alias\":null,\"email\":\"trail_month_discount_user_14@test.com\",\"plan_id\":\"16\",\"plan_interval\":\"month\",\"plan_currency\":\"usd\",\"status\":\"active\",\"value\":495,\"effective_date\":1618383153,\"meta\":{}}\n"
     ]
    }
   ],
   "source": [
    "# month to discount  [v]\n",
    "profitwell_sub_id = 'pws_88TvsMtiTCzc'\n",
    "\n",
    "switch_plan = {\n",
    "    'id': \"16\",\n",
    "    'interval': 'month',\n",
    "    'price': 495\n",
    "}\n",
    "\n",
    "r = requests.put(f'https://api.profitwell.com/v2/subscriptions/{profitwell_sub_id}/', data=json.dumps(update_sub_payload(switch_plan)), headers=headers)\n",
    "print(r.status_code, r.text)"
   ]
  },
  {
   "source": [
    "### 4. trail -> month -> discount -> cancel"
   ],
   "cell_type": "markdown",
   "metadata": {}
  },
  {
   "cell_type": "code",
   "execution_count": 153,
   "metadata": {},
   "outputs": [
    {
     "output_type": "stream",
     "name": "stdout",
     "text": [
      "201 {\"user_id\":\"pwu_b4dRVI9m0aqq\",\"subscription_id\":\"pws_vOqy1mIc1gVn\",\"user_alias\":\"15\",\"subscription_alias\":null,\"email\":\"trail_month_discount_cancel_user_15@test.com\",\"plan_id\":\"13\",\"plan_interval\":\"month\",\"plan_currency\":\"usd\",\"status\":\"trialing\",\"value\":0,\"effective_date\":1618213377,\"meta\":{}}\n"
     ]
    }
   ],
   "source": [
    "# create trail  [v]\n",
    "user = {\n",
    "    \"id\": \"15\",\n",
    "    \"email\": \"trail_month_discount_cancel_user_15@test.com\"\n",
    "}\n",
    "\n",
    "plan = {\n",
    "    'id': \"13\",\n",
    "    'interval': 'month',\n",
    "    'currency': 'usd',\n",
    "    'price': 0\n",
    "}\n",
    "\n",
    "r = requests.post('https://api.profitwell.com/v2/subscriptions/', data = json.dumps(create_sub_payload(user, plan, 'trialing')), headers=headers)\n",
    "print(r.status_code, r.text)"
   ]
  },
  {
   "cell_type": "code",
   "execution_count": 183,
   "metadata": {},
   "outputs": [
    {
     "output_type": "stream",
     "name": "stdout",
     "text": [
      "200 {\"user_id\":\"pwu_b4dRVI9m0aqq\",\"subscription_id\":\"pws_vOqy1mIc1gVn\",\"user_alias\":\"15\",\"subscription_alias\":null,\"email\":\"trail_month_discount_cancel_user_15@test.com\",\"plan_id\":\"3\",\"plan_interval\":\"month\",\"plan_currency\":\"usd\",\"status\":\"active\",\"value\":3995,\"effective_date\":1618368919,\"meta\":{}}\n"
     ]
    }
   ],
   "source": [
    "# trail renew to month  [v]\n",
    "profitwell_sub_id = 'pws_vOqy1mIc1gVn'\n",
    "\n",
    "switch_plan = {\n",
    "    'id': \"3\",\n",
    "    'interval': 'month',\n",
    "    'price': 3995\n",
    "}\n",
    "\n",
    "r = requests.put(f'https://api.profitwell.com/v2/subscriptions/{profitwell_sub_id}/', data=json.dumps(update_sub_payload(switch_plan)), headers=headers)\n",
    "print(r.status_code, r.text)"
   ]
  },
  {
   "cell_type": "code",
   "execution_count": null,
   "metadata": {},
   "outputs": [],
   "source": [
    "# month to dscount\n",
    "profitwell_sub_id = 'pws_mwcKQN15h9PR'\n",
    "\n",
    "switch_plan = {\n",
    "    'plan_id': \"16\",\n",
    "    'interval': 'month',\n",
    "    'value': 495\n",
    "}\n",
    "\n",
    "r = requests.put(f'https://api.profitwell.com/v2/subscriptions/{profitwell_sub_id}/', data=json.dumps(update_sub_payload(switch_plan)), headers=headers)\n",
    "print(r.status_code, r.text)"
   ]
  },
  {
   "cell_type": "code",
   "execution_count": null,
   "metadata": {},
   "outputs": [],
   "source": [
    "# month to cancel\n",
    "profitwell_sub_id = 'pws_mwcKQN15h9PR'\n",
    "ge\n",
    "r = requests.delete(f'https://api.profitwell.com/v2/subscriptions/{profitwell_sub_id}/?effective_date={calendar.timegm(time.gmtime())}&churn_type=voluntary', headers=headers)\n",
    "print(r.status_code, r.text)"
   ]
  },
  {
   "source": [
    "### 5. trail -> cancel"
   ],
   "cell_type": "markdown",
   "metadata": {}
  },
  {
   "cell_type": "code",
   "execution_count": 154,
   "metadata": {},
   "outputs": [
    {
     "output_type": "stream",
     "name": "stdout",
     "text": [
      "201 {\"user_id\":\"pwu_tc2CJ2i8Vmix\",\"subscription_id\":\"pws_7YHgENYXEtVS\",\"user_alias\":\"16\",\"subscription_alias\":null,\"email\":\"trail_cancel_user_16@test.com\",\"plan_id\":\"13\",\"plan_interval\":\"month\",\"plan_currency\":\"usd\",\"status\":\"trialing\",\"value\":0,\"effective_date\":1618213571,\"meta\":{}}\n"
     ]
    }
   ],
   "source": [
    "# create trail  [v]\n",
    "user = {\n",
    "    \"id\": \"16\",\n",
    "    \"email\": \"trail_cancel_user_16@test.com\"\n",
    "}\n",
    "\n",
    "plan = {\n",
    "    'id': \"13\",\n",
    "    'interval': 'month',\n",
    "    'currency': 'usd',\n",
    "    'price': 0\n",
    "}\n",
    "\n",
    "r = requests.post('https://api.profitwell.com/v2/subscriptions/', data = json.dumps(create_sub_payload(user, plan, 'trialing')), headers=headers)\n",
    "print(r.status_code, r.text)"
   ]
  },
  {
   "cell_type": "code",
   "execution_count": 174,
   "metadata": {},
   "outputs": [
    {
     "output_type": "stream",
     "name": "stdout",
     "text": [
      "200 {\"user_id\":\"pwu_tc2CJ2i8Vmix\",\"subscription_id\":\"pws_7YHgENYXEtVS\",\"user_alias\":\"16\",\"subscription_alias\":null,\"email\":\"trail_cancel_user_16@test.com\",\"plan_id\":\"13\",\"plan_interval\":\"month\",\"plan_currency\":\"usd\",\"status\":\"churned_voluntary\",\"value\":0,\"effective_date\":1618361531,\"meta\":{\"churn_type\":\"voluntary\"}}\n"
     ]
    }
   ],
   "source": [
    "# trail to cancel  [v]\n",
    "profitwell_sub_id = 'pws_7YHgENYXEtVS'\n",
    "\n",
    "r = requests.delete(f'https://api.profitwell.com/v2/subscriptions/{profitwell_sub_id}/?effective_date={calendar.timegm(time.gmtime())}&churn_type=voluntary', headers=headers)\n",
    "print(r.status_code, r.text)"
   ]
  },
  {
   "source": [
    "### 6. year"
   ],
   "cell_type": "markdown",
   "metadata": {}
  },
  {
   "cell_type": "code",
   "execution_count": 159,
   "metadata": {},
   "outputs": [
    {
     "output_type": "stream",
     "name": "stdout",
     "text": [
      "201 {\"user_id\":\"pwu_nzyrrfojLfyn\",\"subscription_id\":\"pws_LmmobnjvYZGQ\",\"user_alias\":\"17\",\"subscription_alias\":null,\"email\":\"year_user_17@test.com\",\"plan_id\":\"12\",\"plan_interval\":\"year\",\"plan_currency\":\"usd\",\"status\":\"active\",\"value\":9588,\"effective_date\":1618214449,\"meta\":{}}\n"
     ]
    }
   ],
   "source": [
    "# create year  [v]\n",
    "user = {\n",
    "    \"id\": \"17\",\n",
    "    \"email\": \"year_user_17@test.com\"\n",
    "}\n",
    "\n",
    "plan = {\n",
    "    'id': \"12\",\n",
    "    'interval': 'year',\n",
    "    'currency': 'usd',\n",
    "    'price': 9588\n",
    "}\n",
    "\n",
    "r = requests.post('https://api.profitwell.com/v2/subscriptions/', data = json.dumps(create_sub_payload(user, plan)), headers=headers)\n",
    "print(r.status_code, r.text)"
   ]
  },
  {
   "source": [
    "### 7. year -> cancel"
   ],
   "cell_type": "markdown",
   "metadata": {}
  },
  {
   "cell_type": "code",
   "execution_count": 192,
   "metadata": {},
   "outputs": [
    {
     "output_type": "stream",
     "name": "stdout",
     "text": [
      "201 {\"user_id\":\"pwu_tswTJCFkat4A\",\"subscription_id\":\"pws_hxoWpOSy0YFs\",\"user_alias\":\"21\",\"subscription_alias\":null,\"email\":\"year_cancel_user_21@test.com\",\"plan_id\":\"12\",\"plan_interval\":\"year\",\"plan_currency\":\"usd\",\"status\":\"active\",\"value\":9588,\"effective_date\":1618383645,\"meta\":{}}\n"
     ]
    }
   ],
   "source": [
    "# create year  [v]\n",
    "user = {\n",
    "    \"id\": \"21\",\n",
    "    \"email\": \"year_cancel_user_21@test.com\"\n",
    "}\n",
    "\n",
    "plan = {\n",
    "    'id': \"12\",\n",
    "    'interval': 'year',\n",
    "    'currency': 'usd',\n",
    "    'price': 9588\n",
    "}\n",
    "\n",
    "r = requests.post('https://api.profitwell.com/v2/subscriptions/', data = json.dumps(create_sub_payload(user, plan)), headers=headers)\n",
    "print(r.status_code, r.text)"
   ]
  },
  {
   "cell_type": "code",
   "execution_count": 175,
   "metadata": {},
   "outputs": [
    {
     "output_type": "stream",
     "name": "stdout",
     "text": [
      "200 {\"user_id\":\"pwu_ofps6zGS4p54\",\"subscription_id\":\"pws_qnXdrhbxoZV4\",\"user_alias\":\"18\",\"subscription_alias\":null,\"email\":\"year_cancel_user_18@test.com\",\"plan_id\":\"12\",\"plan_interval\":\"year\",\"plan_currency\":\"usd\",\"status\":\"churned_voluntary\",\"value\":0,\"effective_date\":1618361630,\"meta\":{\"churn_type\":\"voluntary\"}}\n"
     ]
    }
   ],
   "source": [
    "# year to cancel\n",
    "profitwell_sub_id = 'pws_hxoWpOSy0YFs'\n",
    "\n",
    "r = requests.delete(f'https://api.profitwell.com/v2/subscriptions/{profitwell_sub_id}/?effective_date={calendar.timegm(time.gmtime())}&churn_type=voluntary', headers=headers)\n",
    "print(r.status_code, r.text)"
   ]
  },
  {
   "source": [
    "### 8. year -> discount"
   ],
   "cell_type": "markdown",
   "metadata": {}
  },
  {
   "cell_type": "code",
   "execution_count": 161,
   "metadata": {},
   "outputs": [
    {
     "output_type": "stream",
     "name": "stdout",
     "text": [
      "201 {\"user_id\":\"pwu_lRYIxINJcs5h\",\"subscription_id\":\"pws_WmPjk9ARZsRs\",\"user_alias\":\"19\",\"subscription_alias\":null,\"email\":\"year_discount_user_19@test.com\",\"plan_id\":\"12\",\"plan_interval\":\"year\",\"plan_currency\":\"usd\",\"status\":\"active\",\"value\":9588,\"effective_date\":1618214739,\"meta\":{}}\n"
     ]
    }
   ],
   "source": [
    "# create year  [v]\n",
    "user = {\n",
    "    \"id\": \"19\",\n",
    "    \"email\": \"year_discount_user_19@test.com\"\n",
    "}\n",
    "\n",
    "plan = {\n",
    "    'id': \"12\",\n",
    "    'interval': 'year',\n",
    "    'currency': 'usd',\n",
    "    'price': 9588\n",
    "}\n",
    "\n",
    "r = requests.post('https://api.profitwell.com/v2/subscriptions/', data = json.dumps(create_sub_payload(user, plan)), headers=headers)\n",
    "print(r.status_code, r.text)"
   ]
  },
  {
   "cell_type": "code",
   "execution_count": 188,
   "metadata": {},
   "outputs": [
    {
     "output_type": "stream",
     "name": "stdout",
     "text": [
      "200 {\"user_id\":\"pwu_lRYIxINJcs5h\",\"subscription_id\":\"pws_WmPjk9ARZsRs\",\"user_alias\":\"19\",\"subscription_alias\":null,\"email\":\"year_discount_user_19@test.com\",\"plan_id\":\"16\",\"plan_interval\":\"month\",\"plan_currency\":\"usd\",\"status\":\"active\",\"value\":495,\"effective_date\":1618374039,\"meta\":{}}\n"
     ]
    }
   ],
   "source": [
    "# year to dscount [v]\n",
    "profitwell_sub_id = 'pws_WmPjk9ARZsRs'\n",
    "\n",
    "switch_plan = {\n",
    "    'id': \"16\",\n",
    "    'interval': 'month',\n",
    "    'price': 495\n",
    "}\n",
    "\n",
    "r = requests.put(f'https://api.profitwell.com/v2/subscriptions/{profitwell_sub_id}/', data=json.dumps(update_sub_payload(switch_plan)), headers=headers)\n",
    "print(r.status_code, r.text)"
   ]
  },
  {
   "source": [
    "### 9. year -> discount -> cancel"
   ],
   "cell_type": "markdown",
   "metadata": {}
  },
  {
   "cell_type": "code",
   "execution_count": 163,
   "metadata": {},
   "outputs": [
    {
     "output_type": "stream",
     "name": "stdout",
     "text": [
      "201 {\"user_id\":\"pwu_6DfE5oLLNA6Y\",\"subscription_id\":\"pws_RqYP51rr54EG\",\"user_alias\":\"20\",\"subscription_alias\":null,\"email\":\"year_discount_cancle_user_20@test.com\",\"plan_id\":\"12\",\"plan_interval\":\"year\",\"plan_currency\":\"usd\",\"status\":\"active\",\"value\":9588,\"effective_date\":1618214792,\"meta\":{}}\n"
     ]
    }
   ],
   "source": [
    "# create year  [v]\n",
    "user = {\n",
    "    \"id\": \"20\",\n",
    "    \"email\": \"year_discount_cancle_user_20@test.com\"\n",
    "}\n",
    "\n",
    "plan = {\n",
    "    'id': \"12\",\n",
    "    'interval': 'year',\n",
    "    'currency': 'usd',\n",
    "    'price': 9588\n",
    "}\n",
    "\n",
    "r = requests.post('https://api.profitwell.com/v2/subscriptions/', data = json.dumps(create_sub_payload(user, plan)), headers=headers)\n",
    "print(r.status_code, r.text)"
   ]
  },
  {
   "cell_type": "code",
   "execution_count": 189,
   "metadata": {},
   "outputs": [
    {
     "output_type": "stream",
     "name": "stdout",
     "text": [
      "200 {\"user_id\":\"pwu_mv7Uq9IuGIaB\",\"subscription_id\":\"pws_mwcKQN15h9PR\",\"user_alias\":\"12\",\"subscription_alias\":null,\"email\":\"trail_month_cancel_user_12@test.com\",\"plan_id\":\"16\",\"plan_interval\":\"month\",\"plan_currency\":\"usd\",\"status\":\"active\",\"value\":495,\"effective_date\":1618374055,\"meta\":{}}\n"
     ]
    }
   ],
   "source": [
    "# year to dscount\n",
    "profitwell_sub_id = 'pws_mwcKQN15h9PR'\n",
    "\n",
    "switch_plan = {\n",
    "    'id': \"16\",\n",
    "    'interval': 'month',\n",
    "    'price': 495\n",
    "}\n",
    "\n",
    "r = requests.put(f'https://api.profitwell.com/v2/subscriptions/{profitwell_sub_id}/', data=json.dumps(update_sub_payload(switch_plan)), headers=headers)\n",
    "print(r.status_code, r.text)"
   ]
  },
  {
   "cell_type": "code",
   "execution_count": null,
   "metadata": {},
   "outputs": [],
   "source": [
    "# year to cancel\n",
    "profitwell_sub_id = 'pws_mwcKQN15h9PR'\n",
    "\n",
    "r = requests.delete(f'https://api.profitwell.com/v2/subscriptions/{profitwell_sub_id}/?effective_date={calendar.timegm(time.gmtime())}&churn_type=voluntary', headers=headers)\n",
    "print(r.status_code, r.text)"
   ]
  },
  {
   "source": [
    "### test add trait"
   ],
   "cell_type": "markdown",
   "metadata": {}
  },
  {
   "source": [],
   "cell_type": "markdown",
   "metadata": {}
  },
  {
   "cell_type": "code",
   "execution_count": null,
   "metadata": {},
   "outputs": [],
   "source": []
  },
  {
   "cell_type": "code",
   "execution_count": null,
   "metadata": {},
   "outputs": [],
   "source": []
  },
  {
   "cell_type": "code",
   "execution_count": null,
   "metadata": {},
   "outputs": [],
   "source": []
  },
  {
   "cell_type": "code",
   "execution_count": 200,
   "metadata": {},
   "outputs": [
    {
     "output_type": "stream",
     "name": "stdout",
     "text": [
      "400 {\"params\":\"Customer already has trait (category: 'card_type', trait: 'visa2')\"}\n"
     ]
    }
   ],
   "source": [
    "pyalod = {\n",
    "            \"email\": \"email1@legaltemplates.net\",\n",
    "            \"category\": \"card_type\",\n",
    "            \"trait\": \"visa2\"\n",
    "        }\n",
    "r = requests.put('https://api.profitwell.com/v2/customer_traits/trait/', data = json.dumps(pyalod), headers=headers)\n",
    "print(r.status_code, r.text)"
   ]
  },
  {
   "cell_type": "code",
   "execution_count": 166,
   "metadata": {},
   "outputs": [
    {
     "output_type": "stream",
     "name": "stdout",
     "text": [
      "201 {\"user_id\":\"pwu_pR36J2RpxTqm\",\"subscription_id\":\"pws_Tehm55izB9CI\",\"user_alias\":\"trait_test_1_1618215419\",\"subscription_alias\":null,\"email\":\"trait_test_1_1618215419@test.com\",\"plan_id\":\"12\",\"plan_interval\":\"year\",\"plan_currency\":\"usd\",\"status\":\"active\",\"value\":9588,\"effective_date\":1618215419,\"meta\":{}}\n",
      "204 \n",
      "204 \n",
      "204 \n",
      "204 \n",
      "201 {\"user_id\":\"pwu_sHXQCg6dZvfu\",\"subscription_id\":\"pws_Dxz1fLoozHVA\",\"user_alias\":\"trait_test_2_1618215423\",\"subscription_alias\":null,\"email\":\"trait_test_2_1618215423@test.com\",\"plan_id\":\"12\",\"plan_interval\":\"year\",\"plan_currency\":\"usd\",\"status\":\"active\",\"value\":9588,\"effective_date\":1618215423,\"meta\":{}}\n",
      "204 \n",
      "204 \n",
      "204 \n",
      "204 \n",
      "201 {\"user_id\":\"pwu_xBuJ99ZuDlf8\",\"subscription_id\":\"pws_jWj24NFyl8ei\",\"user_alias\":\"trait_test_3_1618215426\",\"subscription_alias\":null,\"email\":\"trait_test_3_1618215426@test.com\",\"plan_id\":\"12\",\"plan_interval\":\"year\",\"plan_currency\":\"usd\",\"status\":\"active\",\"value\":9588,\"effective_date\":1618215426,\"meta\":{}}\n",
      "204 \n",
      "204 \n",
      "204 \n",
      "204 \n",
      "201 {\"user_id\":\"pwu_he4BJyfKPMhJ\",\"subscription_id\":\"pws_9X2qjC83eZBt\",\"user_alias\":\"trait_test_4_1618215430\",\"subscription_alias\":null,\"email\":\"trait_test_4_1618215430@test.com\",\"plan_id\":\"12\",\"plan_interval\":\"year\",\"plan_currency\":\"usd\",\"status\":\"active\",\"value\":9588,\"effective_date\":1618215430,\"meta\":{}}\n",
      "204 \n",
      "204 \n",
      "204 \n",
      "204 \n"
     ]
    }
   ],
   "source": [
    "\n",
    "for i in range(1, 5):\n",
    "    my_id = f\"trait_test_{i}_{calendar.timegm(time.gmtime())}\"\n",
    "    # create year  [v]\n",
    "    user = {\n",
    "        \"id\": my_id,\n",
    "        \"email\": f\"{my_id}@test.com\"\n",
    "    }\n",
    "\n",
    "    plan = {\n",
    "        'id': \"12\",\n",
    "        'interval': 'year',\n",
    "        'currency': 'usd',\n",
    "        'price': 9588\n",
    "    }\n",
    "\n",
    "    r = requests.post('https://api.profitwell.com/v2/subscriptions/', data = json.dumps(create_sub_payload(user, plan)), headers=headers)\n",
    "    print(r.status_code, r.text)\n",
    "\n",
    "    traits = [\n",
    "        {\n",
    "            \"email\": f\"{my_id}@test.com\",\n",
    "            \"category\": \"card type\",\n",
    "            \"trait\": \"visa\"\n",
    "        },\n",
    "        {\n",
    "            \"email\": f\"{my_id}@test.com\",\n",
    "            \"category\": \"first form\", #what is first form\n",
    "            \"trait\": \"johnny form name\"\n",
    "        },\n",
    "        {\n",
    "            \"email\": f\"{my_id}@test.com\",\n",
    "            \"category\": \"gateway name\",\n",
    "            \"trait\": \"ccbill_internal_eu\"\n",
    "        },\n",
    "        {\n",
    "            \"email\": f\"{my_id}@test.com\",\n",
    "            \"category\": \"utm source\", #what is utm source\n",
    "            \"trait\": \"source xxx\"\n",
    "        },\n",
    "    ]\n",
    "    for trait in traits:\n",
    "        r = requests.put('https://api.profitwell.com/v2/customer_traits/trait/', data = json.dumps(trait), headers=headers)\n",
    "        print(r.status_code, r.text)\n"
   ]
  },
  {
   "source": [
    "### single document"
   ],
   "cell_type": "markdown",
   "metadata": {}
  },
  {
   "cell_type": "code",
   "execution_count": 118,
   "metadata": {},
   "outputs": [
    {
     "output_type": "stream",
     "name": "stdout",
     "text": [
      "400 {\"plan_interval\":[\"This field is required.\"]}\n"
     ]
    }
   ],
   "source": [
    "user = {\n",
    "    \"id\": \"8\",\n",
    "    \"email\": \"single_8@test.com\",\n",
    "    \"gateway_subscription_id\": 'single_id_8_plan_4'\n",
    "}\n",
    "\n",
    "plan = {\n",
    "    'id': \"4\",\n",
    "    'currency': 'usd',\n",
    "    'price': 5995\n",
    "}\n",
    "\n",
    "r = requests.post('https://api.profitwell.com/v2/subscriptions/', data = json.dumps(make_single_payload(user, plan)), headers=headers)\n",
    "print(r.status_code, r.text)"
   ]
  },
  {
   "source": [
    "### new subscription -< cancel"
   ],
   "cell_type": "markdown",
   "metadata": {}
  },
  {
   "cell_type": "code",
   "execution_count": 138,
   "metadata": {},
   "outputs": [
    {
     "output_type": "stream",
     "name": "stdout",
     "text": [
      "400 {\"non_field_errors\":[\"Subscription pws_EAIG75d3rsjO already exists\"]}\n"
     ]
    }
   ],
   "source": [
    "user = {\n",
    "    \"id\": \"9\",\n",
    "    \"email\": \"trail_to_cancel_9@test.com\",\n",
    "    \"gateway_subscription_id\": 'sub_9'\n",
    "}\n",
    "\n",
    "plan = {\n",
    "    'id': \"3\",\n",
    "    'interval': 'month',\n",
    "    'currency': 'usd',\n",
    "    'price': 3995\n",
    "}\n",
    "\n",
    "r = requests.post('https://api.profitwell.com/v2/subscriptions/', data = json.dumps(make_payload(user, plan)), headers=headers)\n",
    "print(r.status_code, r.text)"
   ]
  },
  {
   "cell_type": "code",
   "execution_count": 137,
   "metadata": {},
   "outputs": [
    {
     "output_type": "stream",
     "name": "stdout",
     "text": [
      "200 [{\"user_id\":\"pwu_QtZk0DLx2Vri\",\"subscription_id\":\"pws_EAIG75d3rsjO\",\"user_alias\":\"9\",\"subscription_alias\":\"sub_9\",\"email\":\"trail_to_cancel_9@test.com\",\"plan_id\":\"3\",\"plan_interval\":\"month\",\"plan_currency\":\"usd\",\"status\":\"active\",\"value\":3995,\"effective_date\":1618192241,\"meta\":{}},{\"user_id\":\"pwu_QtZk0DLx2Vri\",\"subscription_id\":\"pws_EAIG75d3rsjO\",\"user_alias\":\"9\",\"subscription_alias\":\"sub_9\",\"email\":\"trail_to_cancel_9@test.com\",\"plan_id\":\"3\",\"plan_interval\":\"month\",\"plan_currency\":\"usd\",\"status\":\"churned_voluntary\",\"value\":0,\"effective_date\":1618196084,\"meta\":{\"churn_type\":\"voluntary\"}}]\n"
     ]
    }
   ],
   "source": [
    "user_alias = '9'\n",
    "\n",
    "r = requests.get(f'https://api.profitwell.com/v2/users/{user_alias}', headers=headers)\n",
    "print(r.status_code, r.text)"
   ]
  },
  {
   "cell_type": "code",
   "execution_count": 136,
   "metadata": {},
   "outputs": [
    {
     "output_type": "stream",
     "name": "stdout",
     "text": [
      "200 {\"user_id\":\"pwu_QtZk0DLx2Vri\",\"subscription_id\":\"pws_EAIG75d3rsjO\",\"user_alias\":\"9\",\"subscription_alias\":\"sub_9\",\"email\":\"trail_to_cancel_9@test.com\",\"plan_id\":\"3\",\"plan_interval\":\"month\",\"plan_currency\":\"usd\",\"status\":\"churned_voluntary\",\"value\":0,\"effective_date\":1618196084,\"meta\":{\"churn_type\":\"voluntary\"}}\n"
     ]
    }
   ],
   "source": [
    "# trail to cancel\n",
    "gateway_subscription_id = 'sub_9'\n",
    "subscription_alians = gateway_subscription_id\n",
    "\n",
    "r = requests.delete(f'https://api.profitwell.com/v2/subscriptions/{subscription_alians}/?effective_date={calendar.timegm(time.gmtime())}&churn_type=voluntary', headers=headers)\n",
    "print(r.status_code, r.text)"
   ]
  },
  {
   "cell_type": "code",
   "execution_count": null,
   "metadata": {},
   "outputs": [],
   "source": []
  }
 ]
}