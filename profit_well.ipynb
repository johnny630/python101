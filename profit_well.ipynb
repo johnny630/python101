{
 "metadata": {
  "language_info": {
   "codemirror_mode": {
    "name": "ipython",
    "version": 3
   },
   "file_extension": ".py",
   "mimetype": "text/x-python",
   "name": "python",
   "nbconvert_exporter": "python",
   "pygments_lexer": "ipython3",
   "version": "3.9.1-final"
  },
  "orig_nbformat": 2,
  "kernelspec": {
   "name": "python3",
   "display_name": "Python 3.9.1 64-bit ('jupyter')",
   "metadata": {
    "interpreter": {
     "hash": "8de192e7759cbbf981d4d38b2a0f48e56a85185a8abc1a1b03fdc13a049871e2"
    }
   }
  }
 },
 "nbformat": 4,
 "nbformat_minor": 2,
 "cells": [
  {
   "source": [
    "# ProfitWell testing"
   ],
   "cell_type": "markdown",
   "metadata": {}
  },
  {
   "cell_type": "code",
   "execution_count": 112,
   "metadata": {},
   "outputs": [],
   "source": [
    "import urllib\n",
    "import requests # pip install requests \n",
    "import calendar;\n",
    "import time;\n",
    "import json\n",
    "\n",
    "headers = {\n",
    "  'Content-Type': 'application/json',\n",
    "  'Authorization': '7f68c9b3acf02c17ab97e6681f51f071'\n",
    "}"
   ]
  },
  {
   "source": [
    "## new purchase testing"
   ],
   "cell_type": "markdown",
   "metadata": {}
  },
  {
   "cell_type": "code",
   "execution_count": 65,
   "metadata": {},
   "outputs": [],
   "source": []
  },
  {
   "cell_type": "code",
   "execution_count": 119,
   "metadata": {},
   "outputs": [],
   "source": [
    "def make_payload(user, plan, status='active'):\n",
    "    payload = {\n",
    "        \"user_alias\": user['id'],\n",
    "        \"subscription_alias\": user['gateway_subscription_id'],\n",
    "        \"email\": user['email'],\n",
    "        \"plan_id\": plan['id'],\n",
    "        \"plan_interval\": plan['interval'],\n",
    "        \"plan_currency\": plan['currency'],\n",
    "        \"status\": status,\n",
    "        \"value\": plan['price'],\n",
    "        \"effective_date\": calendar.timegm(time.gmtime())\n",
    "    }\n",
    "    return payload\n",
    "\n",
    "\n",
    "def make_single_payload(user, plan, status='active'):\n",
    "    payload = {\n",
    "        \"user_alias\": user['id'],\n",
    "        \"subscription_alias\": user['gateway_subscription_id'],\n",
    "        \"email\": user['email'],\n",
    "        \"plan_id\": plan['id'],\n",
    "        \"plan_currency\": plan['currency'],\n",
    "        \"status\": status,\n",
    "        \"value\": plan['price'],\n",
    "        \"effective_date\": calendar.timegm(time.gmtime()),\n",
    "        \"plan_interval\": 'n/a'\n",
    "    }\n",
    "    return payload"
   ]
  },
  {
   "cell_type": "code",
   "execution_count": 94,
   "metadata": {},
   "outputs": [
    {
     "output_type": "execute_result",
     "data": {
      "text/plain": [
       "{'user_alias': '2',\n",
       " 'subscription_alias': '000003',\n",
       " 'email': 'johnny2_first_buy@test.com',\n",
       " 'plan_id': '1',\n",
       " 'plan_interval': 'month',\n",
       " 'plan_currency': 'usd',\n",
       " 'status': 'trialing',\n",
       " 'value': 5000,\n",
       " 'effective_date': 1617704463}"
      ]
     },
     "metadata": {},
     "execution_count": 94
    }
   ],
   "source": [
    "make_payload(user, plan, 'trialing')"
   ]
  },
  {
   "source": [
    "### Test api status"
   ],
   "cell_type": "markdown",
   "metadata": {}
  },
  {
   "cell_type": "code",
   "execution_count": 113,
   "metadata": {},
   "outputs": [
    {
     "output_type": "stream",
     "name": "stdout",
     "text": [
      "200 \n"
     ]
    }
   ],
   "source": [
    "r = requests.get('https://api.profitwell.com/v2/api-status/', headers=headers)\n",
    "print(r.status_code, r.text)"
   ]
  },
  {
   "source": [
    "### Create subscription"
   ],
   "cell_type": "markdown",
   "metadata": {}
  },
  {
   "cell_type": "code",
   "execution_count": 89,
   "metadata": {},
   "outputs": [
    {
     "output_type": "stream",
     "name": "stdout",
     "text": [
      "201 {\"user_id\":\"pwu_GRBMXQZOL4ZP\",\"subscription_id\":\"pws_UCLaWCrBgblB\",\"user_alias\":\"2\",\"subscription_alias\":\"000003\",\"email\":\"johnny2_first_buy@test.com\",\"plan_id\":\"1\",\"plan_interval\":\"month\",\"plan_currency\":\"usd\",\"status\":\"active\",\"value\":5000,\"effective_date\":1617677697,\"meta\":{}}\n"
     ]
    }
   ],
   "source": [
    "user = {\n",
    "    \"id\": \"2\",\n",
    "    \"email\": \"johnny2_first_buy@test.com\",\n",
    "    \"gateway_subscription_id\": '000003'\n",
    "}\n",
    "\n",
    "plan = {\n",
    "    'id': \"1\",\n",
    "    'interval': 'month',\n",
    "    'currency': 'usd',\n",
    "    'price': 5000\n",
    "}\n",
    "\n",
    "r = requests.post('https://api.profitwell.com/v2/subscriptions/', data = json.dumps(make_payload(user, plan)), headers=headers)\n",
    "print(r.status_code, r.text)"
   ]
  },
  {
   "source": [
    "### churning subscription"
   ],
   "cell_type": "markdown",
   "metadata": {}
  },
  {
   "cell_type": "code",
   "execution_count": 92,
   "metadata": {},
   "outputs": [
    {
     "output_type": "stream",
     "name": "stdout",
     "text": [
      "400 {\"non_field_errors\":[\"This subscription is already scheduled to churn. To move the churn date, you must un-churn this subscription first\"]}\n"
     ]
    }
   ],
   "source": [
    "gateway_subscription_id = '000003'\n",
    "subscription_alians = gateway_subscription_id\n",
    "\n",
    "r = requests.delete(f'https://api.profitwell.com/v2/subscriptions/{subscription_alians}/?effective_date={calendar.timegm(time.gmtime())}&churn_type=voluntary', headers=headers)\n",
    "print(r.status_code, r.text)"
   ]
  },
  {
   "source": [
    "## testing scenario\n",
    "1. trail -> month\n",
    "1. trail -> month -> discount\n",
    "1. trail -> cancel\n",
    "1. year\n",
    "1. year -> discount\n",
    "1. year -> cancel\n",
    "1. single\n",
    "1. single -> another single\n",
    "1. single -> trail\n",
    "1. single -> year\n"
   ],
   "cell_type": "markdown",
   "metadata": {}
  },
  {
   "source": [
    "### trail -> month"
   ],
   "cell_type": "markdown",
   "metadata": {}
  },
  {
   "cell_type": "code",
   "execution_count": 95,
   "metadata": {},
   "outputs": [
    {
     "output_type": "stream",
     "name": "stdout",
     "text": [
      "201 {\"user_id\":\"pwu_MeJZeNftF9xn\",\"subscription_id\":\"pws_i9H48QdUL1G9\",\"user_alias\":\"3\",\"subscription_alias\":\"trail_to_month_01\",\"email\":\"trail_to_month@test.com\",\"plan_id\":\"13\",\"plan_interval\":\"month\",\"plan_currency\":\"usd\",\"status\":\"trialing\",\"value\":0,\"effective_date\":1617704495,\"meta\":{}}\n"
     ]
    }
   ],
   "source": [
    "# buy trail\n",
    "user = {\n",
    "    \"id\": \"3\",\n",
    "    \"email\": \"trail_to_month@test.com\",\n",
    "    \"gateway_subscription_id\": 'trail_to_month_01'\n",
    "}\n",
    "\n",
    "plan = {\n",
    "    'id': \"13\",\n",
    "    'interval': 'month',\n",
    "    'currency': 'usd',\n",
    "    'price': 0\n",
    "}\n",
    "\n",
    "r = requests.post('https://api.profitwell.com/v2/subscriptions/', data = json.dumps(make_payload(user, plan, 'trialing')), headers=headers)\n",
    "print(r.status_code, r.text)"
   ]
  },
  {
   "cell_type": "code",
   "execution_count": 98,
   "metadata": {},
   "outputs": [
    {
     "output_type": "stream",
     "name": "stdout",
     "text": [
      "201 {\"user_id\":\"pwu_MeJZeNftF9xn\",\"subscription_id\":\"pws_Y3IlydC6m4Na\",\"user_alias\":\"3\",\"subscription_alias\":\"trail_to_month_id_3_plan_3\",\"email\":\"trail_to_month@test.com\",\"plan_id\":\"3\",\"plan_interval\":\"month\",\"plan_currency\":\"usd\",\"status\":\"active\",\"value\":3995,\"effective_date\":1617758678,\"meta\":{}}\n"
     ]
    }
   ],
   "source": [
    "# trail renew to month\n",
    "user = {\n",
    "    \"id\": \"3\",\n",
    "    \"email\": \"trail_to_month@test.com\",\n",
    "    \"gateway_subscription_id\": 'trail_to_month_id_3_plan_3'\n",
    "}\n",
    "\n",
    "plan = {\n",
    "    'id': \"3\",\n",
    "    'interval': 'month',\n",
    "    'currency': 'usd',\n",
    "    'price': 3995\n",
    "}\n",
    "\n",
    "r = requests.post('https://api.profitwell.com/v2/subscriptions/', data = json.dumps(make_payload(user, plan)), headers=headers)\n",
    "print(r.status_code, r.text)"
   ]
  },
  {
   "source": [
    "### trail -> month -> discount"
   ],
   "cell_type": "markdown",
   "metadata": {}
  },
  {
   "cell_type": "code",
   "execution_count": 110,
   "metadata": {},
   "outputs": [
    {
     "output_type": "stream",
     "name": "stdout",
     "text": [
      "400 {\"non_field_errors\":[\"Subscription pws_PVLeyFE0od6C already exists\"]}\n"
     ]
    }
   ],
   "source": [
    "user = {\n",
    "    \"id\": \"4\",\n",
    "    \"email\": \"trail_to_month_4@test.com\",\n",
    "    \"gateway_subscription_id\": 'trail_to_month_04'\n",
    "}\n",
    "\n",
    "plan = {\n",
    "    'id': \"13\",\n",
    "    'interval': 'month',\n",
    "    'currency': 'usd',\n",
    "    'price': 0\n",
    "}\n",
    "\n",
    "r = requests.post('https://api.profitwell.com/v2/subscriptions/', data = json.dumps(make_payload(user, plan, 'trialing')), headers=headers)\n",
    "print(r.status_code, r.text)"
   ]
  },
  {
   "cell_type": "code",
   "execution_count": 99,
   "metadata": {},
   "outputs": [
    {
     "output_type": "stream",
     "name": "stdout",
     "text": [
      "201 {\"user_id\":\"pwu_3ndAMCl2gpr8\",\"subscription_id\":\"pws_KljZdhe1NV6V\",\"user_alias\":\"4\",\"subscription_alias\":\"trail_to_month_id_4_plan_3\",\"email\":\"trail_to_month_4@test.com\",\"plan_id\":\"3\",\"plan_interval\":\"month\",\"plan_currency\":\"usd\",\"status\":\"active\",\"value\":3995,\"effective_date\":1617758795,\"meta\":{}}\n"
     ]
    }
   ],
   "source": [
    "# trail renew to month\n",
    "user = {\n",
    "    \"id\": \"4\",\n",
    "    \"email\": \"trail_to_month_4@test.com\",\n",
    "    \"gateway_subscription_id\": 'trail_to_month_id_4_plan_3'\n",
    "}\n",
    "\n",
    "plan = {\n",
    "    'id': \"3\",\n",
    "    'interval': 'month',\n",
    "    'currency': 'usd',\n",
    "    'price': 3995\n",
    "}\n",
    "\n",
    "r = requests.post('https://api.profitwell.com/v2/subscriptions/', data = json.dumps(make_payload(user, plan)), headers=headers)\n",
    "print(r.status_code, r.text)"
   ]
  },
  {
   "cell_type": "code",
   "execution_count": 116,
   "metadata": {},
   "outputs": [
    {
     "output_type": "stream",
     "name": "stdout",
     "text": [
      "200 {\"user_id\":\"pwu_3ndAMCl2gpr8\",\"subscription_id\":\"pws_KljZdhe1NV6V\",\"user_alias\":\"4\",\"subscription_alias\":\"trail_to_month_id_4_plan_3\",\"email\":\"trail_to_month_4@test.com\",\"plan_id\":\"15\",\"plan_interval\":\"month\",\"plan_currency\":\"usd\",\"status\":\"active\",\"value\":995,\"effective_date\":1617770348,\"meta\":{}}\n"
     ]
    }
   ],
   "source": [
    "# month to discount\n",
    "gateway_subscription_id = 'trail_to_month_id_4_plan_3'\n",
    "subscription_alians = gateway_subscription_id\n",
    "\n",
    "payload = {\n",
    "    'plan_id': \"15\",\n",
    "    'interval': 'month',\n",
    "    \"status\": \"active\",\n",
    "    'value': 995,\n",
    "    \"effective_date\": calendar.timegm(time.gmtime())\n",
    "}\n",
    "\n",
    "r = requests.put(f'https://api.profitwell.com/v2/subscriptions/{subscription_alians}/', data=json.dumps(payload), headers=headers)\n",
    "print(r.status_code, r.text)"
   ]
  },
  {
   "source": [
    "### trail -> cancel"
   ],
   "cell_type": "markdown",
   "metadata": {}
  },
  {
   "cell_type": "code",
   "execution_count": 101,
   "metadata": {},
   "outputs": [
    {
     "output_type": "stream",
     "name": "stdout",
     "text": [
      "201 {\"user_id\":\"pwu_Aef33LxBYct9\",\"subscription_id\":\"pws_1IWObI6vDtgz\",\"user_alias\":\"6\",\"subscription_alias\":\"trail_to_cancel_id_6_plan_13\",\"email\":\"trail_to_cancel_6@test.com\",\"plan_id\":\"13\",\"plan_interval\":\"month\",\"plan_currency\":\"usd\",\"status\":\"trialing\",\"value\":0,\"effective_date\":1617758927,\"meta\":{}}\n"
     ]
    }
   ],
   "source": [
    "user = {\n",
    "    \"id\": \"6\",\n",
    "    \"email\": \"trail_to_cancel_6@test.com\",\n",
    "    \"gateway_subscription_id\": 'trail_to_cancel_id_6_plan_13'\n",
    "}\n",
    "\n",
    "plan = {\n",
    "    'id': \"13\",\n",
    "    'interval': 'month',\n",
    "    'currency': 'usd',\n",
    "    'price': 0\n",
    "}\n",
    "\n",
    "r = requests.post('https://api.profitwell.com/v2/subscriptions/', data = json.dumps(make_payload(user, plan, 'trialing')), headers=headers)\n",
    "print(r.status_code, r.text)"
   ]
  },
  {
   "cell_type": "code",
   "execution_count": 102,
   "metadata": {},
   "outputs": [
    {
     "output_type": "stream",
     "name": "stdout",
     "text": [
      "200 {\"user_id\":\"pwu_Aef33LxBYct9\",\"subscription_id\":\"pws_1IWObI6vDtgz\",\"user_alias\":\"6\",\"subscription_alias\":\"trail_to_cancel_id_6_plan_13\",\"email\":\"trail_to_cancel_6@test.com\",\"plan_id\":\"13\",\"plan_interval\":\"month\",\"plan_currency\":\"usd\",\"status\":\"churned_voluntary\",\"value\":0,\"effective_date\":1617761422,\"meta\":{\"churn_type\":\"voluntary\"}}\n"
     ]
    }
   ],
   "source": [
    "# trail to cancel\n",
    "gateway_subscription_id = 'trail_to_cancel_id_6_plan_13'\n",
    "subscription_alians = gateway_subscription_id\n",
    "\n",
    "r = requests.delete(f'https://api.profitwell.com/v2/subscriptions/{subscription_alians}/?effective_date={calendar.timegm(time.gmtime())}&churn_type=voluntary', headers=headers)\n",
    "print(r.status_code, r.text)"
   ]
  },
  {
   "source": [
    "### test add trait"
   ],
   "cell_type": "markdown",
   "metadata": {}
  },
  {
   "cell_type": "code",
   "execution_count": 104,
   "metadata": {},
   "outputs": [
    {
     "output_type": "stream",
     "name": "stdout",
     "text": [
      "201 {\"user_id\":\"pwu_lBFWP4Xo5x8Y\",\"subscription_id\":\"pws_XvL9as3krtAV\",\"user_alias\":\"7\",\"subscription_alias\":\"trail_to_month_id_7_plan_3\",\"email\":\"month_7@test.com\",\"plan_id\":\"3\",\"plan_interval\":\"month\",\"plan_currency\":\"usd\",\"status\":\"active\",\"value\":3995,\"effective_date\":1617763883,\"meta\":{}}\n"
     ]
    }
   ],
   "source": [
    "# month\n",
    "user = {\n",
    "    \"id\": \"7\",\n",
    "    \"email\": \"month_7@test.com\",\n",
    "    \"gateway_subscription_id\": 'trail_to_month_id_7_plan_3'\n",
    "}\n",
    "\n",
    "plan = {\n",
    "    'id': \"3\",\n",
    "    'interval': 'month',\n",
    "    'currency': 'usd',\n",
    "    'price': 3995\n",
    "}\n",
    "\n",
    "r = requests.post('https://api.profitwell.com/v2/subscriptions/', data = json.dumps(make_payload(user, plan)), headers=headers)\n",
    "print(r.status_code, r.text)\n",
    "\n"
   ]
  },
  {
   "cell_type": "code",
   "execution_count": 107,
   "metadata": {},
   "outputs": [
    {
     "output_type": "stream",
     "name": "stdout",
     "text": [
      "400 {\"params\":\"Customer already has trait (category: 'card type', trait: 'visa')\"}\n",
      "400 {\"params\":\"Customer already has trait (category: 'first form', trait: 'form name')\"}\n",
      "400 {\"params\":\"Customer already has trait (category: 'gateway name', trait: 'ccbill_internal_v2')\"}\n",
      "400 {\"params\":\"Customer already has trait (category: 'utm source', trait: 'source')\"}\n",
      "400 {\"params\":\"Customer already has trait (category: 'card type', trait: 'visa')\"}\n",
      "400 {\"params\":\"Customer already has trait (category: 'first form', trait: 'form name')\"}\n",
      "400 {\"params\":\"Customer already has trait (category: 'gateway name', trait: 'ccbill_internal_v2')\"}\n",
      "400 {\"params\":\"Customer already has trait (category: 'utm source', trait: 'source')\"}\n",
      "400 {\"params\":\"Customer already has trait (category: 'card type', trait: 'visa')\"}\n",
      "400 {\"params\":\"Customer already has trait (category: 'first form', trait: 'form name')\"}\n",
      "400 {\"params\":\"Customer already has trait (category: 'gateway name', trait: 'ccbill_internal_v2')\"}\n",
      "400 {\"params\":\"Customer already has trait (category: 'utm source', trait: 'source')\"}\n",
      "400 {\"params\":\"Customer already has trait (category: 'card type', trait: 'visa')\"}\n",
      "400 {\"params\":\"Customer already has trait (category: 'first form', trait: 'form name')\"}\n",
      "400 {\"params\":\"Customer already has trait (category: 'gateway name', trait: 'ccbill_internal_v2')\"}\n",
      "400 {\"params\":\"Customer already has trait (category: 'utm source', trait: 'source')\"}\n",
      "400 {\"params\":\"Customer already has trait (category: 'card type', trait: 'visa')\"}\n",
      "400 {\"params\":\"Customer already has trait (category: 'first form', trait: 'form name')\"}\n",
      "400 {\"params\":\"Customer already has trait (category: 'gateway name', trait: 'ccbill_internal_v2')\"}\n",
      "400 {\"params\":\"Customer already has trait (category: 'utm source', trait: 'source')\"}\n",
      "400 {\"params\":\"Customer already has trait (category: 'card type', trait: 'visa')\"}\n",
      "400 {\"params\":\"Customer already has trait (category: 'first form', trait: 'form name')\"}\n",
      "400 {\"params\":\"Customer already has trait (category: 'gateway name', trait: 'ccbill_internal_v2')\"}\n",
      "400 {\"params\":\"Customer already has trait (category: 'utm source', trait: 'source')\"}\n",
      "400 {\"params\":\"Customer already has trait (category: 'card type', trait: 'visa')\"}\n",
      "400 {\"params\":\"Customer already has trait (category: 'first form', trait: 'form name')\"}\n",
      "400 {\"params\":\"Customer already has trait (category: 'gateway name', trait: 'ccbill_internal_v2')\"}\n",
      "400 {\"params\":\"Customer already has trait (category: 'utm source', trait: 'source')\"}\n",
      "400 {\"params\":\"Customer already has trait (category: 'card type', trait: 'visa')\"}\n",
      "400 {\"params\":\"Customer already has trait (category: 'first form', trait: 'form name')\"}\n",
      "400 {\"params\":\"Customer already has trait (category: 'gateway name', trait: 'ccbill_internal_v2')\"}\n",
      "400 {\"params\":\"Customer already has trait (category: 'utm source', trait: 'source')\"}\n",
      "400 {\"params\":\"Customer already has trait (category: 'card type', trait: 'visa')\"}\n",
      "400 {\"params\":\"Customer already has trait (category: 'first form', trait: 'form name')\"}\n",
      "400 {\"params\":\"Customer already has trait (category: 'gateway name', trait: 'ccbill_internal_v2')\"}\n",
      "400 {\"params\":\"Customer already has trait (category: 'utm source', trait: 'source')\"}\n"
     ]
    }
   ],
   "source": [
    "traits = [\n",
    "    {\n",
    "        \"email\": \"month_7@test.com\",\n",
    "        \"category\": \"card type\",\n",
    "        \"trait\": \"visa\"\n",
    "    },\n",
    "    {\n",
    "        \"email\": \"month_7@test.com\",\n",
    "        \"category\": \"first form\", #what is first form\n",
    "        \"trait\": \"form name\"\n",
    "    },\n",
    "    {\n",
    "        \"email\": \"month_7@test.com\",\n",
    "        \"category\": \"gateway name\",\n",
    "        \"trait\": \"ccbill_internal_v2\"\n",
    "    },\n",
    "    {\n",
    "        \"email\": \"month_7@test.com\",\n",
    "        \"category\": \"utm source\", #what is utm source\n",
    "        \"trait\": \"source\"\n",
    "    },\n",
    "]\n",
    "for i in range(1, 10):\n",
    "    for trait in traits:\n",
    "        r = requests.put('https://api.profitwell.com/v2/customer_traits/trait/', data = json.dumps(trait), headers=headers)\n",
    "        print(r.status_code, r.text)\n",
    "        "
   ]
  },
  {
   "source": [
    "### single document"
   ],
   "cell_type": "markdown",
   "metadata": {}
  },
  {
   "cell_type": "code",
   "execution_count": 118,
   "metadata": {},
   "outputs": [
    {
     "output_type": "stream",
     "name": "stdout",
     "text": [
      "400 {\"plan_interval\":[\"This field is required.\"]}\n"
     ]
    }
   ],
   "source": [
    "user = {\n",
    "    \"id\": \"8\",\n",
    "    \"email\": \"single_8@test.com\",\n",
    "    \"gateway_subscription_id\": 'single_id_8_plan_4'\n",
    "}\n",
    "\n",
    "plan = {\n",
    "    'id': \"4\",\n",
    "    'currency': 'usd',\n",
    "    'price': 5995\n",
    "}\n",
    "\n",
    "r = requests.post('https://api.profitwell.com/v2/subscriptions/', data = json.dumps(make_single_payload(user, plan)), headers=headers)\n",
    "print(r.status_code, r.text)"
   ]
  },
  {
   "cell_type": "code",
   "execution_count": null,
   "metadata": {},
   "outputs": [],
   "source": [
    "O"
   ]
  }
 ]
}