{
 "cells": [
  {
   "cell_type": "markdown",
   "metadata": {},
   "source": [
    "# if else"
   ]
  },
  {
   "cell_type": "raw",
   "metadata": {},
   "source": [
    "if 2 > 1 and 3 > 1:\n",
    "    ....\n",
    "elif xxx:\n",
    "    ....\n",
    "elif xxx:\n",
    "    ....\n",
    "else:\n",
    "    ...."
   ]
  },
  {
   "cell_type": "code",
   "execution_count": null,
   "metadata": {},
   "outputs": [],
   "source": [
    "# 一行式的寫法\n",
    "# x = 10\n",
    "# print(x) if x > 5 python 沒有這種一行式的寫法"
   ]
  },
  {
   "cell_type": "code",
   "execution_count": null,
   "metadata": {},
   "outputs": [],
   "source": [
    "# unless  python替代語法是 if not"
   ]
  },
  {
   "cell_type": "markdown",
   "metadata": {},
   "source": [
    "### 三元運算子"
   ]
  },
  {
   "cell_type": "code",
   "execution_count": null,
   "metadata": {},
   "outputs": [],
   "source": [
    "print(4 if True else 3)"
   ]
  },
  {
   "cell_type": "markdown",
   "metadata": {},
   "source": [
    "## 邏輯運算子 Logical connective\n",
    "優先順序not > and > or\n",
    "\n",
    "and: 左側只要遇到bool(value) == false就回傳該值，若不是則回傳最右側的值\n",
    "or : 左側只要遇到bool(value) == true 就回傳該值，若不是則回傳最右側的值\n",
    "not: not(bool(value))"
   ]
  },
  {
   "cell_type": "code",
   "execution_count": null,
   "metadata": {},
   "outputs": [],
   "source": [
    "# and\n",
    "print(True and False)\n",
    "print(2 > 1 and 3 > 1)\n",
    "print(1 and 2)\n",
    "print('a' and 'b')\n",
    "print([1, 2] and [3, 4])\n",
    "\n",
    "# 一些奇怪的少用的\n",
    "\n",
    "print(\"True and None:\", True and None)\n",
    "print(\"False and None:\", False and None)\n",
    "print(\"None and True:\", None and True)\n",
    "print(\"None and False:\", None and False)\n",
    "print(\"1 and None and False:\", 1 and None and False)\n",
    "print(\"1 and True:\", 1 and True)\n",
    "print(\"1 and False:\", 1 and False)\n",
    "print(\"0 and True:\", 0 and True)\n",
    "print(\"0 and False:\", 0 and False)\n",
    "print(\"True and 1:\", True and 1)\n",
    "print(\"False and 1:\", False and 1)\n",
    "print(\"[] and True and True:\", [] and True and True)\n",
    "print(\"[] and False:\", [] and False)\n",
    "print(\"True and []:\", True and [])\n",
    "print(\"False and []:\", False and [])\n",
    "print(\"() and True:\", () and True)\n",
    "print(\"() and False:\", () and False)\n",
    "print(\"{} and True:\", {} and True)\n",
    "print(\"{} and False:\", {} and False)\n",
    "print(\"'' and True:\", '' and True)\n",
    "print(\"'' and False:\", '' and False)"
   ]
  },
  {
   "cell_type": "code",
   "execution_count": null,
   "metadata": {},
   "outputs": [],
   "source": [
    "# or\n",
    "print(True or False)\n",
    "print(2 > 1 or 3 > 1)\n",
    "print(1 or 2)\n",
    "print('a' or 'b')\n",
    "print([1, 2] or [3, 4])\n",
    "\n",
    "# 一些奇怪的\n",
    "print(\"True or None:\", True or None)\n",
    "print(\"False or None:\", False or None)\n",
    "print(\"None or True:\", None or True)\n",
    "print(\"None or False:\", None or False)\n",
    "print(\"1 or None or False:\", 1 or None or False)\n",
    "print(\"1 or True:\", 1 or True)\n",
    "print(\"1 or False:\", 1 or False)\n",
    "print(\"0 or True:\", 0 or True)\n",
    "print(\"0 or False:\", 0 or False)\n",
    "print(\"True or 1:\", True or 1)\n",
    "print(\"False or 1:\", False or 1)\n",
    "print(\"[] or True or True:\", [] or True or True)\n",
    "print(\"[] or False:\", [] or False)\n",
    "print(\"True or []:\", True or [])\n",
    "print(\"False or []:\", False or [])\n",
    "print(\"() or True:\", () or True)\n",
    "print(\"() or False:\", () or False)\n",
    "print(\"{} or True:\", {} or True)\n",
    "print(\"{} or False:\", {} or False)\n",
    "print(\"'' or True:\", '' or True)\n",
    "print(\"'' or False:\", '' or False)"
   ]
  },
  {
   "cell_type": "code",
   "execution_count": null,
   "metadata": {},
   "outputs": [],
   "source": [
    "# not\n",
    "print(not(True or False))\n",
    "print(not([1, 2]))\n",
    "print(not([]))\n",
    "print(not(None))\n",
    "print(not(''))\n",
    "print(not(0))"
   ]
  },
  {
   "cell_type": "markdown",
   "metadata": {},
   "source": [
    "## 海象(walrus)運算子  :="
   ]
  },
  {
   "cell_type": "code",
   "execution_count": null,
   "metadata": {},
   "outputs": [],
   "source": [
    "a = 1\n",
    "b = 2\n",
    "if c:= a + b > 0:\n",
    "    print('ok')\n",
    "else:\n",
    "    print('no')"
   ]
  },
  {
   "cell_type": "markdown",
   "metadata": {},
   "source": [
    "## 延續多行code"
   ]
  },
  {
   "cell_type": "code",
   "execution_count": null,
   "metadata": {},
   "outputs": [],
   "source": [
    "sum = 1 + \\\n",
    "      2 + \\\n",
    "      3\n",
    "\n",
    "print(sum)\n",
    "\n",
    "sum = (\n",
    "    1 +\n",
    "    2 +\n",
    "    3 +\n",
    "    4)\n",
    "\n",
    "print(sum)"
   ]
  },
  {
   "cell_type": "markdown",
   "metadata": {},
   "source": [
    "## in (check in list?)"
   ]
  },
  {
   "cell_type": "code",
   "execution_count": null,
   "metadata": {},
   "outputs": [],
   "source": [
    "letter = 'o'\n",
    "vowel_set = {'a', 'e', 'i', 'o', 'u'}\n",
    "print(letter in vowel_set)\n",
    "\n",
    "vowel_list = ['a', 'e', 'i', 'o', 'u']\n",
    "print(letter in vowel_list)\n",
    "\n",
    "vowel_tuple = ('a', 'e', 'i', 'o', 'u')\n",
    "print(letter in vowel_tuple)\n",
    "\n",
    "# dict check key, not value.\n",
    "vowel_dict = {'a': 1, 'e': 2, 'i': 3, 'o': 4, 'u': 5}\n",
    "print(letter in vowel_dict)\n",
    "\n",
    "vowel_str = 'aeiou'\n",
    "print(letter in vowel_str)"
   ]
  },
  {
   "cell_type": "code",
   "execution_count": null,
   "metadata": {},
   "outputs": [],
   "source": []
  },
  {
   "cell_type": "code",
   "execution_count": null,
   "metadata": {},
   "outputs": [],
   "source": []
  }
 ],
 "metadata": {
  "kernelspec": {
   "display_name": "Python 3",
   "language": "python",
   "name": "python3"
  },
  "language_info": {
   "codemirror_mode": {
    "name": "ipython",
    "version": 3
   },
   "file_extension": ".py",
   "mimetype": "text/x-python",
   "name": "python",
   "nbconvert_exporter": "python",
   "pygments_lexer": "ipython3",
   "version": "3.9.1"
  }
 },
 "nbformat": 4,
 "nbformat_minor": 4
}
