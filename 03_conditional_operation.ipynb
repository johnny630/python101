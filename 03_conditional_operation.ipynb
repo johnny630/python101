{
 "cells": [
  {
   "cell_type": "markdown",
   "metadata": {},
   "source": [
    "# if else"
   ]
  },
  {
   "cell_type": "raw",
   "metadata": {},
   "source": [
    "if xxx:\n",
    "    ....\n",
    "elif xxx:\n",
    "    ....\n",
    "elif xxx:\n",
    "    ....\n",
    "else:\n",
    "    ...."
   ]
  },
  {
   "cell_type": "markdown",
   "metadata": {},
   "source": [
    "## 海象(walrus)運算子  :="
   ]
  },
  {
   "cell_type": "code",
   "execution_count": 1,
   "metadata": {},
   "outputs": [
    {
     "name": "stdout",
     "output_type": "stream",
     "text": [
      "ok\n"
     ]
    }
   ],
   "source": [
    "a = 1\n",
    "b = 2\n",
    "if c:= a + b > 0:\n",
    "    print('ok')\n",
    "else:\n",
    "    print('no')"
   ]
  },
  {
   "cell_type": "markdown",
   "metadata": {},
   "source": [
    "## 延續多行code"
   ]
  },
  {
   "cell_type": "code",
   "execution_count": 2,
   "metadata": {},
   "outputs": [
    {
     "name": "stdout",
     "output_type": "stream",
     "text": [
      "6\n",
      "10\n"
     ]
    }
   ],
   "source": [
    "sum = 1 + \\\n",
    "      2 + \\\n",
    "      3\n",
    "\n",
    "print(sum)\n",
    "\n",
    "sum = (\n",
    "    1 +\n",
    "    2 +\n",
    "    3 +\n",
    "    4)\n",
    "\n",
    "print(sum)"
   ]
  },
  {
   "cell_type": "markdown",
   "metadata": {},
   "source": [
    "## in (check in list?)"
   ]
  },
  {
   "cell_type": "code",
   "execution_count": 3,
   "metadata": {},
   "outputs": [
    {
     "name": "stdout",
     "output_type": "stream",
     "text": [
      "True\n",
      "True\n",
      "True\n",
      "True\n",
      "True\n"
     ]
    }
   ],
   "source": [
    "letter = 'o'\n",
    "vowel_set = {'a', 'e', 'i', 'o', 'u'}\n",
    "print(letter in vowel_set)\n",
    "\n",
    "vowel_list = ['a', 'e', 'i', 'o', 'u']\n",
    "print(letter in vowel_list)\n",
    "\n",
    "vowel_tuple = ('a', 'e', 'i', 'o', 'u')\n",
    "print(letter in vowel_tuple)\n",
    "\n",
    "# dict check key, not value.\n",
    "vowel_dict = {'a': 1, 'e': 2, 'i': 3, 'o': 4, 'u': 5}\n",
    "print(letter in vowel_dict)\n",
    "\n",
    "vowel_str = 'aeiou'\n",
    "print(letter in vowel_str)"
   ]
  },
  {
   "cell_type": "code",
   "execution_count": null,
   "metadata": {},
   "outputs": [],
   "source": []
  },
  {
   "cell_type": "code",
   "execution_count": null,
   "metadata": {},
   "outputs": [],
   "source": []
  }
 ],
 "metadata": {
  "kernelspec": {
   "display_name": "Python 3",
   "language": "python",
   "name": "python3"
  },
  "language_info": {
   "codemirror_mode": {
    "name": "ipython",
    "version": 3
   },
   "file_extension": ".py",
   "mimetype": "text/x-python",
   "name": "python",
   "nbconvert_exporter": "python",
   "pygments_lexer": "ipython3",
   "version": "3.8.3"
  }
 },
 "nbformat": 4,
 "nbformat_minor": 4
}
