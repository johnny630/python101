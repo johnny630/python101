{
 "cells": [
  {
   "cell_type": "markdown",
   "metadata": {},
   "source": [
    "# Class and instance"
   ]
  },
  {
   "cell_type": "markdown",
   "metadata": {},
   "source": [
    "## simple class `class C()` or `class C`"
   ]
  },
  {
   "cell_type": "code",
   "execution_count": 4,
   "metadata": {},
   "outputs": [],
   "source": [
    "class Cat():\n",
    "    pass\n",
    "\n",
    "class Cat:\n",
    "    pass"
   ]
  },
  {
   "cell_type": "markdown",
   "metadata": {},
   "source": [
    "### class new  `C()`"
   ]
  },
  {
   "cell_type": "code",
   "execution_count": 5,
   "metadata": {},
   "outputs": [
    {
     "name": "stdout",
     "output_type": "stream",
     "text": [
      "4550934928\n",
      "4550934832\n"
     ]
    }
   ],
   "source": [
    "cat1 = Cat()\n",
    "cat2 = Cat()\n",
    "\n",
    "print(id(cat1))\n",
    "print(id(cat2))"
   ]
  },
  {
   "cell_type": "markdown",
   "metadata": {},
   "source": [
    "## attribute"
   ]
  },
  {
   "cell_type": "code",
   "execution_count": 7,
   "metadata": {},
   "outputs": [
    {
     "name": "stdout",
     "output_type": "stream",
     "text": [
      "4\n",
      "Mee\n"
     ]
    },
    {
     "ename": "AttributeError",
     "evalue": "'Cat' object has no attribute 'name'",
     "output_type": "error",
     "traceback": [
      "\u001b[0;31m---------------------------------------------------------------------------\u001b[0m",
      "\u001b[0;31mAttributeError\u001b[0m                            Traceback (most recent call last)",
      "\u001b[0;32m<ipython-input-7-a33218f04a49>\u001b[0m in \u001b[0;36m<module>\u001b[0;34m\u001b[0m\n\u001b[1;32m      9\u001b[0m \u001b[0mprint\u001b[0m\u001b[0;34m(\u001b[0m\u001b[0mcat1\u001b[0m\u001b[0;34m.\u001b[0m\u001b[0mname\u001b[0m\u001b[0;34m)\u001b[0m\u001b[0;34m\u001b[0m\u001b[0;34m\u001b[0m\u001b[0m\n\u001b[1;32m     10\u001b[0m \u001b[0;34m\u001b[0m\u001b[0m\n\u001b[0;32m---> 11\u001b[0;31m \u001b[0mprint\u001b[0m\u001b[0;34m(\u001b[0m\u001b[0mcat1\u001b[0m\u001b[0;34m.\u001b[0m\u001b[0mparent\u001b[0m\u001b[0;34m.\u001b[0m\u001b[0mname\u001b[0m\u001b[0;34m)\u001b[0m\u001b[0;34m\u001b[0m\u001b[0;34m\u001b[0m\u001b[0m\n\u001b[0m",
      "\u001b[0;31mAttributeError\u001b[0m: 'Cat' object has no attribute 'name'"
     ]
    }
   ],
   "source": [
    "cat1 = Cat()\n",
    "cat2 = Cat()\n",
    "\n",
    "cat1.age = 4\n",
    "cat1.name = 'Mee'\n",
    "cat1.parent = cat2\n",
    "\n",
    "print(cat1.age)\n",
    "print(cat1.name)\n",
    "\n",
    "print(cat1.parent.name) # error"
   ]
  },
  {
   "cell_type": "markdown",
   "metadata": {},
   "source": [
    "## Method (class function)"
   ]
  },
  {
   "cell_type": "code",
   "execution_count": 10,
   "metadata": {},
   "outputs": [
    {
     "name": "stdout",
     "output_type": "stream",
     "text": [
      "Meow\n",
      "haha\n"
     ]
    }
   ],
   "source": [
    "class Cat:\n",
    "    # __init__ 不是其他語言所謂的 建構式 constructor 可以想成是初始式\n",
    "    def __init__(self, name):\n",
    "        self.name = name\n",
    "        \n",
    "cat1 = Cat('Meow')\n",
    "print(cat1.name)\n",
    "\n",
    "cat1.name = 'haha'\n",
    "print(cat1.name)"
   ]
  },
  {
   "cell_type": "markdown",
   "metadata": {},
   "source": [
    "## Inherit 繼承  `class C(P)`"
   ]
  },
  {
   "cell_type": "code",
   "execution_count": 11,
   "metadata": {},
   "outputs": [
    {
     "name": "stdout",
     "output_type": "stream",
     "text": [
      "I'm a Car!\n"
     ]
    }
   ],
   "source": [
    "class Car():\n",
    "    def exclaim(self):\n",
    "        print(\"I'm a Car!\")\n",
    "        \n",
    "class Yugo(Car):\n",
    "    pass\n",
    "\n",
    "yugo = Yugo()\n",
    "yugo.exclaim()"
   ]
  },
  {
   "cell_type": "markdown",
   "metadata": {},
   "source": [
    "### Inherit override 繼承覆寫"
   ]
  },
  {
   "cell_type": "code",
   "execution_count": 13,
   "metadata": {},
   "outputs": [
    {
     "name": "stdout",
     "output_type": "stream",
     "text": [
      "I'm a Yugo!\n"
     ]
    }
   ],
   "source": [
    "class Car():\n",
    "    def exclaim(self):\n",
    "        print(\"I'm a Car!\")\n",
    "        \n",
    "class Yugo(Car):\n",
    "    def exclaim(self):\n",
    "        print(\"I'm a Yugo!\")\n",
    "        \n",
    "Yugo().exclaim()"
   ]
  },
  {
   "cell_type": "markdown",
   "metadata": {},
   "source": [
    "### Inherit super `super()`\n",
    "統一父權的規範，之後邏輯改變就只要改父類別的邏輯就好。"
   ]
  },
  {
   "cell_type": "code",
   "execution_count": 14,
   "metadata": {},
   "outputs": [
    {
     "name": "stdout",
     "output_type": "stream",
     "text": [
      "johnny johnny@test.com\n"
     ]
    }
   ],
   "source": [
    "class Car():\n",
    "    def __init__(self, name):\n",
    "        self.name = name\n",
    "        \n",
    "class Yugo(Car):\n",
    "    def __init__(self, name, email):\n",
    "        super().__init__(name)\n",
    "        self.email = email\n",
    "        \n",
    "yugo = Yugo('johnny', 'johnny@test.com')\n",
    "print(yugo.name, yugo.email)"
   ]
  },
  {
   "cell_type": "markdown",
   "metadata": {},
   "source": [
    "### 多重繼承\n",
    "繼承順序取決於方法解析順序(method resolution order)，每一個python類別有一個`mro()`及`__mro__`特殊方法及屬性，它是tuple，第一個找到勝出。"
   ]
  },
  {
   "cell_type": "code",
   "execution_count": 17,
   "metadata": {},
   "outputs": [
    {
     "name": "stdout",
     "output_type": "stream",
     "text": [
      "[<class '__main__.Mule'>, <class '__main__.Donkey'>, <class '__main__.Horse'>, <class '__main__.Animal'>, <class 'object'>]\n",
      "(<class '__main__.Mule'>, <class '__main__.Donkey'>, <class '__main__.Horse'>, <class '__main__.Animal'>, <class 'object'>)\n",
      "[<class '__main__.Hinny'>, <class '__main__.Horse'>, <class '__main__.Donkey'>, <class '__main__.Animal'>, <class 'object'>]\n",
      "(<class '__main__.Hinny'>, <class '__main__.Horse'>, <class '__main__.Donkey'>, <class '__main__.Animal'>, <class 'object'>)\n",
      "Hee-haw!\n",
      "Neigh!\n"
     ]
    }
   ],
   "source": [
    "class Animal:\n",
    "    def say(self):\n",
    "        return 'I speak!'\n",
    "    \n",
    "class Horse(Animal):\n",
    "    def say(self):\n",
    "        return 'Neigh!'\n",
    "    \n",
    "class Donkey(Animal):\n",
    "    def say(self):\n",
    "        return 'Hee-haw!'\n",
    "    \n",
    "class Mule(Donkey, Horse):\n",
    "    pass\n",
    "\n",
    "class Hinny(Horse, Donkey):\n",
    "    pass\n",
    "\n",
    "print(Mule.mro())\n",
    "print(Mule.__mro__)\n",
    "print(Hinny.mro())\n",
    "print(Hinny.__mro__)\n",
    "\n",
    "print(Mule().say())\n",
    "print(Hinny().say())"
   ]
  },
  {
   "cell_type": "markdown",
   "metadata": {},
   "source": [
    "### Mixin\n",
    "有時可以加入一個額外的父類別，它只是輔助類別(helper)，它沒有任何方法跟其他父類別一樣，也避免解析順序模糊。  \n",
    "其用途包含logging等「邊縁」工作。"
   ]
  },
  {
   "cell_type": "code",
   "execution_count": 26,
   "metadata": {},
   "outputs": [
    {
     "name": "stdout",
     "output_type": "stream",
     "text": [
      "{'age': 23, 'name': 'johnny', 'test': <function <lambda> at 0x10f494ca0>}\n"
     ]
    },
    {
     "data": {
      "text/plain": [
       "'test'"
      ]
     },
     "execution_count": 26,
     "metadata": {},
     "output_type": "execute_result"
    }
   ],
   "source": [
    "class DumpMixin:\n",
    "    def dump(self):\n",
    "        import pprint\n",
    "        pprint.pprint(vars(self))\n",
    "        \n",
    "class Thing(DumpMixin):\n",
    "    pass\n",
    "\n",
    "\n",
    "def test():\n",
    "    return 'test'\n",
    "\n",
    "t = Thing()\n",
    "t.name = 'johnny'\n",
    "t.age = 23\n",
    "t.test = lambda arg: arg\n",
    "t.dump()\n",
    "t.test('test')"
   ]
  },
  {
   "cell_type": "markdown",
   "metadata": {},
   "source": [
    "## 屬性存取\n",
    "python中屬性及方法通常都是public，要對自已的行為負責  \n",
    "「成人同意」consenting adults "
   ]
  },
  {
   "cell_type": "markdown",
   "metadata": {},
   "source": [
    "### Property"
   ]
  },
  {
   "cell_type": "markdown",
   "metadata": {},
   "source": [
    "#### 方法一  `property(GET_FUNCTION_NAME, SET_FUNCTION_NAME)`"
   ]
  },
  {
   "cell_type": "code",
   "execution_count": 27,
   "metadata": {},
   "outputs": [
    {
     "name": "stdout",
     "output_type": "stream",
     "text": [
      "getter\n",
      "Johnny\n",
      "setter\n",
      "getter\n",
      "Donna\n"
     ]
    }
   ],
   "source": [
    "class Duck:\n",
    "    def __init__(self, name):\n",
    "        self.hidden_name = name\n",
    "        \n",
    "    def get_name(self):\n",
    "        print('getter')\n",
    "        return self.hidden_name\n",
    "    \n",
    "    def set_name(self, name):\n",
    "        print('setter')\n",
    "        self.hidden_name = name\n",
    "        \n",
    "    name = property(get_name, set_name)\n",
    "    \n",
    "duck = Duck('Johnny')\n",
    "print(duck.get_name())\n",
    "duck.set_name('Donna')\n",
    "print(duck.get_name())"
   ]
  },
  {
   "cell_type": "code",
   "execution_count": 28,
   "metadata": {},
   "outputs": [
    {
     "name": "stdout",
     "output_type": "stream",
     "text": [
      "getter\n",
      "Johnny\n",
      "setter\n",
      "getter\n",
      "Donna\n"
     ]
    }
   ],
   "source": [
    "duck = Duck('Johnny')\n",
    "print(duck.name)\n",
    "duck.name = 'Donna'\n",
    "print(duck.name)"
   ]
  },
  {
   "cell_type": "markdown",
   "metadata": {},
   "source": [
    "#### 方法二 `@property`, `@name.setter`"
   ]
  },
  {
   "cell_type": "code",
   "execution_count": 38,
   "metadata": {},
   "outputs": [
    {
     "name": "stdout",
     "output_type": "stream",
     "text": [
      "getter\n",
      "JohnnyJohnny\n",
      "setter\n",
      "getter\n",
      "DonnaDonna\n",
      "getter\n",
      "MaryMary\n"
     ]
    },
    {
     "data": {
      "text/plain": [
       "{'_name': 'Mary'}"
      ]
     },
     "execution_count": 38,
     "metadata": {},
     "output_type": "execute_result"
    }
   ],
   "source": [
    "class Duck:\n",
    "    def __init__(self, name):\n",
    "        self._name = name\n",
    "        \n",
    "    @property\n",
    "    def name(self):\n",
    "        print('getter')\n",
    "        # 可以透過一些邏輯計算\n",
    "        return self._name * 2\n",
    "\n",
    "    @name.setter\n",
    "    def name(self, name):\n",
    "        print('setter')\n",
    "        self._name = name\n",
    "        \n",
    "duck = Duck('Johnny')\n",
    "print(duck.name)\n",
    "duck.name = 'Donna'\n",
    "print(duck.name)\n",
    "duck._name = 'Mary'\n",
    "print(duck.name)\n",
    "vars(duck)"
   ]
  },
  {
   "cell_type": "markdown",
   "metadata": {},
   "source": [
    "#### 修飾詞保護隱私 `__`\n",
    "不允許外面看到屬性"
   ]
  },
  {
   "cell_type": "code",
   "execution_count": 53,
   "metadata": {},
   "outputs": [
    {
     "name": "stdout",
     "output_type": "stream",
     "text": [
      "getter\n",
      "JohnnyJohnny\n",
      "setter\n",
      "getter\n",
      "DonnaDonna\n",
      "Donna\n",
      "{'_Duck__name': 'Donna'}\n"
     ]
    }
   ],
   "source": [
    "class Duck():\n",
    "    def __init__(self, name):\n",
    "        self.__name = name\n",
    "        \n",
    "    @property\n",
    "    def name(self):\n",
    "        print('getter')\n",
    "        # 可以透過一些邏輯計算\n",
    "        return self.__name * 2\n",
    "\n",
    "    @name.setter\n",
    "    def name(self, name):\n",
    "        print('setter')\n",
    "        self.__name = name\n",
    "        \n",
    "duck = Duck('Johnny')\n",
    "print(duck.name)\n",
    "duck.name = 'Donna'\n",
    "print(duck.name)\n",
    "\n",
    "#保護起來無法存取\n",
    "# print(duck.__name)  AttributeError\n",
    "# 不過你還是可以用下面方法取得\n",
    "print(duck._Duck__name)\n",
    "\n",
    "print(vars(duck))"
   ]
  },
  {
   "cell_type": "markdown",
   "metadata": {},
   "source": [
    "### Class property 類別屬性"
   ]
  },
  {
   "cell_type": "code",
   "execution_count": 60,
   "metadata": {},
   "outputs": [
    {
     "name": "stdout",
     "output_type": "stream",
     "text": [
      "Pan\n",
      "johnny\n",
      "Pan\n",
      "Mary\n",
      "Mary\n"
     ]
    }
   ],
   "source": [
    "class Duck:\n",
    "    name = 'johnny'\n",
    "    \n",
    "duck = Duck()\n",
    "duck2 = Duck()\n",
    "# 物件屬性改變，不影響class 屬性\n",
    "duck.name = 'Pan'\n",
    "print(duck.name)\n",
    "print(Duck.name)\n",
    "\n",
    "# 類別屬性改變，也不影響已改變的物件屬性\n",
    "Duck.name = 'Mary'\n",
    "print(duck.name)\n",
    "print(Duck.name)\n",
    "\n",
    "# 但未改變的物件屬性則會跟類別屬性一起變\n",
    "print(duck2.name)"
   ]
  },
  {
   "cell_type": "markdown",
   "metadata": {},
   "source": [
    "## 方法型態\n",
    "instance method (實例方法) 第一個引數`self`  \n",
    "class method (類別方法) 第一個引數`cls`  \n",
    "static methos (靜態方法) 第一個引數不是物件或類別  "
   ]
  },
  {
   "cell_type": "markdown",
   "metadata": {},
   "source": [
    "### Class method (類別方法)"
   ]
  },
  {
   "cell_type": "code",
   "execution_count": 67,
   "metadata": {},
   "outputs": [
    {
     "name": "stdout",
     "output_type": "stream",
     "text": [
      "A has 3 objects\n"
     ]
    }
   ],
   "source": [
    "class A():\n",
    "    count = 0\n",
    "\n",
    "    def __init__(self):\n",
    "        A.count += 1\n",
    "        \n",
    "    def say(self):\n",
    "        print(\"I'm ad A\")\n",
    "        \n",
    "    @classmethod\n",
    "    def kids(cls):\n",
    "        print('A has', cls.count, 'objects')\n",
    "        \n",
    "a1 = A()\n",
    "a2 = A()\n",
    "a3 = A()\n",
    "A.kids()"
   ]
  },
  {
   "cell_type": "markdown",
   "metadata": {},
   "source": [
    "### static method (靜態方法)\n",
    "不影響類別，也不影響物件，只是為了不四處漂流放在那"
   ]
  },
  {
   "cell_type": "code",
   "execution_count": 69,
   "metadata": {},
   "outputs": [
    {
     "name": "stdout",
     "output_type": "stream",
     "text": [
      "This is ad description\n"
     ]
    }
   ],
   "source": [
    "class My():\n",
    "    @staticmethod\n",
    "    def ad():\n",
    "        print('This is ad description')\n",
    "        \n",
    "My.ad()"
   ]
  },
  {
   "cell_type": "code",
   "execution_count": null,
   "metadata": {},
   "outputs": [],
   "source": []
  }
 ],
 "metadata": {
  "kernelspec": {
   "display_name": "Python 3",
   "language": "python",
   "name": "python3"
  },
  "language_info": {
   "codemirror_mode": {
    "name": "ipython",
    "version": 3
   },
   "file_extension": ".py",
   "mimetype": "text/x-python",
   "name": "python",
   "nbconvert_exporter": "python",
   "pygments_lexer": "ipython3",
   "version": "3.8.3"
  }
 },
 "nbformat": 4,
 "nbformat_minor": 4
}
