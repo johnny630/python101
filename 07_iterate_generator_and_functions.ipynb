{
 "cells": [
  {
   "cell_type": "markdown",
   "id": "determined-disposition",
   "metadata": {},
   "source": [
    "# Iterate, Generator, map, filter, reduce"
   ]
  },
  {
   "cell_type": "markdown",
   "id": "immediate-adoption",
   "metadata": {},
   "source": [
    "## Map\n",
    "用一個function加工每一個迭代  \n",
    "`map(function, iterable)`"
   ]
  },
  {
   "cell_type": "code",
   "execution_count": 12,
   "id": "impressive-strength",
   "metadata": {},
   "outputs": [
    {
     "data": {
      "text/plain": [
       "[1, 4, 9]"
      ]
     },
     "execution_count": 12,
     "metadata": {},
     "output_type": "execute_result"
    }
   ],
   "source": [
    "nums = [1, -2 ,-3]\n",
    "ans = map(lambda x: x**2, nums)\n",
    "list(ans)"
   ]
  },
  {
   "cell_type": "code",
   "execution_count": 13,
   "id": "negative-terrain",
   "metadata": {},
   "outputs": [
    {
     "data": {
      "text/plain": [
       "[1, 2, 3]"
      ]
     },
     "execution_count": 13,
     "metadata": {},
     "output_type": "execute_result"
    }
   ],
   "source": [
    "ans = map(abs, nums)\n",
    "list(ans)"
   ]
  },
  {
   "cell_type": "markdown",
   "id": "confidential-proportion",
   "metadata": {},
   "source": [
    "### Map with generator\n",
    "可以用generator"
   ]
  },
  {
   "cell_type": "code",
   "execution_count": 14,
   "id": "romance-avatar",
   "metadata": {},
   "outputs": [
    {
     "data": {
      "text/plain": [
       "[1, 4, 9]"
      ]
     },
     "execution_count": 14,
     "metadata": {},
     "output_type": "execute_result"
    }
   ],
   "source": [
    "nums = [1, -2 ,-3]\n",
    "[num**2 for num in nums]"
   ]
  },
  {
   "cell_type": "markdown",
   "id": "premium-coupon",
   "metadata": {},
   "source": [
    "------"
   ]
  },
  {
   "cell_type": "markdown",
   "id": "ordered-english",
   "metadata": {},
   "source": [
    "## Filter\n",
    "用一個function過濾每一個迭代"
   ]
  },
  {
   "cell_type": "code",
   "execution_count": 15,
   "id": "rolled-prince",
   "metadata": {},
   "outputs": [
    {
     "data": {
      "text/plain": [
       "[2, 4, 6]"
      ]
     },
     "execution_count": 15,
     "metadata": {},
     "output_type": "execute_result"
    }
   ],
   "source": [
    "nums = [1, 2, 3, 4, 5, 6]\n",
    "ans = filter(lambda x: x%2 == 0, nums)\n",
    "list(ans)"
   ]
  },
  {
   "cell_type": "markdown",
   "id": "sexual-macedonia",
   "metadata": {},
   "source": [
    "### Filter with generator"
   ]
  },
  {
   "cell_type": "code",
   "execution_count": 24,
   "id": "designed-tactics",
   "metadata": {},
   "outputs": [
    {
     "data": {
      "text/plain": [
       "[2, 4, 6]"
      ]
     },
     "execution_count": 24,
     "metadata": {},
     "output_type": "execute_result"
    }
   ],
   "source": [
    "nums = [1, 2, 3, 4, 5, 6]\n",
    "[x for x in nums if x%2 == 0]"
   ]
  },
  {
   "cell_type": "markdown",
   "id": "divided-spoke",
   "metadata": {},
   "source": [
    "-----"
   ]
  },
  {
   "cell_type": "markdown",
   "id": "progressive-proposition",
   "metadata": {},
   "source": [
    "## Reduce\n",
    "用一個function統合計算每一個迭代成一個值"
   ]
  },
  {
   "cell_type": "code",
   "execution_count": 22,
   "id": "western-queue",
   "metadata": {},
   "outputs": [
    {
     "data": {
      "text/plain": [
       "21"
      ]
     },
     "execution_count": 22,
     "metadata": {},
     "output_type": "execute_result"
    }
   ],
   "source": [
    "from functools import reduce # python3 移到 functools 中\n",
    "\n",
    "nums = [1, 2, 3, 4, 5, 6]\n",
    "ans = reduce(lambda x, y: x+y, nums)\n",
    "ans"
   ]
  },
  {
   "cell_type": "code",
   "execution_count": null,
   "id": "sustainable-lender",
   "metadata": {},
   "outputs": [],
   "source": []
  }
 ],
 "metadata": {
  "kernelspec": {
   "display_name": "Python 3",
   "language": "python",
   "name": "python3"
  },
  "language_info": {
   "codemirror_mode": {
    "name": "ipython",
    "version": 3
   },
   "file_extension": ".py",
   "mimetype": "text/x-python",
   "name": "python",
   "nbconvert_exporter": "python",
   "pygments_lexer": "ipython3",
   "version": "3.9.1"
  }
 },
 "nbformat": 4,
 "nbformat_minor": 5
}
