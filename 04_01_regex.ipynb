{
 "cells": [
  {
   "cell_type": "markdown",
   "metadata": {},
   "source": [
    "# re\n",
    "\\d 數字  \n",
    "\\D 非數字  \n",
    "\\w 英數  \n",
    "\\W 非英數  \n",
    "\\s 空白字元  \n",
    "\\S 非空白字元  \n",
    "\\b 單字範圍 (介於 \\w 與 \\W)  \n",
    "\\B 非單字範圍  "
   ]
  },
  {
   "cell_type": "markdown",
   "metadata": {},
   "source": [
    "## re.match() 開頭是否符合"
   ]
  },
  {
   "cell_type": "code",
   "execution_count": 2,
   "metadata": {},
   "outputs": [
    {
     "data": {
      "text/plain": [
       "<re.Match object; span=(0, 3), match='You'>"
      ]
     },
     "execution_count": 2,
     "metadata": {},
     "output_type": "execute_result"
    }
   ],
   "source": [
    "import re\n",
    "result = re.match('You', 'Young Frankenstein')\n",
    "result"
   ]
  },
  {
   "cell_type": "code",
   "execution_count": 9,
   "metadata": {},
   "outputs": [
    {
     "name": "stdout",
     "output_type": "stream",
     "text": [
      "You\n"
     ]
    }
   ],
   "source": [
    "import re\n",
    "youpattern = re.compile('You')\n",
    "if result := youpattern.match('Young Frankenstein'):\n",
    "    print(result.group())"
   ]
  },
  {
   "cell_type": "code",
   "execution_count": 13,
   "metadata": {},
   "outputs": [
    {
     "name": "stdout",
     "output_type": "stream",
     "text": [
      "None\n"
     ]
    }
   ],
   "source": [
    "# no match is None\n",
    "result = re.match('xxx', 'Young Frankenstein')\n",
    "print(result)"
   ]
  },
  {
   "cell_type": "code",
   "execution_count": 17,
   "metadata": {},
   "outputs": [
    {
     "name": "stdout",
     "output_type": "stream",
     "text": [
      "<re.Match object; span=(0, 6), match='123456'>\n",
      "123456\n"
     ]
    }
   ],
   "source": [
    "result = re.match('\\d*', '123456ABC7890')\n",
    "print(result)\n",
    "print(result.group())"
   ]
  },
  {
   "cell_type": "code",
   "execution_count": 46,
   "metadata": {},
   "outputs": [
    {
     "name": "stdout",
     "output_type": "stream",
     "text": [
      "None\n"
     ]
    }
   ],
   "source": [
    "result = re.match('\\d+', 'ABC123456ABC7890')\n",
    "print(result)"
   ]
  },
  {
   "cell_type": "markdown",
   "metadata": {},
   "source": [
    "## re.search() 找到第一個符合的"
   ]
  },
  {
   "cell_type": "code",
   "execution_count": 43,
   "metadata": {},
   "outputs": [
    {
     "name": "stdout",
     "output_type": "stream",
     "text": [
      "<re.Match object; span=(3, 9), match='123456'>\n",
      "123456\n"
     ]
    }
   ],
   "source": [
    "result = re.search('\\d+', 'ABC123456ABC7890')\n",
    "print(result)\n",
    "print(result.group())"
   ]
  },
  {
   "cell_type": "markdown",
   "metadata": {},
   "source": [
    "## re.findall()"
   ]
  },
  {
   "cell_type": "code",
   "execution_count": 44,
   "metadata": {},
   "outputs": [
    {
     "name": "stdout",
     "output_type": "stream",
     "text": [
      "['123456', '7890']\n"
     ]
    }
   ],
   "source": [
    "result = re.findall('\\d+', 'ABC123456ABC7890')\n",
    "print(result)"
   ]
  },
  {
   "cell_type": "markdown",
   "metadata": {},
   "source": [
    "## re.split()"
   ]
  },
  {
   "cell_type": "code",
   "execution_count": 47,
   "metadata": {},
   "outputs": [
    {
     "name": "stdout",
     "output_type": "stream",
     "text": [
      "['You', 'g Fra', 'ke', 'stei', '']\n"
     ]
    }
   ],
   "source": [
    "result = re.split('n', 'Young Frankenstein')\n",
    "print(result)"
   ]
  },
  {
   "cell_type": "markdown",
   "metadata": {},
   "source": [
    "## re.sub()"
   ]
  },
  {
   "cell_type": "code",
   "execution_count": 48,
   "metadata": {},
   "outputs": [
    {
     "name": "stdout",
     "output_type": "stream",
     "text": [
      "You?g Fra?ke?stei?\n"
     ]
    }
   ],
   "source": [
    "result = re.sub('n', '?', 'Young Frankenstein')\n",
    "print(result)"
   ]
  },
  {
   "cell_type": "markdown",
   "metadata": {},
   "source": [
    "## 使用說明符\n",
    "```\n",
    "(expr) expr  ()group \n",
    "expr1 | expr2  expr1或expr2\n",
    ".   除了\\n以外任何字元\n",
    "^   來源字串開頭\n",
    "$   來源字串結尾\n",
    "prev?   0或1個 prev\n",
    "prev*   0或多個 prev，儘可能地多\n",
    "prev*?  0或多個 prev，儘可能地少\n",
    "prev+   1或多個 prev，儘可能地多\n",
    "prev+?  1或多個 prev，儘可能地少\n",
    "prev{m} m個連續prev\n",
    "prev{m, n} m~n個連續prev，儘可能地多\n",
    "prev{m, n}? m~n個連續prev，儘可能地少\n",
    "[abc]   a or b or c (與a|b|c一樣)\n",
    "[^abc]  非(a or b or c)\n",
    "prev(?=next)  prev, 若接下來是next\n",
    "prev(?!next)  prev, 若接下來不是next\n",
    "(?<=prev)next  next, 若前面是prev\n",
    "(?<!prev)next  next, 若前面不是prev\n",
    "(?P<name>expr)  group 實例放在name群組中\n",
    "```"
   ]
  },
  {
   "cell_type": "code",
   "execution_count": 59,
   "metadata": {},
   "outputs": [
    {
     "name": "stdout",
     "output_type": "stream",
     "text": [
      "['wish', 'wish']\n",
      "['wish', 'wish', 'fish']\n",
      "[]\n",
      "['I wish']\n",
      "[]\n",
      "['fish tonight.']\n",
      "['wish', 'wish', 'fish']\n",
      "['w', 'sh', 'w', 'sh', 'h', 'sh', 'sh', 'h']\n",
      "['ght\\n', 'ght.']\n",
      "['I ', 'I ']\n",
      "[' wish', ' wish']\n",
      "['fish']\n"
     ]
    }
   ],
   "source": [
    "import re\n",
    "\n",
    "source = '''I wish I may, I wish I might\n",
    "Have a dish of fish tonight.\n",
    "'''\n",
    "\n",
    "print(re.findall('wish', source))\n",
    "print(re.findall('wish|fish', source))\n",
    "print(re.findall('^wish', source))\n",
    "print(re.findall('^I wish', source))\n",
    "print(re.findall('fish$', source))\n",
    "print(re.findall('fish tonight.$', source))\n",
    "print(re.findall('[wf]ish', source))\n",
    "print(re.findall('[wsh]+', source))\n",
    "print(re.findall('ght\\W', source))\n",
    "print(re.findall('I (?=wish)', source))\n",
    "print(re.findall('(?<=I) wish', source))\n",
    "print(re.findall(r'\\bfish', source)) # 轉義字元記得用r''停用轉義字元"
   ]
  },
  {
   "cell_type": "code",
   "execution_count": 62,
   "metadata": {},
   "outputs": [
    {
     "name": "stdout",
     "output_type": "stream",
     "text": [
      "<re.Match object; span=(34, 48), match='a dish of fish'>\n",
      "a dish of fish\n",
      "('a dish', 'fish')\n"
     ]
    }
   ],
   "source": [
    "# match() or serach() 找出匹配group\n",
    "m = re.search(r'(. dish\\b).*(\\bfish)', source)\n",
    "print(m)\n",
    "print(m.group())\n",
    "print(m.groups())"
   ]
  },
  {
   "cell_type": "code",
   "execution_count": 64,
   "metadata": {},
   "outputs": [
    {
     "name": "stdout",
     "output_type": "stream",
     "text": [
      "a dish of fish\n",
      "('a dish', 'fish')\n",
      "a dish\n",
      "fish\n"
     ]
    }
   ],
   "source": [
    "m = re.search(r'(?P<DISH>. dish\\b).*(?P<FISH>\\bfish)', source)\n",
    "print(m.group())\n",
    "print(m.groups())\n",
    "print(m.group('DISH'))\n",
    "print(m.group('FISH'))"
   ]
  },
  {
   "cell_type": "code",
   "execution_count": null,
   "metadata": {},
   "outputs": [],
   "source": []
  }
 ],
 "metadata": {
  "kernelspec": {
   "display_name": "Python 3",
   "language": "python",
   "name": "python3"
  },
  "language_info": {
   "codemirror_mode": {
    "name": "ipython",
    "version": 3
   },
   "file_extension": ".py",
   "mimetype": "text/x-python",
   "name": "python",
   "nbconvert_exporter": "python",
   "pygments_lexer": "ipython3",
   "version": "3.8.3"
  }
 },
 "nbformat": 4,
 "nbformat_minor": 5
}
