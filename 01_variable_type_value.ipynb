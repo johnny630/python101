{
 "cells": [
  {
   "cell_type": "markdown",
   "metadata": {},
   "source": [
    "# 型態、值、變數與名稱"
   ]
  },
  {
   "cell_type": "markdown",
   "metadata": {},
   "source": [
    "## 型態"
   ]
  },
  {
   "cell_type": "code",
   "execution_count": 17,
   "metadata": {},
   "outputs": [
    {
     "name": "stdout",
     "output_type": "stream",
     "text": [
      "<class 'bool'>\n",
      "<class 'bool'>\n",
      "<class 'int'>\n",
      "<class 'int'>\n",
      "<class 'int'>\n",
      "<class 'float'>\n",
      "<class 'float'>\n",
      "<class 'complex'>\n",
      "<class 'str'>\n",
      "<class 'str'>\n",
      "<class 'str'>\n",
      "<class 'list'>\n",
      "<class 'set'>\n",
      "<class 'tuple'>\n",
      "<class 'bytes'>\n",
      "<class 'set'>\n",
      "<class 'frozenset'>\n",
      "<class 'dict'>\n"
     ]
    }
   ],
   "source": [
    "print(type(True))  #bool 不可變型 immutable\n",
    "print(type(False))\n",
    "print(type(40))    # int 不可變型\n",
    "print(type(25_000))\n",
    "print(type(-100))\n",
    "print(type(3.14))  # float 不可變型\n",
    "print(type(2.7e5)) # complex 不可變型\n",
    "print(type(3j))\n",
    "print(type('alas')) # str 不可變型\n",
    "print(type(\"test\"))\n",
    "print(type('''a test'''))\n",
    "print(type(['a', 'b', 'c'])) # list 可變型 mutable\n",
    "print(type({'a', 'b', 'c'})) \n",
    "print(type((1, 2, 3))) # tuple 不可變型\n",
    "print(type(b'ab\\xff')) # byte 不可變型\n",
    "print(type(set([3,4,5]))) # set 可變型 \n",
    "print(type(frozenset(['a', 'b']))) # fronzeset 不可變型\n",
    "print(type({'a': 1, 'b': 2, 'c': 3})) # dict 可變型 "
   ]
  },
  {
   "cell_type": "markdown",
   "metadata": {},
   "source": [
    "### python 是強定型(strongly typed)，意思是物件的型態不能改變，即使它的值是可以變的\n",
    "可變、不可變型參照[型態](#型態)"
   ]
  },
  {
   "cell_type": "markdown",
   "metadata": {},
   "source": [
    "## Mutable, Immutable"
   ]
  },
  {
   "cell_type": "code",
   "execution_count": 8,
   "metadata": {},
   "outputs": [
    {
     "name": "stdout",
     "output_type": "stream",
     "text": [
      "immutable\n",
      "x = 5, id = 4372347456\n",
      "y = 5, id = 4372347456\n",
      "When change y value\n",
      "x = 5, id = 4372347456\n",
      "y = 10, id = 4372347616\n",
      "\n",
      "mutable\n",
      "x = [2, 4, 6], id = 4441292416\n",
      "y = [2, 4, 6], id = 4441292416\n",
      "When change x[0] value, x, y value change together\n",
      "x = [3, 4, 6], id = 4441292416\n",
      "y = [3, 4, 6], id = 4441292416\n"
     ]
    }
   ],
   "source": [
    "### 複制不可變物件，當改變值時兩變數值會不同。複制可變物件，當改變值時兩變數值會相同\n",
    "### immutable\n",
    "print(\"immutable\")\n",
    "x = 5\n",
    "y = x\n",
    "print(f\"x = {x}, id = {id(x)}\")\n",
    "print(f\"y = {y}, id = {id(y)}\")\n",
    "\n",
    "print(\"When change y value\")\n",
    "y = 10\n",
    "print(f\"x = {x}, id = {id(x)}\")\n",
    "print(f\"y = {y}, id = {id(y)}\")\n",
    "\n",
    "### mutable\n",
    "print(\"\\nmutable\")\n",
    "x = [2, 4, 6]\n",
    "y = x\n",
    "print(f\"x = {x}, id = {id(x)}\")\n",
    "print(f\"y = {y}, id = {id(y)}\")\n",
    "\n",
    "print(\"When change x[0] value, x, y value change together\")\n",
    "x[0] = 3\n",
    "print(f\"x = {x}, id = {id(x)}\")\n",
    "print(f\"y = {y}, id = {id(y)}\")"
   ]
  },
  {
   "cell_type": "markdown",
   "metadata": {},
   "source": [
    "### shallow, deep copy"
   ]
  },
  {
   "cell_type": "code",
   "execution_count": 18,
   "metadata": {
    "scrolled": true
   },
   "outputs": [
    {
     "name": "stdout",
     "output_type": "stream",
     "text": [
      "immutable\n",
      "x = [5, 2, 3], id = 4490299456\n",
      "y = [1, 2, 3], id = 4490746688\n",
      "\n",
      "mutable\n",
      "x = [[1, 2, 3], ['a', 'b', 'c']], id = 4490330048\n",
      "y = [[1, 2, 3], ['a', 'b', 'c']], id = 4491506304\n",
      "x[0] = [1, 2, 3], id = 4490298496\n",
      "x[1] = ['a', 'b', 'c'], id = 4491411392\n",
      "y[0] = [1, 2, 3], id = 4490298496\n",
      "y[1] = ['a', 'b', 'c'], id = 4491411392\n",
      "x = [[5, 2, 3], ['a', 'b', 'c']], id = 4490330048\n",
      "y = [[5, 2, 3], ['a', 'b', 'c']], id = 4491506304\n"
     ]
    }
   ],
   "source": [
    "### immutable cope\n",
    "print(\"immutable\")\n",
    "x = [1, 2, 3]\n",
    "y = x[:]\n",
    "\n",
    "x[0] = 5\n",
    "print(f\"x = {x}, id = {id(x)}\")\n",
    "print(f\"y = {y}, id = {id(y)}\")\n",
    "\n",
    "\n",
    "### mutable cope\n",
    "print(\"\\nmutable\")\n",
    "x = [[1, 2, 3], ['a', 'b', 'c']]\n",
    "y = x[:]\n",
    "\n",
    "# Because just shallow copy, so nested value is mutable (by reference)\n",
    "print(f\"x = {x}, id = {id(x)}\")\n",
    "print(f\"y = {y}, id = {id(y)}\")\n",
    "\n",
    "print(f\"x[0] = {x[0]}, id = {id(x[0])}\")\n",
    "print(f\"x[1] = {x[1]}, id = {id(x[1])}\")\n",
    "print(f\"y[0] = {y[0]}, id = {id(y[0])}\")\n",
    "print(f\"y[1] = {y[1]}, id = {id(y[1])}\")\n",
    "\n",
    "# x change , y change the same\n",
    "x[0][0] = 5\n",
    "print(f\"x = {x}, id = {id(x)}\")\n",
    "print(f\"y = {y}, id = {id(y)}\")"
   ]
  },
  {
   "cell_type": "code",
   "execution_count": 15,
   "metadata": {},
   "outputs": [
    {
     "name": "stdout",
     "output_type": "stream",
     "text": [
      "x = 0, id = 4457372064\n",
      "arg = 0, id = 4457372064\n",
      "arg = 5, id = 4457372224\n",
      "x = 0, id = 4457372064\n",
      "x = {0: 0, 1: 1, 2: 2}, id = 4491481344\n",
      "arg = {0: 0, 1: 1, 2: 2}, id = 4491481344\n",
      "arg = {0: 5, 1: 1, 2: 2}, id = 4491481344\n",
      "x = {0: 5, 1: 1, 2: 2}, id = 4491481344\n"
     ]
    }
   ],
   "source": [
    "### immutable argumemt\n",
    "class CommonArgTest:\n",
    "    def send_value(arg):\n",
    "        # change arg value\n",
    "        print(f\"arg = {arg}, id = {id(arg)}\")\n",
    "        arg = 5\n",
    "        print(f\"arg = {arg}, id = {id(arg)}\")\n",
    "        \n",
    "x = 0\n",
    "print(f\"x = {x}, id = {id(x)}\")\n",
    "test = CommonArgTest\n",
    "test.send_value(x)\n",
    "print(f\"x = {x}, id = {id(x)}\")\n",
    "\n",
    "\n",
    "\n",
    "### mutable argumemt\n",
    "class MutableArgTest:\n",
    "    def send_mutable(arg):\n",
    "        # change arg value\n",
    "        print(f\"arg = {arg}, id = {id(arg)}\")\n",
    "        arg[0] = 5\n",
    "        print(f\"arg = {arg}, id = {id(arg)}\")\n",
    "\n",
    "x = {0: 0, 1: 1, 2: 2}\n",
    "print(f\"x = {x}, id = {id(x)}\")\n",
    "test = MutableArgTest\n",
    "test.send_mutable(x)\n",
    "print(f\"x = {x}, id = {id(x)}\")\n",
    "\n"
   ]
  },
  {
   "cell_type": "markdown",
   "metadata": {},
   "source": [
    "### 命名規則\n",
    "大小寫字母 (a-zA-Z)\n",
    "數字 (0-9)\n",
    "底線 (_ )\n",
    "開頭必是字母或底線，不可使用數字"
   ]
  },
  {
   "cell_type": "markdown",
   "metadata": {},
   "source": [
    "### 變數是名稱、不是位置"
   ]
  },
  {
   "cell_type": "markdown",
   "metadata": {},
   "source": [
    "## 註釋"
   ]
  },
  {
   "cell_type": "code",
   "execution_count": null,
   "metadata": {},
   "outputs": [],
   "source": [
    "#\n",
    "# python 沒有多行註釋"
   ]
  }
 ],
 "metadata": {
  "kernelspec": {
   "display_name": "Python 3",
   "language": "python",
   "name": "python3"
  },
  "language_info": {
   "codemirror_mode": {
    "name": "ipython",
    "version": 3
   },
   "file_extension": ".py",
   "mimetype": "text/x-python",
   "name": "python",
   "nbconvert_exporter": "python",
   "pygments_lexer": "ipython3",
   "version": "3.8.3"
  }
 },
 "nbformat": 4,
 "nbformat_minor": 4
}
