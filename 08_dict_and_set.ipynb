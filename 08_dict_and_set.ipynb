{
 "cells": [
  {
   "cell_type": "markdown",
   "id": "published-heavy",
   "metadata": {},
   "source": [
    "# Dict\n",
    "`{}`  \n",
    "`dict()`"
   ]
  },
  {
   "cell_type": "code",
   "execution_count": null,
   "id": "introductory-furniture",
   "metadata": {},
   "outputs": [],
   "source": [
    "d = {'first': 1, 'middle': 'E'}\n",
    "print(d)\n",
    "d2 = dict(first=1, middle='E')\n",
    "# d2 = dict(first=1, def='E')  SyntaxError: invalid syntax\n",
    "print(d2)"
   ]
  },
  {
   "cell_type": "markdown",
   "id": "brazilian-radar",
   "metadata": {},
   "source": [
    "### dict()轉換"
   ]
  },
  {
   "cell_type": "code",
   "execution_count": null,
   "id": "continuing-raising",
   "metadata": {},
   "outputs": [],
   "source": [
    "dict([['a', 'b'], ['c', 'd'], ['e', 'f']])"
   ]
  },
  {
   "cell_type": "code",
   "execution_count": null,
   "id": "liquid-johnston",
   "metadata": {},
   "outputs": [],
   "source": [
    "dict(['ab', 'cd', 'ef'])"
   ]
  },
  {
   "cell_type": "markdown",
   "id": "appointed-ordering",
   "metadata": {},
   "source": [
    "### update 修改 key value"
   ]
  },
  {
   "cell_type": "code",
   "execution_count": null,
   "id": "outdoor-adventure",
   "metadata": {},
   "outputs": [],
   "source": [
    "d = {\n",
    "    'a': 1,\n",
    "    'b': 'johnny',\n",
    "    'c': {\n",
    "        'name': 'ken',\n",
    "        'age': 35,\n",
    "    },\n",
    "    'b': 'Pan' # 同key 後者會蓋過前者\n",
    "}\n",
    "\n",
    "d['a'] = 2\n",
    "print(d)"
   ]
  },
  {
   "cell_type": "markdown",
   "id": "musical-yemen",
   "metadata": {},
   "source": [
    "### update 修改 整個dict `update()`"
   ]
  },
  {
   "cell_type": "code",
   "execution_count": null,
   "id": "sexual-emerald",
   "metadata": {},
   "outputs": [],
   "source": [
    "original_dict = {\n",
    "    'a': 1,\n",
    "    'b': 'johnny',\n",
    "    'c': {\n",
    "        'name': 'ken',\n",
    "        'age': 35,\n",
    "    },\n",
    "}\n",
    "update_dict = {\n",
    "    'b': 'pen',\n",
    "    'd': 123\n",
    "}\n",
    "\n",
    "original_dict.update(update_dict)\n",
    "print(original_dict)"
   ]
  },
  {
   "cell_type": "markdown",
   "id": "starting-supervision",
   "metadata": {},
   "source": [
    "### get 取得值\n",
    "`d[key]`  \n",
    "`d.get(key, default_val)`"
   ]
  },
  {
   "cell_type": "code",
   "execution_count": null,
   "id": "piano-bishop",
   "metadata": {},
   "outputs": [],
   "source": [
    "d['a']"
   ]
  },
  {
   "cell_type": "code",
   "execution_count": null,
   "id": "behind-permission",
   "metadata": {},
   "outputs": [],
   "source": [
    "d['d']  # 沒有key會error KeyError: 'd'"
   ]
  },
  {
   "cell_type": "code",
   "execution_count": null,
   "id": "increasing-product",
   "metadata": {},
   "outputs": [],
   "source": [
    "# 可以用in 判斷\n",
    "'d' in d "
   ]
  },
  {
   "cell_type": "code",
   "execution_count": null,
   "id": "employed-formation",
   "metadata": {},
   "outputs": [],
   "source": [
    "d.get('b')"
   ]
  },
  {
   "cell_type": "code",
   "execution_count": null,
   "id": "flying-headquarters",
   "metadata": {},
   "outputs": [],
   "source": [
    "d.get('d', 'default')"
   ]
  },
  {
   "cell_type": "markdown",
   "id": "explicit-shirt",
   "metadata": {},
   "source": [
    "### 取得 所有keys, values 或 items\n",
    "`keys()`\n",
    "`values()`\n",
    "`items()`"
   ]
  },
  {
   "cell_type": "code",
   "execution_count": null,
   "id": "introductory-animal",
   "metadata": {},
   "outputs": [],
   "source": [
    "d.keys()"
   ]
  },
  {
   "cell_type": "code",
   "execution_count": null,
   "id": "classical-spirituality",
   "metadata": {},
   "outputs": [],
   "source": [
    "d.values()"
   ]
  },
  {
   "cell_type": "code",
   "execution_count": null,
   "id": "blocked-frederick",
   "metadata": {},
   "outputs": [],
   "source": [
    "d.items()"
   ]
  },
  {
   "cell_type": "markdown",
   "id": "authorized-omega",
   "metadata": {},
   "source": [
    "### 取得數量(長度) `len()`"
   ]
  },
  {
   "cell_type": "code",
   "execution_count": null,
   "id": "american-mining",
   "metadata": {},
   "outputs": [],
   "source": [
    "len(d)"
   ]
  },
  {
   "cell_type": "markdown",
   "id": "american-bridge",
   "metadata": {},
   "source": [
    "### Add 相加 `{**a, **b}`"
   ]
  },
  {
   "cell_type": "code",
   "execution_count": null,
   "id": "elegant-highway",
   "metadata": {},
   "outputs": [],
   "source": [
    "a = {'a': 1, 'b': 2}\n",
    "b = {'b': 3, 'c': 4}\n",
    "d = {**a, **b}\n",
    "# d = a + b  # TypeError: unsupported operand type(s) for +: 'dict' and 'dict'\n",
    "print(d)"
   ]
  },
  {
   "cell_type": "markdown",
   "id": "pressing-teacher",
   "metadata": {},
   "source": [
    "### delete 刪除 `del dict[key]`"
   ]
  },
  {
   "cell_type": "code",
   "execution_count": null,
   "id": "gentle-destination",
   "metadata": {},
   "outputs": [],
   "source": [
    "a = {'a': 1, 'b': 2, 'c': 4}\n",
    "del a['a']\n",
    "a"
   ]
  },
  {
   "cell_type": "code",
   "execution_count": null,
   "id": "actual-zambia",
   "metadata": {},
   "outputs": [],
   "source": [
    "# del a['d']  # KeyError: 'd'"
   ]
  },
  {
   "cell_type": "markdown",
   "id": "affiliated-public",
   "metadata": {},
   "source": [
    "### 取得並刪除 `pop(key, not_exists_default_value)`"
   ]
  },
  {
   "cell_type": "code",
   "execution_count": null,
   "id": "united-longer",
   "metadata": {},
   "outputs": [],
   "source": [
    "a = {'a': 1, 'b': 2, 'c': 4}\n",
    "b = a.pop('a')\n",
    "\n",
    "# a.pop('d') # KeyError: 'd'\n",
    "c = a.pop('d', 'default')\n",
    "\n",
    "print(a, b, c)"
   ]
  },
  {
   "cell_type": "markdown",
   "id": "governmental-harvest",
   "metadata": {},
   "source": [
    "### 刪除所有項目 `clear()`"
   ]
  },
  {
   "cell_type": "code",
   "execution_count": null,
   "id": "informed-calcium",
   "metadata": {},
   "outputs": [],
   "source": [
    "a = {'a': 1, 'b': 2, 'c': 4}\n",
    "print(a.clear())\n",
    "print(a)"
   ]
  },
  {
   "cell_type": "markdown",
   "id": "brown-progressive",
   "metadata": {},
   "source": [
    "### 檢查包含鍵 `in`"
   ]
  },
  {
   "cell_type": "code",
   "execution_count": null,
   "id": "chemical-surgeon",
   "metadata": {},
   "outputs": [],
   "source": [
    "name = {'Chapman': 'Graham', 'Cleese': 'John', 'Jone': 'Terry', 'Palin': 'Micheal'}"
   ]
  },
  {
   "cell_type": "code",
   "execution_count": null,
   "id": "dutch-allen",
   "metadata": {},
   "outputs": [],
   "source": [
    "'Chapman' in name"
   ]
  },
  {
   "cell_type": "code",
   "execution_count": null,
   "id": "another-tobacco",
   "metadata": {},
   "outputs": [],
   "source": [
    "'cleese' in name"
   ]
  },
  {
   "cell_type": "code",
   "execution_count": null,
   "id": "educated-catholic",
   "metadata": {},
   "outputs": [],
   "source": [
    "'Gilliam' in name"
   ]
  },
  {
   "cell_type": "markdown",
   "id": "social-match",
   "metadata": {},
   "source": [
    "### 淺複製 `copy()`\n",
    "如果值都是immutable可以使用"
   ]
  },
  {
   "cell_type": "markdown",
   "id": "environmental-thanks",
   "metadata": {},
   "source": [
    "### 深複製 `deepcopy()`\n",
    "如果值有mutable需要使用"
   ]
  },
  {
   "cell_type": "markdown",
   "id": "collectible-kingdom",
   "metadata": {},
   "source": [
    "### 比較字典 `==`  `!=`"
   ]
  },
  {
   "cell_type": "code",
   "execution_count": null,
   "id": "armed-extreme",
   "metadata": {},
   "outputs": [],
   "source": [
    "a = {'a': 1, 'b': 2, 'c': 4}\n",
    "b = {'c': 4, 'a': 1, 'b': 2}\n",
    "a == b"
   ]
  },
  {
   "cell_type": "code",
   "execution_count": null,
   "id": "hydraulic-penalty",
   "metadata": {},
   "outputs": [],
   "source": [
    "# a <= b # TypeError: '<=' not supported between instances of 'dict' and 'dict'"
   ]
  },
  {
   "cell_type": "code",
   "execution_count": null,
   "id": "velvet-closure",
   "metadata": {},
   "outputs": [],
   "source": [
    "a = {1: [1, 2], 2: [1], 3:[1]}\n",
    "b = {1: [1, 1], 2: [1], 3:[1]}\n",
    "a == b"
   ]
  },
  {
   "cell_type": "markdown",
   "id": "imposed-reservoir",
   "metadata": {},
   "source": [
    "### for in 迭代"
   ]
  },
  {
   "cell_type": "code",
   "execution_count": null,
   "id": "photographic-resource",
   "metadata": {},
   "outputs": [],
   "source": [
    "a = {'a': 1, 'b': 2, 'c': 4}\n",
    "\n",
    "for key in a: # equals a.keys()\n",
    "    print(key)\n",
    "    \n",
    "# error\n",
    "# for key, value in a:\n",
    "#     print(key, value)"
   ]
  },
  {
   "cell_type": "code",
   "execution_count": null,
   "id": "dramatic-inspiration",
   "metadata": {},
   "outputs": [],
   "source": [
    "for key in a.values():\n",
    "    print(key)"
   ]
  },
  {
   "cell_type": "code",
   "execution_count": null,
   "id": "amended-organic",
   "metadata": {},
   "outputs": [],
   "source": [
    "for key, val in a.items():\n",
    "    print(key, val)"
   ]
  },
  {
   "cell_type": "markdown",
   "id": "judicial-oxygen",
   "metadata": {},
   "source": [
    "### 字典生成式\n",
    "`{key_expression: value_expression for expression in iterable if condition}`"
   ]
  },
  {
   "cell_type": "code",
   "execution_count": null,
   "id": "rolled-academy",
   "metadata": {
    "scrolled": true
   },
   "outputs": [],
   "source": [
    "vowels = 'aeiou'\n",
    "word = 'onomatopoeia'\n",
    "\n",
    "vowel_counts = {letter: word.count(letter) for letter in set(word) if letter in vowels}\n",
    "vowel_counts"
   ]
  },
  {
   "cell_type": "markdown",
   "id": "shaped-episode",
   "metadata": {},
   "source": [
    "----"
   ]
  },
  {
   "cell_type": "markdown",
   "id": "democratic-terminology",
   "metadata": {},
   "source": [
    "# Set 集合  `set()` `{,,,}`\n",
    "只有key的dict"
   ]
  },
  {
   "cell_type": "markdown",
   "id": "spread-laundry",
   "metadata": {},
   "source": [
    "### 轉Set型別"
   ]
  },
  {
   "cell_type": "code",
   "execution_count": null,
   "id": "grateful-equilibrium",
   "metadata": {},
   "outputs": [],
   "source": [
    "set('letter')"
   ]
  },
  {
   "cell_type": "code",
   "execution_count": null,
   "id": "bacterial-luxembourg",
   "metadata": {},
   "outputs": [],
   "source": [
    "set({'a': 1, 'b': 2, 0: '1'})"
   ]
  },
  {
   "cell_type": "code",
   "execution_count": 10,
   "id": "unnecessary-album",
   "metadata": {},
   "outputs": [
    {
     "data": {
      "text/plain": [
       "{0, 1, 2, 3, 4, 'Johnny', 'Pan'}"
      ]
     },
     "execution_count": 10,
     "metadata": {},
     "output_type": "execute_result"
    }
   ],
   "source": [
    "set([0,0,1,2,3,3,4,'Johnny','Pan','Pan'])"
   ]
  },
  {
   "cell_type": "code",
   "execution_count": null,
   "id": "practical-broadcasting",
   "metadata": {},
   "outputs": [],
   "source": [
    "set((0,0,1,2,3,3,4,'Johnny','Pan','Pan'))"
   ]
  },
  {
   "cell_type": "markdown",
   "id": "surprised-status",
   "metadata": {},
   "source": [
    "### update 修改"
   ]
  },
  {
   "cell_type": "code",
   "execution_count": 12,
   "id": "sunrise-hygiene",
   "metadata": {},
   "outputs": [
    {
     "data": {
      "text/plain": [
       "{0, 1, 2, 3, 4, 'Johnny', 'Pan'}"
      ]
     },
     "execution_count": 12,
     "metadata": {},
     "output_type": "execute_result"
    }
   ],
   "source": [
    "s = {0, 1, 2, 3, 4, 'Johnny', 'Pan'}\n",
    "s2 = {3, 4, 'Johnny', 'Pan'}\n",
    "s.update(s2)\n",
    "s"
   ]
  },
  {
   "cell_type": "markdown",
   "id": "powered-administrator",
   "metadata": {},
   "source": [
    "### 取得數量(長度) `len()`"
   ]
  },
  {
   "cell_type": "code",
   "execution_count": 13,
   "id": "threatened-confusion",
   "metadata": {},
   "outputs": [
    {
     "data": {
      "text/plain": [
       "7"
      ]
     },
     "execution_count": 13,
     "metadata": {},
     "output_type": "execute_result"
    }
   ],
   "source": [
    "s = {0, 1, 2, 3, 4, 'Johnny', 'Pan'}\n",
    "len(s)"
   ]
  },
  {
   "cell_type": "markdown",
   "id": "august-mining",
   "metadata": {},
   "source": [
    "### Add 相加 `add()`"
   ]
  },
  {
   "cell_type": "code",
   "execution_count": 18,
   "id": "accessory-corrections",
   "metadata": {},
   "outputs": [
    {
     "data": {
      "text/plain": [
       "{0, 1, 2, 3, 4, 5, 'Johnny', 'Pan'}"
      ]
     },
     "execution_count": 18,
     "metadata": {},
     "output_type": "execute_result"
    }
   ],
   "source": [
    "s = {0, 1, 2, 3, 4, 'Johnny', 'Pan'}\n",
    "s.add(5)\n",
    "s"
   ]
  },
  {
   "cell_type": "code",
   "execution_count": null,
   "id": "urban-digest",
   "metadata": {},
   "outputs": [],
   "source": []
  }
 ],
 "metadata": {
  "kernelspec": {
   "display_name": "Python 3",
   "language": "python",
   "name": "python3"
  },
  "language_info": {
   "codemirror_mode": {
    "name": "ipython",
    "version": 3
   },
   "file_extension": ".py",
   "mimetype": "text/x-python",
   "name": "python",
   "nbconvert_exporter": "python",
   "pygments_lexer": "ipython3",
   "version": "3.9.1"
  }
 },
 "nbformat": 4,
 "nbformat_minor": 5
}
