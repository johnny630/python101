{
 "cells": [
  {
   "cell_type": "markdown",
   "id": "eight-replacement",
   "metadata": {},
   "source": [
    "# Dict\n",
    "`{}`  \n",
    "`dict()`"
   ]
  },
  {
   "cell_type": "code",
   "execution_count": null,
   "id": "alike-marker",
   "metadata": {},
   "outputs": [],
   "source": [
    "d = {'first': 1, 'middle': 'E'}\n",
    "print(d)\n",
    "d2 = dict(first=1, middle='E')\n",
    "# d2 = dict(first=1, def='E')  SyntaxError: invalid syntax\n",
    "print(d2)"
   ]
  },
  {
   "cell_type": "markdown",
   "id": "ahead-toner",
   "metadata": {},
   "source": [
    "### dict()轉換"
   ]
  },
  {
   "cell_type": "code",
   "execution_count": null,
   "id": "preceding-anger",
   "metadata": {},
   "outputs": [],
   "source": [
    "dict([['a', 'b'], ['c', 'd'], ['e', 'f']])"
   ]
  },
  {
   "cell_type": "code",
   "execution_count": null,
   "id": "czech-extra",
   "metadata": {},
   "outputs": [],
   "source": [
    "dict(['ab', 'cd', 'ef'])"
   ]
  },
  {
   "cell_type": "markdown",
   "id": "accomplished-montana",
   "metadata": {},
   "source": [
    "### update 修改 key value"
   ]
  },
  {
   "cell_type": "code",
   "execution_count": null,
   "id": "promotional-fault",
   "metadata": {},
   "outputs": [],
   "source": [
    "d = {\n",
    "    'a': 1,\n",
    "    'b': 'johnny',\n",
    "    'c': {\n",
    "        'name': 'ken',\n",
    "        'age': 35,\n",
    "    },\n",
    "    'b': 'Pan' # 同key 後者會蓋過前者\n",
    "}\n",
    "\n",
    "d['a'] = 2\n",
    "print(d)"
   ]
  },
  {
   "cell_type": "markdown",
   "id": "gothic-subject",
   "metadata": {},
   "source": [
    "### update 修改 整個dict `update()`"
   ]
  },
  {
   "cell_type": "code",
   "execution_count": null,
   "id": "subject-environment",
   "metadata": {},
   "outputs": [],
   "source": [
    "original_dict = {\n",
    "    'a': 1,\n",
    "    'b': 'johnny',\n",
    "    'c': {\n",
    "        'name': 'ken',\n",
    "        'age': 35,\n",
    "    },\n",
    "}\n",
    "update_dict = {\n",
    "    'b': 'pen',\n",
    "    'd': 123\n",
    "}\n",
    "\n",
    "original_dict.update(update_dict)\n",
    "print(original_dict)"
   ]
  },
  {
   "cell_type": "markdown",
   "id": "minute-dutch",
   "metadata": {},
   "source": [
    "### get 取得值\n",
    "`d[key]`  \n",
    "`d.get(key, default_val)`"
   ]
  },
  {
   "cell_type": "code",
   "execution_count": null,
   "id": "induced-gilbert",
   "metadata": {},
   "outputs": [],
   "source": [
    "d['a']"
   ]
  },
  {
   "cell_type": "code",
   "execution_count": null,
   "id": "third-anxiety",
   "metadata": {},
   "outputs": [],
   "source": [
    "d['d']  # 沒有key會error KeyError: 'd'"
   ]
  },
  {
   "cell_type": "code",
   "execution_count": null,
   "id": "amended-hacker",
   "metadata": {},
   "outputs": [],
   "source": [
    "# 可以用in 判斷\n",
    "'d' in d "
   ]
  },
  {
   "cell_type": "code",
   "execution_count": null,
   "id": "modular-break",
   "metadata": {},
   "outputs": [],
   "source": [
    "d.get('b')"
   ]
  },
  {
   "cell_type": "code",
   "execution_count": null,
   "id": "basic-settle",
   "metadata": {},
   "outputs": [],
   "source": [
    "d.get('d', 'default')"
   ]
  },
  {
   "cell_type": "markdown",
   "id": "operational-balance",
   "metadata": {},
   "source": [
    "### 取得 所有keys, values 或 items\n",
    "`keys()`\n",
    "`values()`\n",
    "`items()`"
   ]
  },
  {
   "cell_type": "code",
   "execution_count": null,
   "id": "brave-bible",
   "metadata": {},
   "outputs": [],
   "source": [
    "d.keys()"
   ]
  },
  {
   "cell_type": "code",
   "execution_count": null,
   "id": "numeric-broadcasting",
   "metadata": {},
   "outputs": [],
   "source": [
    "d.values()"
   ]
  },
  {
   "cell_type": "code",
   "execution_count": null,
   "id": "homeless-layout",
   "metadata": {},
   "outputs": [],
   "source": [
    "d.items()"
   ]
  },
  {
   "cell_type": "markdown",
   "id": "afraid-camel",
   "metadata": {},
   "source": [
    "### 取得數量(長度) `len()`"
   ]
  },
  {
   "cell_type": "code",
   "execution_count": null,
   "id": "expired-harbor",
   "metadata": {},
   "outputs": [],
   "source": [
    "len(d)"
   ]
  },
  {
   "cell_type": "markdown",
   "id": "sized-chemical",
   "metadata": {},
   "source": [
    "### Add 相加 `{**a, **b}`"
   ]
  },
  {
   "cell_type": "code",
   "execution_count": null,
   "id": "unlikely-monaco",
   "metadata": {},
   "outputs": [],
   "source": [
    "a = {'a': 1, 'b': 2}\n",
    "b = {'b': 3, 'c': 4}\n",
    "d = {**a, **b}\n",
    "# d = a + b  # TypeError: unsupported operand type(s) for +: 'dict' and 'dict'\n",
    "print(d)"
   ]
  },
  {
   "cell_type": "markdown",
   "id": "presidential-denmark",
   "metadata": {},
   "source": [
    "### delete 刪除 `del dict[key]`"
   ]
  },
  {
   "cell_type": "code",
   "execution_count": null,
   "id": "stainless-emperor",
   "metadata": {},
   "outputs": [],
   "source": [
    "a = {'a': 1, 'b': 2, 'c': 4}\n",
    "del a['a']\n",
    "a"
   ]
  },
  {
   "cell_type": "code",
   "execution_count": 42,
   "id": "streaming-labor",
   "metadata": {},
   "outputs": [],
   "source": [
    "# del a['d']  # KeyError: 'd'"
   ]
  },
  {
   "cell_type": "code",
   "execution_count": null,
   "id": "exposed-trade",
   "metadata": {},
   "outputs": [],
   "source": []
  }
 ],
 "metadata": {
  "kernelspec": {
   "display_name": "Python 3",
   "language": "python",
   "name": "python3"
  },
  "language_info": {
   "codemirror_mode": {
    "name": "ipython",
    "version": 3
   },
   "file_extension": ".py",
   "mimetype": "text/x-python",
   "name": "python",
   "nbconvert_exporter": "python",
   "pygments_lexer": "ipython3",
   "version": "3.9.1"
  }
 },
 "nbformat": 4,
 "nbformat_minor": 5
}
