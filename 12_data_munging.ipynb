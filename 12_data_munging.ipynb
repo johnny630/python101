{
 "cells": [
  {
   "cell_type": "markdown",
   "metadata": {},
   "source": [
    "# Data munging 玩轉資料 ETL(提取/轉換/載入)"
   ]
  },
  {
   "cell_type": "markdown",
   "metadata": {},
   "source": [
    "## Unicode"
   ]
  },
  {
   "cell_type": "markdown",
   "metadata": {},
   "source": [
    "### Unicode 字串\n",
    "\\u 表示unicode 前面2數字是平面號碼(00~FF) 00是舊的ASCII  \n",
    "`'\\N{name}'` 以字元的標準名稱來指定"
   ]
  },
  {
   "cell_type": "code",
   "execution_count": 3,
   "metadata": {},
   "outputs": [
    {
     "name": "stdout",
     "output_type": "stream",
     "text": [
      "value=\"A\", name=\"LATIN CAPITAL LETTER A\", value2=\"A\"\n",
      "value=\"$\", name=\"DOLLAR SIGN\", value2=\"$\"\n",
      "value=\"¢\", name=\"CENT SIGN\", value2=\"¢\"\n",
      "value=\"€\", name=\"EURO SIGN\", value2=\"€\"\n",
      "value=\"☃\", name=\"SNOWMAN\", value2=\"☃\"\n"
     ]
    }
   ],
   "source": [
    "def unicode_test(value):\n",
    "    import unicodedata\n",
    "    \n",
    "    name = unicodedata.name(value) # 接收一個不分大小寫的名稱 回傳一個Unicode字元\n",
    "    value2 = unicodedata.lookup(name) # 接收一個Unicode字元 回傳一個大寫名稱\n",
    "    print('value=\"%s\", name=\"%s\", value2=\"%s\"' % (value, name, value2))\n",
    "    \n",
    "unicode_test('A')\n",
    "unicode_test('$')\n",
    "unicode_test('\\u00a2')\n",
    "unicode_test('\\u20ac')\n",
    "unicode_test('\\u2603')"
   ]
  },
  {
   "cell_type": "code",
   "execution_count": 5,
   "metadata": {},
   "outputs": [
    {
     "data": {
      "text/plain": [
       "'☃'"
      ]
     },
     "execution_count": 5,
     "metadata": {},
     "output_type": "execute_result"
    }
   ],
   "source": [
    "'\\N{SNOWMAN}'"
   ]
  },
  {
   "cell_type": "code",
   "execution_count": 6,
   "metadata": {},
   "outputs": [
    {
     "data": {
      "text/plain": [
       "1"
      ]
     },
     "execution_count": 6,
     "metadata": {},
     "output_type": "execute_result"
    }
   ],
   "source": [
    "len('\\N{SNOWMAN}')"
   ]
  },
  {
   "cell_type": "markdown",
   "metadata": {},
   "source": [
    "### UTF-8\n",
    "編碼  \n",
    "'ascii'  \n",
    "'utf-8'  \n",
    "'latin-1'  \n",
    "'cp-1252'  \n",
    "'unicode-escape'"
   ]
  },
  {
   "cell_type": "markdown",
   "metadata": {},
   "source": [
    "## 正規表達式 (查看04_01)"
   ]
  },
  {
   "cell_type": "markdown",
   "metadata": {},
   "source": [
    "## 二進位"
   ]
  },
  {
   "cell_type": "code",
   "execution_count": null,
   "metadata": {},
   "outputs": [],
   "source": []
  }
 ],
 "metadata": {
  "kernelspec": {
   "display_name": "Python 3",
   "language": "python",
   "name": "python3"
  },
  "language_info": {
   "codemirror_mode": {
    "name": "ipython",
    "version": 3
   },
   "file_extension": ".py",
   "mimetype": "text/x-python",
   "name": "python",
   "nbconvert_exporter": "python",
   "pygments_lexer": "ipython3",
   "version": "3.8.3"
  }
 },
 "nbformat": 4,
 "nbformat_minor": 4
}
