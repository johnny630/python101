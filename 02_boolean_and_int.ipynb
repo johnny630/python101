{
 "cells": [
  {
   "cell_type": "markdown",
   "metadata": {},
   "source": [
    "# Boolean\n",
    "\n",
    "### 以下都會被視為False\n",
    "False  \n",
    "None  \n",
    "0<br/>\n",
    "0.0    \n",
    "''  \n",
    "[]  \n",
    "()  \n",
    "{}  \n",
    "set()  "
   ]
  },
  {
   "cell_type": "code",
   "execution_count": null,
   "metadata": {},
   "outputs": [],
   "source": [
    "print(bool(True))  # True\n",
    "print(bool(False))  # False\n",
    "print(bool(1))  # True\n",
    "print(bool(0.1))  # True\n",
    "print(bool(0))  # False\n",
    "print(bool(0.0))  # False\n",
    "print(bool(-1))  # True\n",
    "print(bool([1,2]))  # True\n",
    "print(bool([]))  # False\n",
    "print(bool({'a': 1}))  # True\n",
    "print(bool({}))  # False\n",
    "print(bool('abc'))  # true\n",
    "print(bool(''))  # false\n",
    "print(bool(' '))  # true"
   ]
  },
  {
   "cell_type": "markdown",
   "metadata": {},
   "source": [
    "## 變數賦值"
   ]
  },
  {
   "cell_type": "code",
   "execution_count": null,
   "metadata": {},
   "outputs": [],
   "source": [
    "a = 90\n",
    "a -= 5\n",
    "print(a)\n",
    "\n",
    "a = 13\n",
    "a //= 3 #除整數\n",
    "print(a)\n",
    "\n",
    "a = 13\n",
    "a /= 3 #除小數點\n",
    "print(a)"
   ]
  },
  {
   "cell_type": "markdown",
   "metadata": {},
   "source": [
    "## 底數"
   ]
  },
  {
   "cell_type": "code",
   "execution_count": null,
   "metadata": {},
   "outputs": [],
   "source": [
    "### 二進制\n",
    "0b10\n",
    "0B10"
   ]
  },
  {
   "cell_type": "code",
   "execution_count": null,
   "metadata": {},
   "outputs": [],
   "source": [
    "### 八進制\n",
    "0o11\n",
    "0O11"
   ]
  },
  {
   "cell_type": "code",
   "execution_count": null,
   "metadata": {},
   "outputs": [],
   "source": [
    "### 十六進制\n",
    "0x10\n",
    "0X10"
   ]
  },
  {
   "cell_type": "markdown",
   "metadata": {},
   "source": [
    "### 十進制轉換底數字串"
   ]
  },
  {
   "cell_type": "code",
   "execution_count": 13,
   "metadata": {},
   "outputs": [
    {
     "data": {
      "text/plain": [
       "'0b1000001'"
      ]
     },
     "execution_count": 13,
     "metadata": {},
     "output_type": "execute_result"
    }
   ],
   "source": [
    "### Revert convert\n",
    "value = 65\n",
    "bin(value)"
   ]
  },
  {
   "cell_type": "code",
   "execution_count": null,
   "metadata": {},
   "outputs": [],
   "source": [
    "oct(value)"
   ]
  },
  {
   "cell_type": "code",
   "execution_count": null,
   "metadata": {},
   "outputs": [],
   "source": [
    "hex(value)"
   ]
  },
  {
   "cell_type": "markdown",
   "metadata": {},
   "source": [
    "### 字串十進制互轉"
   ]
  },
  {
   "cell_type": "code",
   "execution_count": null,
   "metadata": {},
   "outputs": [],
   "source": [
    "ord('a')"
   ]
  },
  {
   "cell_type": "code",
   "execution_count": 19,
   "metadata": {},
   "outputs": [
    {
     "data": {
      "text/plain": [
       "65"
      ]
     },
     "execution_count": 19,
     "metadata": {},
     "output_type": "execute_result"
    }
   ],
   "source": [
    "int('1000001', 2)"
   ]
  },
  {
   "cell_type": "code",
   "execution_count": null,
   "metadata": {},
   "outputs": [],
   "source": [
    "chr(97)"
   ]
  },
  {
   "cell_type": "markdown",
   "metadata": {},
   "source": [
    "### 型態轉換"
   ]
  },
  {
   "cell_type": "code",
   "execution_count": 20,
   "metadata": {},
   "outputs": [
    {
     "name": "stdout",
     "output_type": "stream",
     "text": [
      "1\n",
      "0\n",
      "2\n",
      "8\n",
      "16\n",
      "22\n"
     ]
    }
   ],
   "source": [
    "print(int(True)) # 1\n",
    "print(int(False)) # 0\n",
    "### 字串轉換底數\n",
    "print(int('10', 2))\n",
    "print(int('10', 8))\n",
    "print(int('10', 16))\n",
    "print(int('10', 22))"
   ]
  },
  {
   "cell_type": "code",
   "execution_count": null,
   "metadata": {},
   "outputs": [],
   "source": []
  }
 ],
 "metadata": {
  "kernelspec": {
   "display_name": "Python 3",
   "language": "python",
   "name": "python3"
  },
  "language_info": {
   "codemirror_mode": {
    "name": "ipython",
    "version": 3
   },
   "file_extension": ".py",
   "mimetype": "text/x-python",
   "name": "python",
   "nbconvert_exporter": "python",
   "pygments_lexer": "ipython3",
   "version": "3.9.1"
  }
 },
 "nbformat": 4,
 "nbformat_minor": 4
}
