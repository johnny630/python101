{
 "cells": [
  {
   "cell_type": "markdown",
   "metadata": {},
   "source": [
    "# Function 函式  `def`"
   ]
  },
  {
   "cell_type": "markdown",
   "metadata": {},
   "source": [
    "## 呼叫函式 `()`"
   ]
  },
  {
   "cell_type": "code",
   "execution_count": 1,
   "metadata": {},
   "outputs": [
    {
     "name": "stdout",
     "output_type": "stream",
     "text": [
      "function\n"
     ]
    }
   ],
   "source": [
    "def function():\n",
    "    print('function')\n",
    "    \n",
    "function()"
   ]
  },
  {
   "cell_type": "markdown",
   "metadata": {},
   "source": [
    "## 引數與參數\n",
    "引數的順序:\n",
    "1. 必須的位置引數\n",
    "2. 選用的位置引數 *args\n",
    "3. 選用的關鍵字引數 **kwargs"
   ]
  },
  {
   "cell_type": "code",
   "execution_count": 2,
   "metadata": {},
   "outputs": [
    {
     "name": "stdout",
     "output_type": "stream",
     "text": [
      "None is None\n",
      "0 is False\n",
      "1 is True\n"
     ]
    }
   ],
   "source": [
    "def whatis(it):\n",
    "    if it is None:\n",
    "        print(it, \"is None\")\n",
    "    elif it:\n",
    "        print(it, \"is True\")\n",
    "    else:\n",
    "        print(it, \"is False\")\n",
    "        \n",
    "whatis(None)\n",
    "whatis(0)\n",
    "whatis(1)"
   ]
  },
  {
   "cell_type": "markdown",
   "metadata": {},
   "source": [
    "### 引數位置"
   ]
  },
  {
   "cell_type": "code",
   "execution_count": 8,
   "metadata": {},
   "outputs": [
    {
     "name": "stdout",
     "output_type": "stream",
     "text": [
      "{'a': 1, 'b': 2, 'c': 3}\n",
      "{'a': 1, 'b': 3, 'c': 5}\n",
      "{'a': 1, 'b': 2, 'c': 3}\n"
     ]
    }
   ],
   "source": [
    "def test(a, b, c):\n",
    "    return {'a': a, 'b': b, 'c': c}\n",
    "\n",
    "#直接照順序傳\n",
    "print(test(1, 2, 3))\n",
    "\n",
    "#指定引數名\n",
    "print(test(a=1, b=3, c=5))\n",
    "print(test(1, 2, c=3))\n"
   ]
  },
  {
   "cell_type": "markdown",
   "metadata": {},
   "source": [
    "### 引數預設值\n",
    "引數預設值是在定義時決定的，不是在執行時。"
   ]
  },
  {
   "cell_type": "code",
   "execution_count": 13,
   "metadata": {},
   "outputs": [
    {
     "name": "stdout",
     "output_type": "stream",
     "text": [
      "{'a': 1, 'b': 2, 'c': [1]}\n",
      "{'a': 3, 'b': 4, 'c': [1, 3]}\n"
     ]
    }
   ],
   "source": [
    "# 因為引數預設值是在定義時決定的，不是在執行時。\n",
    "# 所以c 會有問題\n",
    "def test(a, b, c=[]):\n",
    "    c.append(a)\n",
    "    return {'a': a, 'b': b, 'c': c}\n",
    "\n",
    "print(test(1, 2))\n",
    "print(test(3, 4))"
   ]
  },
  {
   "cell_type": "code",
   "execution_count": 15,
   "metadata": {},
   "outputs": [
    {
     "name": "stdout",
     "output_type": "stream",
     "text": [
      "{'a': 1, 'b': 2, 'c': [1]}\n",
      "{'a': 3, 'b': 4, 'c': [3]}\n"
     ]
    }
   ],
   "source": [
    "# 或許可以revise\n",
    "def test(a, b, c=None):\n",
    "    if c is None:\n",
    "        c = []\n",
    "    \n",
    "    c.append(a)\n",
    "    return {'a': a, 'b': b, 'c': c}\n",
    "\n",
    "print(test(1, 2))\n",
    "print(test(3, 4))"
   ]
  },
  {
   "cell_type": "markdown",
   "metadata": {},
   "source": [
    "### 炸開/收集 引數  `*`, `**`"
   ]
  },
  {
   "cell_type": "code",
   "execution_count": 22,
   "metadata": {},
   "outputs": [
    {
     "name": "stdout",
     "output_type": "stream",
     "text": [
      "Positional tuple: ()\n",
      "Positional tuple: (1, 2, 3, 4)\n",
      "Positional tuple: ([1, 2, 3, 4],)\n",
      "Positional tuple: (1, 2, 3, 4)\n"
     ]
    }
   ],
   "source": [
    "def print_args(*args):\n",
    "    print('Positional tuple:', args)\n",
    "    \n",
    "print_args()\n",
    "print_args(1,2,3,4)\n",
    "args = [1,2,3,4]\n",
    "print_args(args)\n",
    "print_args(*args)\n",
    "# print_args(a=1, b=2) TypeError: print_args() got an unexpected keyword argument 'a'"
   ]
  },
  {
   "cell_type": "code",
   "execution_count": 24,
   "metadata": {},
   "outputs": [
    {
     "name": "stdout",
     "output_type": "stream",
     "text": [
      "Positional tuple: (3, 4)\n",
      "Positional tuple: (3, 4)\n"
     ]
    }
   ],
   "source": [
    "def print_args(a, b, *args):\n",
    "    print('Positional tuple:', args)\n",
    "    \n",
    "print_args(1,2,3,4)\n",
    "args = [1,2,3,4]\n",
    "print_args(*args)"
   ]
  },
  {
   "cell_type": "code",
   "execution_count": 30,
   "metadata": {},
   "outputs": [
    {
     "name": "stdout",
     "output_type": "stream",
     "text": [
      "keyword arguments: {}\n",
      "keyword arguments: {'a': 1, 'b': 2, 'c': 3}\n",
      "keyword arguments: {'a': 1, 'b': 2, 'c': 3}\n"
     ]
    }
   ],
   "source": [
    "def print_kwargs(**kwargs):\n",
    "    print('keyword arguments:', kwargs)\n",
    "    \n",
    "print_kwargs()\n",
    "print_kwargs(a=1, b=2, c=3)\n",
    "kwargs = {'a':1 , 'b':2, 'c':3}\n",
    "# print_kwargs(kwargs) error\n",
    "print_kwargs(**kwargs)"
   ]
  },
  {
   "cell_type": "markdown",
   "metadata": {},
   "source": [
    "### 純關鍵字引數  `*`\n",
    "`*`後面必須用具名引數來傳"
   ]
  },
  {
   "cell_type": "code",
   "execution_count": 34,
   "metadata": {},
   "outputs": [
    {
     "name": "stdout",
     "output_type": "stream",
     "text": [
      "['a', 'b', 'c', 'd', 'e']\n",
      "['b', 'c', 'd', 'e']\n"
     ]
    }
   ],
   "source": [
    "def print_data(data, *, start=0, end=100):\n",
    "    print(data[start:end])\n",
    "    \n",
    "data = ['a', 'b', 'c', 'd', 'e']\n",
    "print_data(data)\n",
    "print_data(data, start=1)"
   ]
  },
  {
   "cell_type": "markdown",
   "metadata": {},
   "source": [
    "## Docstrings"
   ]
  },
  {
   "cell_type": "code",
   "execution_count": 36,
   "metadata": {},
   "outputs": [
    {
     "name": "stdout",
     "output_type": "stream",
     "text": [
      "Help on function add_me in module __main__:\n",
      "\n",
      "add_me(a, b)\n",
      "    This is docstring test add_me (reST style)\n",
      "    \n",
      "    :param a: first number arg.\n",
      "    :param b: 2nd number arg.\n",
      "    :returns: return 2 number add.\n",
      "    :raises: none\n",
      "    \n",
      "    >>> add_me(1, 2)\n",
      "    3\n",
      "\n"
     ]
    }
   ],
   "source": [
    "# Docstring style https://kknews.cc/zh-tw/tech/m392x46.html\n",
    "# Docstring test https://www.osgeo.cn/cpython/library/doctest.html\n",
    "# python -m doctest -v xxxxxx.py\n",
    "def add_me(a, b):\n",
    "    '''\n",
    "    This is docstring test add_me (reST style)\n",
    "    \n",
    "    :param a: first number arg.\n",
    "    :param b: 2nd number arg.\n",
    "    :returns: return 2 number add.\n",
    "    :raises: none\n",
    "    \n",
    "    >>> add_me(1, 2)\n",
    "    3\n",
    "    '''\n",
    "    return a + b\n",
    "\n",
    "help(add_me)"
   ]
  },
  {
   "cell_type": "code",
   "execution_count": 37,
   "metadata": {},
   "outputs": [
    {
     "name": "stdout",
     "output_type": "stream",
     "text": [
      "\n",
      "    This is docstring test add_me (reST style)\n",
      "    \n",
      "    :param a: first number arg.\n",
      "    :param b: 2nd number arg.\n",
      "    :returns: return 2 number add.\n",
      "    :raises: none\n",
      "    \n",
      "    >>> add_me(1, 2)\n",
      "    3\n",
      "    \n"
     ]
    }
   ],
   "source": [
    "print(add_me.__doc__)"
   ]
  },
  {
   "cell_type": "markdown",
   "metadata": {},
   "source": [
    "## 函式是一級公民\n",
    "一切都是物件, function也可以當變數"
   ]
  },
  {
   "cell_type": "code",
   "execution_count": 40,
   "metadata": {},
   "outputs": [
    {
     "data": {
      "text/plain": [
       "5"
      ]
     },
     "execution_count": 40,
     "metadata": {},
     "output_type": "execute_result"
    }
   ],
   "source": [
    "def run_function_with_args(func, *args):\n",
    "    return func(*args)\n",
    "    \n",
    "def add_my(a, b):\n",
    "    return a + b\n",
    "\n",
    "run_function_with_args(add_my, 2, 3)"
   ]
  },
  {
   "cell_type": "markdown",
   "metadata": {},
   "source": [
    "## 內部函式\n",
    "在一個函式裡面多次執行複雜的動作"
   ]
  },
  {
   "cell_type": "code",
   "execution_count": 6,
   "metadata": {},
   "outputs": [
    {
     "data": {
      "text/plain": [
       "['This is inner function number: 5',\n",
       " 'This is inner function number: 6',\n",
       " 'This is inner function number: 7',\n",
       " 'This is inner function number: 8',\n",
       " 'This is inner function number: 9']"
      ]
     },
     "execution_count": 6,
     "metadata": {},
     "output_type": "execute_result"
    }
   ],
   "source": [
    "def calculator(a):\n",
    "    def inner(n):\n",
    "        return f'This is inner function number: {n}'\n",
    "    \n",
    "    for i in range(0, 5):\n",
    "        yield inner(a+i)\n",
    "        \n",
    "list(calculator(5))"
   ]
  },
  {
   "cell_type": "markdown",
   "metadata": {},
   "source": [
    "## Closure 封閉函式\n",
    "一種動態建立的，並且記得它來自哪裡的函式"
   ]
  },
  {
   "cell_type": "code",
   "execution_count": 12,
   "metadata": {},
   "outputs": [
    {
     "name": "stdout",
     "output_type": "stream",
     "text": [
      "<class 'function'>\n",
      "<class 'function'>\n",
      "<function calculator.<locals>.inner at 0x10fc4eee0>\n",
      "<function calculator.<locals>.inner at 0x10fc4e4c0>\n",
      "This is inner function number: 6\n",
      "This is inner function number: 7\n"
     ]
    }
   ],
   "source": [
    "def calculator(a):\n",
    "    def inner(n):\n",
    "        return f'This is inner function number: {a+n}'\n",
    "    \n",
    "    return inner\n",
    "\n",
    "a = calculator(5)\n",
    "b = calculator(5)\n",
    "\n",
    "# a b 是函式\n",
    "print(type(a))\n",
    "print(type(b))\n",
    "# 也是 closure\n",
    "print(a)\n",
    "print(b)\n",
    "\n",
    "print(a(1))\n",
    "print(a(2))"
   ]
  },
  {
   "cell_type": "markdown",
   "metadata": {},
   "source": [
    "## Lambda 匿名函式\n",
    "一種以一行陳述式來表示的匿名函式, 小型函式  \n",
    "回呼函式"
   ]
  },
  {
   "cell_type": "code",
   "execution_count": 15,
   "metadata": {},
   "outputs": [
    {
     "name": "stdout",
     "output_type": "stream",
     "text": [
      "Thud!\n",
      "Meow!\n",
      "Thud!\n",
      "Hiss!\n"
     ]
    }
   ],
   "source": [
    "def edit_story(words, func):\n",
    "    for word in words:\n",
    "        print(func(word))\n",
    "        \n",
    "stairs = ['thud', 'meow', 'thud', 'hiss']\n",
    "\n",
    "def enliven(word):\n",
    "    return word.capitalize() + '!'\n",
    "\n",
    "edit_story(stairs, enliven)"
   ]
  },
  {
   "cell_type": "code",
   "execution_count": 16,
   "metadata": {},
   "outputs": [
    {
     "name": "stdout",
     "output_type": "stream",
     "text": [
      "Thud!\n",
      "Meow!\n",
      "Thud!\n",
      "Hiss!\n"
     ]
    }
   ],
   "source": [
    "# 使用 lambda\n",
    "edit_story(stairs, lambda word: word.capitalize() + '!')"
   ]
  },
  {
   "cell_type": "markdown",
   "metadata": {},
   "source": [
    "## 產生器函式"
   ]
  },
  {
   "cell_type": "code",
   "execution_count": 5,
   "metadata": {},
   "outputs": [
    {
     "data": {
      "text/plain": [
       "<function __main__.my_range(first=0, last=10, step=1)>"
      ]
     },
     "execution_count": 5,
     "metadata": {},
     "output_type": "execute_result"
    }
   ],
   "source": [
    "def my_range(first=0, last=10, step=1):\n",
    "    number = first\n",
    "    while number < last:\n",
    "        yield number\n",
    "        number += step\n",
    "        \n",
    "my_range  #function"
   ]
  },
  {
   "cell_type": "code",
   "execution_count": 6,
   "metadata": {},
   "outputs": [
    {
     "data": {
      "text/plain": [
       "<generator object my_range at 0x1085b96d0>"
      ]
     },
     "execution_count": 6,
     "metadata": {},
     "output_type": "execute_result"
    }
   ],
   "source": [
    "ranger = my_range(1, 5)\n",
    "ranger  #generator"
   ]
  },
  {
   "cell_type": "code",
   "execution_count": 7,
   "metadata": {},
   "outputs": [
    {
     "data": {
      "text/plain": [
       "[1, 2, 3, 4]"
      ]
     },
     "execution_count": 7,
     "metadata": {},
     "output_type": "execute_result"
    }
   ],
   "source": [
    "[x for x in ranger]"
   ]
  },
  {
   "cell_type": "code",
   "execution_count": 11,
   "metadata": {},
   "outputs": [
    {
     "data": {
      "text/plain": [
       "[]"
      ]
     },
     "execution_count": 11,
     "metadata": {},
     "output_type": "execute_result"
    }
   ],
   "source": [
    "[x for x in ranger] #只能執行一次，無法重新啟動或備份，再跑一次則沒有東西"
   ]
  },
  {
   "cell_type": "markdown",
   "metadata": {},
   "source": [
    "## 裝飾器"
   ]
  },
  {
   "cell_type": "code",
   "execution_count": 17,
   "metadata": {},
   "outputs": [
    {
     "name": "stdout",
     "output_type": "stream",
     "text": [
      "Running function: add_ints\n",
      "Positional arguments: (3, 5)\n",
      "Keyword arguments: {}\n",
      "Result: 8\n"
     ]
    },
    {
     "data": {
      "text/plain": [
       "8"
      ]
     },
     "execution_count": 17,
     "metadata": {},
     "output_type": "execute_result"
    }
   ],
   "source": [
    "def document_it(func):\n",
    "    def new_function(*args, **kwargs):\n",
    "        print('Running function:', func.__name__)\n",
    "        print('Positional arguments:', args)\n",
    "        print('Keyword arguments:', kwargs)\n",
    "        result = func(*args, **kwargs)\n",
    "        print('Result:', result)\n",
    "        return result\n",
    "    return new_function\n",
    "\n",
    "def add_ints(a, b):\n",
    "    return a + b\n",
    "\n",
    "cooler_add_ints = document_it(add_ints) #手動做裝飾器\n",
    "cooler_add_ints(3, 5)"
   ]
  },
  {
   "cell_type": "code",
   "execution_count": 18,
   "metadata": {},
   "outputs": [
    {
     "name": "stdout",
     "output_type": "stream",
     "text": [
      "Running function: add_ints\n",
      "Positional arguments: (3, 4)\n",
      "Keyword arguments: {}\n",
      "Result: 7\n"
     ]
    },
    {
     "data": {
      "text/plain": [
       "7"
      ]
     },
     "execution_count": 18,
     "metadata": {},
     "output_type": "execute_result"
    }
   ],
   "source": [
    "#裝飾器\n",
    "@document_it\n",
    "def add_ints(a, b):\n",
    "    return a + b\n",
    "\n",
    "add_ints(3, 4)"
   ]
  },
  {
   "cell_type": "markdown",
   "metadata": {},
   "source": [
    "### 多個裝飾器\n",
    "最靠近`def`的裝飾器會先執行"
   ]
  },
  {
   "cell_type": "code",
   "execution_count": 20,
   "metadata": {},
   "outputs": [
    {
     "name": "stdout",
     "output_type": "stream",
     "text": [
      "Running function: new_function\n",
      "Positional arguments: (3, 5)\n",
      "Keyword arguments: {}\n",
      "Result: 64\n"
     ]
    },
    {
     "data": {
      "text/plain": [
       "64"
      ]
     },
     "execution_count": 20,
     "metadata": {},
     "output_type": "execute_result"
    }
   ],
   "source": [
    "def square_it(func):\n",
    "    def new_function(*args, **kwargs):\n",
    "        result = func(*args, **kwargs)\n",
    "        return result * result\n",
    "    return new_function\n",
    "    \n",
    "\n",
    "@document_it\n",
    "@square_it\n",
    "def add_ints(a, b):\n",
    "    return a + b\n",
    "\n",
    "add_ints(3, 5)"
   ]
  },
  {
   "cell_type": "code",
   "execution_count": 22,
   "metadata": {},
   "outputs": [
    {
     "name": "stdout",
     "output_type": "stream",
     "text": [
      "Running function: add_ints\n",
      "Positional arguments: (3, 5)\n",
      "Keyword arguments: {}\n",
      "Result: 8\n"
     ]
    },
    {
     "data": {
      "text/plain": [
       "64"
      ]
     },
     "execution_count": 22,
     "metadata": {},
     "output_type": "execute_result"
    }
   ],
   "source": [
    "@square_it\n",
    "@document_it\n",
    "def add_ints(a, b):\n",
    "    return a + b\n",
    "\n",
    "# 過程輸出不同 結果相同\n",
    "add_ints(3, 5)"
   ]
  },
  {
   "cell_type": "markdown",
   "metadata": {},
   "source": [
    "## 命名空間及作用域"
   ]
  },
  {
   "cell_type": "code",
   "execution_count": 24,
   "metadata": {},
   "outputs": [
    {
     "name": "stdout",
     "output_type": "stream",
     "text": [
      "at the top level: 1 4400011568\n",
      "function variable: 1 4400011568\n"
     ]
    }
   ],
   "source": [
    "a = 1\n",
    "def func_scope():\n",
    "    # 區域中取得全域變數\n",
    "    print('function variable:', a, id(a))\n",
    "    \n",
    "print('at the top level:', a, id(a))\n",
    "func_scope()"
   ]
  },
  {
   "cell_type": "code",
   "execution_count": 26,
   "metadata": {},
   "outputs": [
    {
     "ename": "UnboundLocalError",
     "evalue": "local variable 'a' referenced before assignment",
     "output_type": "error",
     "traceback": [
      "\u001b[0;31m---------------------------------------------------------------------------\u001b[0m",
      "\u001b[0;31mUnboundLocalError\u001b[0m                         Traceback (most recent call last)",
      "\u001b[0;32m<ipython-input-26-79cbf01b3024>\u001b[0m in \u001b[0;36m<module>\u001b[0;34m\u001b[0m\n\u001b[1;32m      6\u001b[0m     \u001b[0mprint\u001b[0m\u001b[0;34m(\u001b[0m\u001b[0;34m'after change:'\u001b[0m\u001b[0;34m,\u001b[0m \u001b[0ma\u001b[0m\u001b[0;34m)\u001b[0m\u001b[0;34m\u001b[0m\u001b[0;34m\u001b[0m\u001b[0m\n\u001b[1;32m      7\u001b[0m \u001b[0;34m\u001b[0m\u001b[0m\n\u001b[0;32m----> 8\u001b[0;31m \u001b[0mfunc_scope\u001b[0m\u001b[0;34m(\u001b[0m\u001b[0;34m)\u001b[0m\u001b[0;34m\u001b[0m\u001b[0;34m\u001b[0m\u001b[0m\n\u001b[0m",
      "\u001b[0;32m<ipython-input-26-79cbf01b3024>\u001b[0m in \u001b[0;36mfunc_scope\u001b[0;34m()\u001b[0m\n\u001b[1;32m      2\u001b[0m \u001b[0;32mdef\u001b[0m \u001b[0mfunc_scope\u001b[0m\u001b[0;34m(\u001b[0m\u001b[0;34m)\u001b[0m\u001b[0;34m:\u001b[0m\u001b[0;34m\u001b[0m\u001b[0;34m\u001b[0m\u001b[0m\n\u001b[1;32m      3\u001b[0m     \u001b[0;31m# 區域中取得全域變數 並且 改變它 將會出錯 UnboundLocalError\u001b[0m\u001b[0;34m\u001b[0m\u001b[0;34m\u001b[0m\u001b[0;34m\u001b[0m\u001b[0m\n\u001b[0;32m----> 4\u001b[0;31m     \u001b[0mprint\u001b[0m\u001b[0;34m(\u001b[0m\u001b[0;34m'function variable:'\u001b[0m\u001b[0;34m,\u001b[0m \u001b[0ma\u001b[0m\u001b[0;34m,\u001b[0m \u001b[0mid\u001b[0m\u001b[0;34m(\u001b[0m\u001b[0ma\u001b[0m\u001b[0;34m)\u001b[0m\u001b[0;34m)\u001b[0m\u001b[0;34m\u001b[0m\u001b[0;34m\u001b[0m\u001b[0m\n\u001b[0m\u001b[1;32m      5\u001b[0m     \u001b[0ma\u001b[0m \u001b[0;34m=\u001b[0m \u001b[0;36m2\u001b[0m\u001b[0;34m\u001b[0m\u001b[0;34m\u001b[0m\u001b[0m\n\u001b[1;32m      6\u001b[0m     \u001b[0mprint\u001b[0m\u001b[0;34m(\u001b[0m\u001b[0;34m'after change:'\u001b[0m\u001b[0;34m,\u001b[0m \u001b[0ma\u001b[0m\u001b[0;34m)\u001b[0m\u001b[0;34m\u001b[0m\u001b[0;34m\u001b[0m\u001b[0m\n",
      "\u001b[0;31mUnboundLocalError\u001b[0m: local variable 'a' referenced before assignment"
     ]
    }
   ],
   "source": [
    "a = 1\n",
    "def func_scope():\n",
    "    # 區域中取得全域變數 並且 改變它 將會出錯 UnboundLocalError\n",
    "    print('function variable:', a, id(a))\n",
    "    a = 2\n",
    "    print('after change:', a)\n",
    "    \n",
    "func_scope()"
   ]
  },
  {
   "cell_type": "code",
   "execution_count": 3,
   "metadata": {},
   "outputs": [
    {
     "name": "stdout",
     "output_type": "stream",
     "text": [
      "function variable: 2 4347849184\n",
      "at the top level: 1 4347849152\n"
     ]
    }
   ],
   "source": [
    "# 兩個 a 是不一樣的變數\n",
    "a = 1\n",
    "def func_scope():\n",
    "    # 這邊是區域變數的 a\n",
    "    a = 2\n",
    "    print('function variable:', a, id(a))\n",
    "        \n",
    "func_scope()\n",
    "print('at the top level:', a, id(a))"
   ]
  },
  {
   "cell_type": "code",
   "execution_count": 6,
   "metadata": {},
   "outputs": [
    {
     "name": "stdout",
     "output_type": "stream",
     "text": [
      "function variable: 2 4347849184\n",
      "at the top level: 2 4347849184\n"
     ]
    }
   ],
   "source": [
    "# 兩個 a 是一樣的變數\n",
    "a = 1\n",
    "def func_scope():\n",
    "    # 設成global variable\n",
    "    global a\n",
    "    a = 2\n",
    "    print('function variable:', a, id(a))\n",
    "        \n",
    "func_scope()\n",
    "print('at the top level:', a, id(a))"
   ]
  },
  {
   "cell_type": "markdown",
   "metadata": {},
   "source": [
    "### 讀取作用域內容 `locals()`, `globals()`"
   ]
  },
  {
   "cell_type": "code",
   "execution_count": 7,
   "metadata": {},
   "outputs": [
    {
     "name": "stdout",
     "output_type": "stream",
     "text": [
      "locals content: {'a': 2}\n",
      "globals content: {'__name__': '__main__', '__doc__': 'Automatically created module for IPython interactive environment', '__package__': None, '__loader__': None, '__spec__': None, '__builtin__': <module 'builtins' (built-in)>, '__builtins__': <module 'builtins' (built-in)>, '_ih': ['', \"a = 1\\ndef func_scope():\\n    a = 2\\n    # 區域中取得全域變數 並且 改變它 將會出錯 UnboundLocalError\\n    print('function variable:', a, id(a))\\nprint('at the top level:', a, id(a))\\n    \\nfunc_scope()\", \"a = 1\\ndef func_scope():\\n    # 這邊是區域變數的 a\\n    a = 2\\n    print('function variable:', a, id(a))\\n    \\nprint('at the top level:', a, id(a))\\n    \\nfunc_scope()\", \"a = 1\\ndef func_scope():\\n    # 這邊是區域變數的 a\\n    a = 2\\n    print('function variable:', a, id(a))\\n        \\nfunc_scope()\\nprint('at the top level:', a, id(a))\", \"a = 1\\ndef func_scope():\\n    # 設成global\\n    global a\\n    a = 2\\n    print('function variable:', a, id(a))\\n        \\nfunc_scope()\\nprint('at the top level:', a, id(a))\", \"a = 1\\ndef func_scope():\\n    # 設成global\\n    global a = 2\\n\\n    print('function variable:', a, id(a))\\n        \\nfunc_scope()\\nprint('at the top level:', a, id(a))\", \"a = 1\\ndef func_scope():\\n    # 設成global variable\\n    global a\\n    a = 2\\n    print('function variable:', a, id(a))\\n        \\nfunc_scope()\\nprint('at the top level:', a, id(a))\", \"a = 1\\ndef func_scope():\\n    a = 2\\n    print('locals content:', locals())\\n    \\nfunc_scope()\\nprint('globals content:', globals())\"], '_oh': {}, '_dh': ['/Users/johnnyliu/Documents/pythonProjects/python101'], 'In': ['', \"a = 1\\ndef func_scope():\\n    a = 2\\n    # 區域中取得全域變數 並且 改變它 將會出錯 UnboundLocalError\\n    print('function variable:', a, id(a))\\nprint('at the top level:', a, id(a))\\n    \\nfunc_scope()\", \"a = 1\\ndef func_scope():\\n    # 這邊是區域變數的 a\\n    a = 2\\n    print('function variable:', a, id(a))\\n    \\nprint('at the top level:', a, id(a))\\n    \\nfunc_scope()\", \"a = 1\\ndef func_scope():\\n    # 這邊是區域變數的 a\\n    a = 2\\n    print('function variable:', a, id(a))\\n        \\nfunc_scope()\\nprint('at the top level:', a, id(a))\", \"a = 1\\ndef func_scope():\\n    # 設成global\\n    global a\\n    a = 2\\n    print('function variable:', a, id(a))\\n        \\nfunc_scope()\\nprint('at the top level:', a, id(a))\", \"a = 1\\ndef func_scope():\\n    # 設成global\\n    global a = 2\\n\\n    print('function variable:', a, id(a))\\n        \\nfunc_scope()\\nprint('at the top level:', a, id(a))\", \"a = 1\\ndef func_scope():\\n    # 設成global variable\\n    global a\\n    a = 2\\n    print('function variable:', a, id(a))\\n        \\nfunc_scope()\\nprint('at the top level:', a, id(a))\", \"a = 1\\ndef func_scope():\\n    a = 2\\n    print('locals content:', locals())\\n    \\nfunc_scope()\\nprint('globals content:', globals())\"], 'Out': {}, 'get_ipython': <bound method InteractiveShell.get_ipython of <ipykernel.zmqshell.ZMQInteractiveShell object at 0x1050f35e0>>, 'exit': <IPython.core.autocall.ZMQExitAutocall object at 0x1051363a0>, 'quit': <IPython.core.autocall.ZMQExitAutocall object at 0x1051363a0>, '_': '', '__': '', '___': '', '_i': \"a = 1\\ndef func_scope():\\n    # 設成global variable\\n    global a\\n    a = 2\\n    print('function variable:', a, id(a))\\n        \\nfunc_scope()\\nprint('at the top level:', a, id(a))\", '_ii': \"a = 1\\ndef func_scope():\\n    # 設成global\\n    global a = 2\\n\\n    print('function variable:', a, id(a))\\n        \\nfunc_scope()\\nprint('at the top level:', a, id(a))\", '_iii': \"a = 1\\ndef func_scope():\\n    # 設成global\\n    global a\\n    a = 2\\n    print('function variable:', a, id(a))\\n        \\nfunc_scope()\\nprint('at the top level:', a, id(a))\", '_i1': \"a = 1\\ndef func_scope():\\n    a = 2\\n    # 區域中取得全域變數 並且 改變它 將會出錯 UnboundLocalError\\n    print('function variable:', a, id(a))\\nprint('at the top level:', a, id(a))\\n    \\nfunc_scope()\", 'a': 1, 'func_scope': <function func_scope at 0x10522a820>, '_i2': \"a = 1\\ndef func_scope():\\n    # 這邊是區域變數的 a\\n    a = 2\\n    print('function variable:', a, id(a))\\n    \\nprint('at the top level:', a, id(a))\\n    \\nfunc_scope()\", '_i3': \"a = 1\\ndef func_scope():\\n    # 這邊是區域變數的 a\\n    a = 2\\n    print('function variable:', a, id(a))\\n        \\nfunc_scope()\\nprint('at the top level:', a, id(a))\", '_i4': \"a = 1\\ndef func_scope():\\n    # 設成global\\n    global a\\n    a = 2\\n    print('function variable:', a, id(a))\\n        \\nfunc_scope()\\nprint('at the top level:', a, id(a))\", '_i5': \"a = 1\\ndef func_scope():\\n    # 設成global\\n    global a = 2\\n\\n    print('function variable:', a, id(a))\\n        \\nfunc_scope()\\nprint('at the top level:', a, id(a))\", '_i6': \"a = 1\\ndef func_scope():\\n    # 設成global variable\\n    global a\\n    a = 2\\n    print('function variable:', a, id(a))\\n        \\nfunc_scope()\\nprint('at the top level:', a, id(a))\", '_i7': \"a = 1\\ndef func_scope():\\n    a = 2\\n    print('locals content:', locals())\\n    \\nfunc_scope()\\nprint('globals content:', globals())\"}\n"
     ]
    }
   ],
   "source": [
    "a = 1\n",
    "def func_scope():\n",
    "    a = 2\n",
    "    print('locals content:', locals())\n",
    "    \n",
    "func_scope()\n",
    "print('globals content:', globals())"
   ]
  },
  {
   "cell_type": "markdown",
   "metadata": {},
   "source": [
    "## 保留function `_`, `__`"
   ]
  },
  {
   "cell_type": "markdown",
   "metadata": {},
   "source": [
    "## 遞迴\n",
    "在整理不平整(uneven)的資料時很方便"
   ]
  },
  {
   "cell_type": "code",
   "execution_count": 11,
   "metadata": {},
   "outputs": [
    {
     "data": {
      "text/plain": [
       "<generator object flatten at 0x105256e40>"
      ]
     },
     "execution_count": 11,
     "metadata": {},
     "output_type": "execute_result"
    }
   ],
   "source": [
    "def flatten(li):\n",
    "    for item in li:\n",
    "        if isinstance(item, list):\n",
    "            for subitem in flatten(item):\n",
    "                yield subitem\n",
    "        else:\n",
    "            yield item\n",
    "            \n",
    "lol = [1, 2, [3,4,5], [6, [7,8,9], []]]\n",
    "flatten(lol)"
   ]
  },
  {
   "cell_type": "code",
   "execution_count": 13,
   "metadata": {},
   "outputs": [
    {
     "data": {
      "text/plain": [
       "[1, 2, 3, 4, 5, 6, 7, 8, 9]"
      ]
     },
     "execution_count": 13,
     "metadata": {},
     "output_type": "execute_result"
    }
   ],
   "source": [
    "list(flatten(lol))"
   ]
  },
  {
   "cell_type": "markdown",
   "metadata": {},
   "source": [
    "### `yield from`\n",
    "將產生器丟給另一個產生器"
   ]
  },
  {
   "cell_type": "code",
   "execution_count": 18,
   "metadata": {},
   "outputs": [
    {
     "data": {
      "text/plain": [
       "[1, 2, 3, 4, 5, 6, 7, 8, 9]"
      ]
     },
     "execution_count": 18,
     "metadata": {},
     "output_type": "execute_result"
    }
   ],
   "source": [
    "def flatten(li):\n",
    "    for item in li:\n",
    "        if isinstance(item, list):\n",
    "            yield from flatten(item)\n",
    "        else:\n",
    "            yield item\n",
    "            \n",
    "lol2 = [1, 2, [3,4,5], [6, [7,8,9], []]]            \n",
    "list(flatten(lol2))"
   ]
  },
  {
   "cell_type": "markdown",
   "metadata": {},
   "source": [
    "## 非同步函式\n",
    "因為議題太大換另一個單元提"
   ]
  },
  {
   "cell_type": "markdown",
   "metadata": {},
   "source": [
    "## 例外\n",
    "用 `try` or `except`, `raise` 來處理錯誤"
   ]
  },
  {
   "cell_type": "code",
   "execution_count": 21,
   "metadata": {},
   "outputs": [
    {
     "name": "stdout",
     "output_type": "stream",
     "text": [
      "Position [q to quit]? 1\n",
      "2\n",
      "Position [q to quit]? aa\n",
      "handle exception: invalid literal for int() with base 10: 'aa'\n",
      "Position [q to quit]? 5\n",
      "handle IndexError: list index out of range\n",
      "Position [q to quit]? q\n"
     ]
    }
   ],
   "source": [
    "short_list = [1, 2, 3]\n",
    "while True:\n",
    "    value = input('Position [q to quit]? ')\n",
    "    if value == 'q':\n",
    "        break\n",
    "        \n",
    "    try:\n",
    "        position = int(value)\n",
    "        print(short_list[position])\n",
    "    except IndexError as ex:\n",
    "        print('handle IndexError:', ex)\n",
    "    except Exception as ex:\n",
    "        print('handle exception:', ex)"
   ]
  },
  {
   "cell_type": "markdown",
   "metadata": {},
   "source": [
    "## 自定義例外\n"
   ]
  },
  {
   "cell_type": "code",
   "execution_count": 22,
   "metadata": {},
   "outputs": [
    {
     "ename": "UppercaseException",
     "evalue": "BB",
     "output_type": "error",
     "traceback": [
      "\u001b[0;31m---------------------------------------------------------------------------\u001b[0m",
      "\u001b[0;31mUppercaseException\u001b[0m                        Traceback (most recent call last)",
      "\u001b[0;32m<ipython-input-22-6edf2c8f9c49>\u001b[0m in \u001b[0;36m<module>\u001b[0;34m\u001b[0m\n\u001b[1;32m      5\u001b[0m \u001b[0;32mfor\u001b[0m \u001b[0mword\u001b[0m \u001b[0;32min\u001b[0m \u001b[0mwords\u001b[0m\u001b[0;34m:\u001b[0m\u001b[0;34m\u001b[0m\u001b[0;34m\u001b[0m\u001b[0m\n\u001b[1;32m      6\u001b[0m     \u001b[0;32mif\u001b[0m \u001b[0mword\u001b[0m\u001b[0;34m.\u001b[0m\u001b[0misupper\u001b[0m\u001b[0;34m(\u001b[0m\u001b[0;34m)\u001b[0m\u001b[0;34m:\u001b[0m\u001b[0;34m\u001b[0m\u001b[0;34m\u001b[0m\u001b[0m\n\u001b[0;32m----> 7\u001b[0;31m         \u001b[0;32mraise\u001b[0m \u001b[0mUppercaseException\u001b[0m\u001b[0;34m(\u001b[0m\u001b[0mword\u001b[0m\u001b[0;34m)\u001b[0m\u001b[0;34m\u001b[0m\u001b[0;34m\u001b[0m\u001b[0m\n\u001b[0m",
      "\u001b[0;31mUppercaseException\u001b[0m: BB"
     ]
    }
   ],
   "source": [
    "class UppercaseException(Exception):\n",
    "    pass\n",
    "\n",
    "words = ['aa', 'BB']\n",
    "for word in words:\n",
    "    if word.isupper():\n",
    "        raise UppercaseException(word)"
   ]
  },
  {
   "cell_type": "code",
   "execution_count": 25,
   "metadata": {},
   "outputs": [
    {
     "name": "stdout",
     "output_type": "stream",
     "text": [
      "UppercaseException exception test\n"
     ]
    }
   ],
   "source": [
    "try:\n",
    "    raise UppercaseException('UppercaseException exception test')\n",
    "except UppercaseException as ex:\n",
    "    print(ex)"
   ]
  },
  {
   "cell_type": "code",
   "execution_count": null,
   "metadata": {},
   "outputs": [],
   "source": []
  }
 ],
 "metadata": {
  "kernelspec": {
   "display_name": "Python 3",
   "language": "python",
   "name": "python3"
  },
  "language_info": {
   "codemirror_mode": {
    "name": "ipython",
    "version": 3
   },
   "file_extension": ".py",
   "mimetype": "text/x-python",
   "name": "python",
   "nbconvert_exporter": "python",
   "pygments_lexer": "ipython3",
   "version": "3.8.3"
  }
 },
 "nbformat": 4,
 "nbformat_minor": 5
}
