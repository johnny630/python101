{
 "cells": [
  {
   "cell_type": "markdown",
   "id": "sought-praise",
   "metadata": {},
   "source": [
    "# Function 函式  `def`"
   ]
  },
  {
   "cell_type": "markdown",
   "id": "sophisticated-castle",
   "metadata": {},
   "source": [
    "## 呼叫函式 `()`"
   ]
  },
  {
   "cell_type": "code",
   "execution_count": 1,
   "id": "whole-curve",
   "metadata": {},
   "outputs": [
    {
     "name": "stdout",
     "output_type": "stream",
     "text": [
      "function\n"
     ]
    }
   ],
   "source": [
    "def function():\n",
    "    print('function')\n",
    "    \n",
    "function()"
   ]
  },
  {
   "cell_type": "markdown",
   "id": "cellular-fossil",
   "metadata": {},
   "source": [
    "## 引數與參數\n",
    "引數的順序:\n",
    "1. 必須的位置引數\n",
    "2. 選用的位置引數 *args\n",
    "3. 選用的關鍵字引數 **kwargs"
   ]
  },
  {
   "cell_type": "code",
   "execution_count": 2,
   "id": "lovely-garlic",
   "metadata": {},
   "outputs": [
    {
     "name": "stdout",
     "output_type": "stream",
     "text": [
      "None is None\n",
      "0 is False\n",
      "1 is True\n"
     ]
    }
   ],
   "source": [
    "def whatis(it):\n",
    "    if it is None:\n",
    "        print(it, \"is None\")\n",
    "    elif it:\n",
    "        print(it, \"is True\")\n",
    "    else:\n",
    "        print(it, \"is False\")\n",
    "        \n",
    "whatis(None)\n",
    "whatis(0)\n",
    "whatis(1)"
   ]
  },
  {
   "cell_type": "markdown",
   "id": "presidential-tradition",
   "metadata": {},
   "source": [
    "### 引數位置"
   ]
  },
  {
   "cell_type": "code",
   "execution_count": 8,
   "id": "reduced-projection",
   "metadata": {},
   "outputs": [
    {
     "name": "stdout",
     "output_type": "stream",
     "text": [
      "{'a': 1, 'b': 2, 'c': 3}\n",
      "{'a': 1, 'b': 3, 'c': 5}\n",
      "{'a': 1, 'b': 2, 'c': 3}\n"
     ]
    }
   ],
   "source": [
    "def test(a, b, c):\n",
    "    return {'a': a, 'b': b, 'c': c}\n",
    "\n",
    "#直接照順序傳\n",
    "print(test(1, 2, 3))\n",
    "\n",
    "#指定引數名\n",
    "print(test(a=1, b=3, c=5))\n",
    "print(test(1, 2, c=3))\n"
   ]
  },
  {
   "cell_type": "markdown",
   "id": "fifth-simulation",
   "metadata": {},
   "source": [
    "### 引數預設值\n",
    "引數預設值是在定義時決定的，不是在執行時。"
   ]
  },
  {
   "cell_type": "code",
   "execution_count": 13,
   "id": "turned-hindu",
   "metadata": {},
   "outputs": [
    {
     "name": "stdout",
     "output_type": "stream",
     "text": [
      "{'a': 1, 'b': 2, 'c': [1]}\n",
      "{'a': 3, 'b': 4, 'c': [1, 3]}\n"
     ]
    }
   ],
   "source": [
    "# 因為引數預設值是在定義時決定的，不是在執行時。\n",
    "# 所以c 會有問題\n",
    "def test(a, b, c=[]):\n",
    "    c.append(a)\n",
    "    return {'a': a, 'b': b, 'c': c}\n",
    "\n",
    "print(test(1, 2))\n",
    "print(test(3, 4))"
   ]
  },
  {
   "cell_type": "code",
   "execution_count": 15,
   "id": "elect-bradley",
   "metadata": {},
   "outputs": [
    {
     "name": "stdout",
     "output_type": "stream",
     "text": [
      "{'a': 1, 'b': 2, 'c': [1]}\n",
      "{'a': 3, 'b': 4, 'c': [3]}\n"
     ]
    }
   ],
   "source": [
    "# 或許可以revise\n",
    "def test(a, b, c=None):\n",
    "    if c is None:\n",
    "        c = []\n",
    "    \n",
    "    c.append(a)\n",
    "    return {'a': a, 'b': b, 'c': c}\n",
    "\n",
    "print(test(1, 2))\n",
    "print(test(3, 4))"
   ]
  },
  {
   "cell_type": "markdown",
   "id": "subsequent-involvement",
   "metadata": {},
   "source": [
    "### 炸開/收集 引數  `*`, `**`"
   ]
  },
  {
   "cell_type": "code",
   "execution_count": 22,
   "id": "located-spray",
   "metadata": {},
   "outputs": [
    {
     "name": "stdout",
     "output_type": "stream",
     "text": [
      "Positional tuple: ()\n",
      "Positional tuple: (1, 2, 3, 4)\n",
      "Positional tuple: ([1, 2, 3, 4],)\n",
      "Positional tuple: (1, 2, 3, 4)\n"
     ]
    }
   ],
   "source": [
    "def print_args(*args):\n",
    "    print('Positional tuple:', args)\n",
    "    \n",
    "print_args()\n",
    "print_args(1,2,3,4)\n",
    "args = [1,2,3,4]\n",
    "print_args(args)\n",
    "print_args(*args)\n",
    "# print_args(a=1, b=2) TypeError: print_args() got an unexpected keyword argument 'a'"
   ]
  },
  {
   "cell_type": "code",
   "execution_count": 24,
   "id": "blond-senate",
   "metadata": {},
   "outputs": [
    {
     "name": "stdout",
     "output_type": "stream",
     "text": [
      "Positional tuple: (3, 4)\n",
      "Positional tuple: (3, 4)\n"
     ]
    }
   ],
   "source": [
    "def print_args(a, b, *args):\n",
    "    print('Positional tuple:', args)\n",
    "    \n",
    "print_args(1,2,3,4)\n",
    "args = [1,2,3,4]\n",
    "print_args(*args)"
   ]
  },
  {
   "cell_type": "code",
   "execution_count": 30,
   "id": "hundred-savage",
   "metadata": {},
   "outputs": [
    {
     "name": "stdout",
     "output_type": "stream",
     "text": [
      "keyword arguments: {}\n",
      "keyword arguments: {'a': 1, 'b': 2, 'c': 3}\n",
      "keyword arguments: {'a': 1, 'b': 2, 'c': 3}\n"
     ]
    }
   ],
   "source": [
    "def print_kwargs(**kwargs):\n",
    "    print('keyword arguments:', kwargs)\n",
    "    \n",
    "print_kwargs()\n",
    "print_kwargs(a=1, b=2, c=3)\n",
    "kwargs = {'a':1 , 'b':2, 'c':3}\n",
    "# print_kwargs(kwargs) error\n",
    "print_kwargs(**kwargs)"
   ]
  },
  {
   "cell_type": "markdown",
   "id": "chronic-drink",
   "metadata": {},
   "source": [
    "### 純關鍵字引數  `*`\n",
    "`*`後面必須用具名引數來傳"
   ]
  },
  {
   "cell_type": "code",
   "execution_count": 34,
   "id": "blank-muslim",
   "metadata": {},
   "outputs": [
    {
     "name": "stdout",
     "output_type": "stream",
     "text": [
      "['a', 'b', 'c', 'd', 'e']\n",
      "['b', 'c', 'd', 'e']\n"
     ]
    }
   ],
   "source": [
    "def print_data(data, *, start=0, end=100):\n",
    "    print(data[start:end])\n",
    "    \n",
    "data = ['a', 'b', 'c', 'd', 'e']\n",
    "print_data(data)\n",
    "print_data(data, start=1)"
   ]
  },
  {
   "cell_type": "markdown",
   "id": "activated-piano",
   "metadata": {},
   "source": [
    "## Docstrings"
   ]
  },
  {
   "cell_type": "code",
   "execution_count": 36,
   "id": "ahead-shield",
   "metadata": {},
   "outputs": [
    {
     "name": "stdout",
     "output_type": "stream",
     "text": [
      "Help on function add_me in module __main__:\n",
      "\n",
      "add_me(a, b)\n",
      "    This is docstring test add_me (reST style)\n",
      "    \n",
      "    :param a: first number arg.\n",
      "    :param b: 2nd number arg.\n",
      "    :returns: return 2 number add.\n",
      "    :raises: none\n",
      "    \n",
      "    >>> add_me(1, 2)\n",
      "    3\n",
      "\n"
     ]
    }
   ],
   "source": [
    "# Docstring style https://kknews.cc/zh-tw/tech/m392x46.html\n",
    "# Docstring test https://www.osgeo.cn/cpython/library/doctest.html\n",
    "# python -m doctest -v xxxxxx.py\n",
    "def add_me(a, b):\n",
    "    '''\n",
    "    This is docstring test add_me (reST style)\n",
    "    \n",
    "    :param a: first number arg.\n",
    "    :param b: 2nd number arg.\n",
    "    :returns: return 2 number add.\n",
    "    :raises: none\n",
    "    \n",
    "    >>> add_me(1, 2)\n",
    "    3\n",
    "    '''\n",
    "    return a + b\n",
    "\n",
    "help(add_me)"
   ]
  },
  {
   "cell_type": "code",
   "execution_count": 37,
   "id": "artificial-termination",
   "metadata": {},
   "outputs": [
    {
     "name": "stdout",
     "output_type": "stream",
     "text": [
      "\n",
      "    This is docstring test add_me (reST style)\n",
      "    \n",
      "    :param a: first number arg.\n",
      "    :param b: 2nd number arg.\n",
      "    :returns: return 2 number add.\n",
      "    :raises: none\n",
      "    \n",
      "    >>> add_me(1, 2)\n",
      "    3\n",
      "    \n"
     ]
    }
   ],
   "source": [
    "print(add_me.__doc__)"
   ]
  },
  {
   "cell_type": "markdown",
   "id": "chinese-denver",
   "metadata": {},
   "source": [
    "## 函式是一級公民\n",
    "一切都是物件, function也可以當變數"
   ]
  },
  {
   "cell_type": "code",
   "execution_count": 40,
   "id": "explicit-listing",
   "metadata": {},
   "outputs": [
    {
     "data": {
      "text/plain": [
       "5"
      ]
     },
     "execution_count": 40,
     "metadata": {},
     "output_type": "execute_result"
    }
   ],
   "source": [
    "def run_function_with_args(func, *args):\n",
    "    return func(*args)\n",
    "    \n",
    "def add_my(a, b):\n",
    "    return a + b\n",
    "\n",
    "run_function_with_args(add_my, 2, 3)"
   ]
  },
  {
   "cell_type": "code",
   "execution_count": null,
   "id": "global-saturn",
   "metadata": {},
   "outputs": [],
   "source": []
  }
 ],
 "metadata": {
  "kernelspec": {
   "display_name": "Python 3",
   "language": "python",
   "name": "python3"
  },
  "language_info": {
   "codemirror_mode": {
    "name": "ipython",
    "version": 3
   },
   "file_extension": ".py",
   "mimetype": "text/x-python",
   "name": "python",
   "nbconvert_exporter": "python",
   "pygments_lexer": "ipython3",
   "version": "3.9.1"
  }
 },
 "nbformat": 4,
 "nbformat_minor": 5
}
